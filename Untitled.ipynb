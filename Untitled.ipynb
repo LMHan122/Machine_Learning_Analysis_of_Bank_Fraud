{
 "cells": [
  {
   "cell_type": "code",
   "execution_count": 9,
   "id": "5b23e0a8-6801-4eed-8af2-d85c3ac5a83c",
   "metadata": {},
   "outputs": [],
   "source": [
    "import pandas as pd\n",
    "import os"
   ]
  },
  {
   "cell_type": "code",
   "execution_count": 6,
   "id": "e0bf634c-fb26-42d2-b028-11e57e26aabf",
   "metadata": {},
   "outputs": [
    {
     "name": "stderr",
     "output_type": "stream",
     "text": [
      "wandb: Using wandb-core as the SDK backend.  Please refer to https://wandb.me/wandb-core for more information.\n",
      "wandb: Currently logged in as: lhan122 (lhan122-student). Use `wandb login --relogin` to force relogin\n"
     ]
    },
    {
     "data": {
      "text/html": [
       "Tracking run with wandb version 0.18.7"
      ],
      "text/plain": [
       "<IPython.core.display.HTML object>"
      ]
     },
     "metadata": {},
     "output_type": "display_data"
    },
    {
     "data": {
      "text/html": [
       "Run data is saved locally in <code>C:\\Users\\eelil\\OneDrive\\Desktop\\Capstone\\Machine_Learning_Analysis_of_Bank_Fraud\\wandb\\run-20241210_001859-pv4heqge</code>"
      ],
      "text/plain": [
       "<IPython.core.display.HTML object>"
      ]
     },
     "metadata": {},
     "output_type": "display_data"
    },
    {
     "data": {
      "text/html": [
       "Syncing run <strong><a href='https://wandb.ai/lhan122-student/Machine_Learning_Analysis_of_Bank_Fraud/runs/pv4heqge' target=\"_blank\">smart-flower-5</a></strong> to <a href='https://wandb.ai/lhan122-student/Machine_Learning_Analysis_of_Bank_Fraud' target=\"_blank\">Weights & Biases</a> (<a href='https://wandb.me/developer-guide' target=\"_blank\">docs</a>)<br/>"
      ],
      "text/plain": [
       "<IPython.core.display.HTML object>"
      ]
     },
     "metadata": {},
     "output_type": "display_data"
    },
    {
     "data": {
      "text/html": [
       " View project at <a href='https://wandb.ai/lhan122-student/Machine_Learning_Analysis_of_Bank_Fraud' target=\"_blank\">https://wandb.ai/lhan122-student/Machine_Learning_Analysis_of_Bank_Fraud</a>"
      ],
      "text/plain": [
       "<IPython.core.display.HTML object>"
      ]
     },
     "metadata": {},
     "output_type": "display_data"
    },
    {
     "data": {
      "text/html": [
       " View run at <a href='https://wandb.ai/lhan122-student/Machine_Learning_Analysis_of_Bank_Fraud/runs/pv4heqge' target=\"_blank\">https://wandb.ai/lhan122-student/Machine_Learning_Analysis_of_Bank_Fraud/runs/pv4heqge</a>"
      ],
      "text/plain": [
       "<IPython.core.display.HTML object>"
      ]
     },
     "metadata": {},
     "output_type": "display_data"
    },
    {
     "name": "stderr",
     "output_type": "stream",
     "text": [
      "wandb: Downloading large artifact final_credit_card_data:v0, 104.22MB. 1 files... \n",
      "wandb:   1 of 1 files downloaded.  \n",
      "Done. 0:0:4.1\n"
     ]
    }
   ],
   "source": [
    "import wandb\n",
    "run = wandb.init()\n",
    "artifact = run.use_artifact('lhan122-student/credit_card_fraud/final_credit_card_data:v0', type='dataset')\n",
    "artifact_dir = artifact.download()"
   ]
  },
  {
   "cell_type": "code",
   "execution_count": 10,
   "id": "e610e5ec-b382-4d7a-969f-783a8a4858bd",
   "metadata": {},
   "outputs": [],
   "source": [
    "file_path = os.path.join(artifact_dir, \"final_credit_card_fraud.parquet\")\n",
    "df = pd.read_parquet(file_path)"
   ]
  },
  {
   "cell_type": "code",
   "execution_count": 11,
   "id": "33b67860-7b11-4afd-9a48-a0cf858bb5ef",
   "metadata": {},
   "outputs": [
    {
     "data": {
      "text/html": [
       "<div>\n",
       "<style scoped>\n",
       "    .dataframe tbody tr th:only-of-type {\n",
       "        vertical-align: middle;\n",
       "    }\n",
       "\n",
       "    .dataframe tbody tr th {\n",
       "        vertical-align: top;\n",
       "    }\n",
       "\n",
       "    .dataframe thead th {\n",
       "        text-align: right;\n",
       "    }\n",
       "</style>\n",
       "<table border=\"1\" class=\"dataframe\">\n",
       "  <thead>\n",
       "    <tr style=\"text-align: right;\">\n",
       "      <th></th>\n",
       "      <th>trans_dt</th>\n",
       "      <th>cc_num</th>\n",
       "      <th>merchant</th>\n",
       "      <th>category</th>\n",
       "      <th>amt</th>\n",
       "      <th>state</th>\n",
       "      <th>lat</th>\n",
       "      <th>long</th>\n",
       "      <th>job</th>\n",
       "      <th>dob</th>\n",
       "      <th>...</th>\n",
       "      <th>day</th>\n",
       "      <th>quarter</th>\n",
       "      <th>week</th>\n",
       "      <th>day_of_week</th>\n",
       "      <th>time</th>\n",
       "      <th>hour</th>\n",
       "      <th>trans_by_last_hr</th>\n",
       "      <th>trans_by_last_day</th>\n",
       "      <th>amt_by_last_hr</th>\n",
       "      <th>age_at_trans</th>\n",
       "    </tr>\n",
       "  </thead>\n",
       "  <tbody>\n",
       "    <tr>\n",
       "      <th>0</th>\n",
       "      <td>2019-01-01 12:47:15</td>\n",
       "      <td>60416207185</td>\n",
       "      <td>fraud_Jones, Sawayn and Romaguera</td>\n",
       "      <td>misc_net</td>\n",
       "      <td>7.27</td>\n",
       "      <td>WY</td>\n",
       "      <td>43.0048</td>\n",
       "      <td>-108.8964</td>\n",
       "      <td>None</td>\n",
       "      <td>1986-02-17</td>\n",
       "      <td>...</td>\n",
       "      <td>1</td>\n",
       "      <td>1</td>\n",
       "      <td>1</td>\n",
       "      <td>1</td>\n",
       "      <td>12:47:15</td>\n",
       "      <td>12</td>\n",
       "      <td>3.0</td>\n",
       "      <td>5.0</td>\n",
       "      <td>203.48</td>\n",
       "      <td>32.870637</td>\n",
       "    </tr>\n",
       "    <tr>\n",
       "      <th>1</th>\n",
       "      <td>2019-01-02 08:44:57</td>\n",
       "      <td>60416207185</td>\n",
       "      <td>fraud_Berge LLC</td>\n",
       "      <td>gas_transport</td>\n",
       "      <td>52.94</td>\n",
       "      <td>WY</td>\n",
       "      <td>43.0048</td>\n",
       "      <td>-108.8964</td>\n",
       "      <td>None</td>\n",
       "      <td>1986-02-17</td>\n",
       "      <td>...</td>\n",
       "      <td>2</td>\n",
       "      <td>1</td>\n",
       "      <td>1</td>\n",
       "      <td>2</td>\n",
       "      <td>08:44:57</td>\n",
       "      <td>8</td>\n",
       "      <td>1.0</td>\n",
       "      <td>1.0</td>\n",
       "      <td>10.95</td>\n",
       "      <td>32.873374</td>\n",
       "    </tr>\n",
       "    <tr>\n",
       "      <th>2</th>\n",
       "      <td>2019-01-02 08:47:36</td>\n",
       "      <td>60416207185</td>\n",
       "      <td>fraud_Luettgen PLC</td>\n",
       "      <td>gas_transport</td>\n",
       "      <td>82.08</td>\n",
       "      <td>WY</td>\n",
       "      <td>43.0048</td>\n",
       "      <td>-108.8964</td>\n",
       "      <td>None</td>\n",
       "      <td>1986-02-17</td>\n",
       "      <td>...</td>\n",
       "      <td>2</td>\n",
       "      <td>1</td>\n",
       "      <td>1</td>\n",
       "      <td>2</td>\n",
       "      <td>08:47:36</td>\n",
       "      <td>8</td>\n",
       "      <td>1.0</td>\n",
       "      <td>3.0</td>\n",
       "      <td>33.77</td>\n",
       "      <td>32.873374</td>\n",
       "    </tr>\n",
       "    <tr>\n",
       "      <th>3</th>\n",
       "      <td>2019-01-02 12:38:14</td>\n",
       "      <td>60416207185</td>\n",
       "      <td>fraud_Daugherty LLC</td>\n",
       "      <td>kids_pets</td>\n",
       "      <td>34.79</td>\n",
       "      <td>WY</td>\n",
       "      <td>43.0048</td>\n",
       "      <td>-108.8964</td>\n",
       "      <td>None</td>\n",
       "      <td>1986-02-17</td>\n",
       "      <td>...</td>\n",
       "      <td>2</td>\n",
       "      <td>1</td>\n",
       "      <td>1</td>\n",
       "      <td>2</td>\n",
       "      <td>12:38:14</td>\n",
       "      <td>12</td>\n",
       "      <td>1.0</td>\n",
       "      <td>3.0</td>\n",
       "      <td>653.11</td>\n",
       "      <td>32.873374</td>\n",
       "    </tr>\n",
       "    <tr>\n",
       "      <th>4</th>\n",
       "      <td>2019-01-02 13:10:46</td>\n",
       "      <td>60416207185</td>\n",
       "      <td>fraud_Beier and Sons</td>\n",
       "      <td>home</td>\n",
       "      <td>27.18</td>\n",
       "      <td>WY</td>\n",
       "      <td>43.0048</td>\n",
       "      <td>-108.8964</td>\n",
       "      <td>None</td>\n",
       "      <td>1986-02-17</td>\n",
       "      <td>...</td>\n",
       "      <td>2</td>\n",
       "      <td>1</td>\n",
       "      <td>1</td>\n",
       "      <td>2</td>\n",
       "      <td>13:10:46</td>\n",
       "      <td>13</td>\n",
       "      <td>1.0</td>\n",
       "      <td>3.0</td>\n",
       "      <td>106.58</td>\n",
       "      <td>32.873374</td>\n",
       "    </tr>\n",
       "  </tbody>\n",
       "</table>\n",
       "<p>5 rows × 32 columns</p>\n",
       "</div>"
      ],
      "text/plain": [
       "             trans_dt       cc_num                           merchant  \\\n",
       "0 2019-01-01 12:47:15  60416207185  fraud_Jones, Sawayn and Romaguera   \n",
       "1 2019-01-02 08:44:57  60416207185                    fraud_Berge LLC   \n",
       "2 2019-01-02 08:47:36  60416207185                 fraud_Luettgen PLC   \n",
       "3 2019-01-02 12:38:14  60416207185                fraud_Daugherty LLC   \n",
       "4 2019-01-02 13:10:46  60416207185               fraud_Beier and Sons   \n",
       "\n",
       "        category    amt state      lat      long   job        dob  ... day  \\\n",
       "0       misc_net   7.27    WY  43.0048 -108.8964  None 1986-02-17  ...   1   \n",
       "1  gas_transport  52.94    WY  43.0048 -108.8964  None 1986-02-17  ...   2   \n",
       "2  gas_transport  82.08    WY  43.0048 -108.8964  None 1986-02-17  ...   2   \n",
       "3      kids_pets  34.79    WY  43.0048 -108.8964  None 1986-02-17  ...   2   \n",
       "4           home  27.18    WY  43.0048 -108.8964  None 1986-02-17  ...   2   \n",
       "\n",
       "   quarter  week  day_of_week      time  hour  trans_by_last_hr  \\\n",
       "0        1     1            1  12:47:15    12               3.0   \n",
       "1        1     1            2  08:44:57     8               1.0   \n",
       "2        1     1            2  08:47:36     8               1.0   \n",
       "3        1     1            2  12:38:14    12               1.0   \n",
       "4        1     1            2  13:10:46    13               1.0   \n",
       "\n",
       "   trans_by_last_day  amt_by_last_hr age_at_trans  \n",
       "0                5.0          203.48    32.870637  \n",
       "1                1.0           10.95    32.873374  \n",
       "2                3.0           33.77    32.873374  \n",
       "3                3.0          653.11    32.873374  \n",
       "4                3.0          106.58    32.873374  \n",
       "\n",
       "[5 rows x 32 columns]"
      ]
     },
     "execution_count": 11,
     "metadata": {},
     "output_type": "execute_result"
    }
   ],
   "source": [
    "df.head()"
   ]
  },
  {
   "cell_type": "code",
   "execution_count": null,
   "id": "e2dd74e6-1d52-40d2-b311-03a8f9a0a86d",
   "metadata": {},
   "outputs": [],
   "source": []
  }
 ],
 "metadata": {
  "kernelspec": {
   "display_name": "Python 3 (ipykernel)",
   "language": "python",
   "name": "python3"
  },
  "language_info": {
   "codemirror_mode": {
    "name": "ipython",
    "version": 3
   },
   "file_extension": ".py",
   "mimetype": "text/x-python",
   "name": "python",
   "nbconvert_exporter": "python",
   "pygments_lexer": "ipython3",
   "version": "3.12.3"
  }
 },
 "nbformat": 4,
 "nbformat_minor": 5
}
