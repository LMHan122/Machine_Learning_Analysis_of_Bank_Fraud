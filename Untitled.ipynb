{
 "cells": [
  {
   "cell_type": "code",
   "execution_count": 1,
   "id": "1791fa88-b0fd-4a4e-8832-312f9b1420c5",
   "metadata": {},
   "outputs": [
    {
     "name": "stderr",
     "output_type": "stream",
     "text": [
      "wandb: Using wandb-core as the SDK backend.  Please refer to https://wandb.me/wandb-core for more information.\n",
      "wandb: Currently logged in as: lhan122 (lhan122-student). Use `wandb login --relogin` to force relogin\n"
     ]
    },
    {
     "data": {
      "text/html": [
       "Tracking run with wandb version 0.18.7"
      ],
      "text/plain": [
       "<IPython.core.display.HTML object>"
      ]
     },
     "metadata": {},
     "output_type": "display_data"
    },
    {
     "data": {
      "text/html": [
       "Run data is saved locally in <code>C:\\Users\\eelil\\OneDrive\\Desktop\\Capstone\\Machine_Learning_Analysis_of_Bank_Fraud\\wandb\\run-20241210_174424-suhlt8um</code>"
      ],
      "text/plain": [
       "<IPython.core.display.HTML object>"
      ]
     },
     "metadata": {},
     "output_type": "display_data"
    },
    {
     "data": {
      "text/html": [
       "Syncing run <strong><a href='https://wandb.ai/lhan122-student/Machine_Learning_Analysis_of_Bank_Fraud/runs/suhlt8um' target=\"_blank\">sweet-elevator-6</a></strong> to <a href='https://wandb.ai/lhan122-student/Machine_Learning_Analysis_of_Bank_Fraud' target=\"_blank\">Weights & Biases</a> (<a href='https://wandb.me/developer-guide' target=\"_blank\">docs</a>)<br/>"
      ],
      "text/plain": [
       "<IPython.core.display.HTML object>"
      ]
     },
     "metadata": {},
     "output_type": "display_data"
    },
    {
     "data": {
      "text/html": [
       " View project at <a href='https://wandb.ai/lhan122-student/Machine_Learning_Analysis_of_Bank_Fraud' target=\"_blank\">https://wandb.ai/lhan122-student/Machine_Learning_Analysis_of_Bank_Fraud</a>"
      ],
      "text/plain": [
       "<IPython.core.display.HTML object>"
      ]
     },
     "metadata": {},
     "output_type": "display_data"
    },
    {
     "data": {
      "text/html": [
       " View run at <a href='https://wandb.ai/lhan122-student/Machine_Learning_Analysis_of_Bank_Fraud/runs/suhlt8um' target=\"_blank\">https://wandb.ai/lhan122-student/Machine_Learning_Analysis_of_Bank_Fraud/runs/suhlt8um</a>"
      ],
      "text/plain": [
       "<IPython.core.display.HTML object>"
      ]
     },
     "metadata": {},
     "output_type": "display_data"
    },
    {
     "name": "stderr",
     "output_type": "stream",
     "text": [
      "wandb:   1 of 1 files downloaded.  \n"
     ]
    }
   ],
   "source": [
    "import pandas as pd\n",
    "import wandb\n",
    "\n",
    "run = wandb.init()\n",
    "artifact = run.use_artifact(\n",
    "    \"lhan122-student/Machine_Learning_Analysis_of_Bank_Fraud-data/cust_loc_data:v0\",\n",
    "    type=\"dataset\",\n",
    ")\n",
    "artifact_dir = artifact.download()"
   ]
  },
  {
   "cell_type": "code",
   "execution_count": 2,
   "id": "96cc507f-8f2d-4d57-a1ee-4a4126789141",
   "metadata": {},
   "outputs": [],
   "source": [
    "df = pd.read_parquet(\"artifacts/cust_loc_data-v0/cust_loc.parquet\")"
   ]
  },
  {
   "cell_type": "code",
   "execution_count": 3,
   "id": "e05af8a1-72cd-46f4-b7e8-9cd4708aef3f",
   "metadata": {},
   "outputs": [
    {
     "data": {
      "text/html": [
       "<div>\n",
       "<style scoped>\n",
       "    .dataframe tbody tr th:only-of-type {\n",
       "        vertical-align: middle;\n",
       "    }\n",
       "\n",
       "    .dataframe tbody tr th {\n",
       "        vertical-align: top;\n",
       "    }\n",
       "\n",
       "    .dataframe thead th {\n",
       "        text-align: right;\n",
       "    }\n",
       "</style>\n",
       "<table border=\"1\" class=\"dataframe\">\n",
       "  <thead>\n",
       "    <tr style=\"text-align: right;\">\n",
       "      <th></th>\n",
       "      <th>city</th>\n",
       "      <th>state</th>\n",
       "      <th>lat_long</th>\n",
       "      <th>cust_lat</th>\n",
       "      <th>cust_long</th>\n",
       "    </tr>\n",
       "  </thead>\n",
       "  <tbody>\n",
       "    <tr>\n",
       "      <th>0</th>\n",
       "      <td>Moravian Falls</td>\n",
       "      <td>NC</td>\n",
       "      <td>[36.102686500000004, -81.18158238008564]</td>\n",
       "      <td>36.102687</td>\n",
       "      <td>-81.181582</td>\n",
       "    </tr>\n",
       "    <tr>\n",
       "      <th>1</th>\n",
       "      <td>Orient</td>\n",
       "      <td>WA</td>\n",
       "      <td>[48.8660142, -118.2027814]</td>\n",
       "      <td>48.866014</td>\n",
       "      <td>-118.202781</td>\n",
       "    </tr>\n",
       "    <tr>\n",
       "      <th>2</th>\n",
       "      <td>Malad City</td>\n",
       "      <td>ID</td>\n",
       "      <td>[42.1915872, -112.250798]</td>\n",
       "      <td>42.191587</td>\n",
       "      <td>-112.250798</td>\n",
       "    </tr>\n",
       "    <tr>\n",
       "      <th>3</th>\n",
       "      <td>Boulder</td>\n",
       "      <td>MT</td>\n",
       "      <td>[46.236595, -112.120834]</td>\n",
       "      <td>46.236595</td>\n",
       "      <td>-112.120834</td>\n",
       "    </tr>\n",
       "    <tr>\n",
       "      <th>4</th>\n",
       "      <td>Doe Hill</td>\n",
       "      <td>VA</td>\n",
       "      <td>[38.4320658, -79.4444882]</td>\n",
       "      <td>38.432066</td>\n",
       "      <td>-79.444488</td>\n",
       "    </tr>\n",
       "  </tbody>\n",
       "</table>\n",
       "</div>"
      ],
      "text/plain": [
       "             city state                                  lat_long   cust_lat  \\\n",
       "0  Moravian Falls    NC  [36.102686500000004, -81.18158238008564]  36.102687   \n",
       "1          Orient    WA                [48.8660142, -118.2027814]  48.866014   \n",
       "2      Malad City    ID                 [42.1915872, -112.250798]  42.191587   \n",
       "3         Boulder    MT                  [46.236595, -112.120834]  46.236595   \n",
       "4        Doe Hill    VA                 [38.4320658, -79.4444882]  38.432066   \n",
       "\n",
       "    cust_long  \n",
       "0  -81.181582  \n",
       "1 -118.202781  \n",
       "2 -112.250798  \n",
       "3 -112.120834  \n",
       "4  -79.444488  "
      ]
     },
     "execution_count": 3,
     "metadata": {},
     "output_type": "execute_result"
    }
   ],
   "source": [
    "df.head()"
   ]
  },
  {
   "cell_type": "code",
   "execution_count": 4,
   "id": "1ad9e507-4157-47dd-90cb-5340c2c17dc7",
   "metadata": {},
   "outputs": [
    {
     "data": {
      "text/html": [
       " View run <strong style=\"color:#cdcd00\">sweet-elevator-6</strong> at: <a href='https://wandb.ai/lhan122-student/Machine_Learning_Analysis_of_Bank_Fraud/runs/suhlt8um' target=\"_blank\">https://wandb.ai/lhan122-student/Machine_Learning_Analysis_of_Bank_Fraud/runs/suhlt8um</a><br/> View project at: <a href='https://wandb.ai/lhan122-student/Machine_Learning_Analysis_of_Bank_Fraud' target=\"_blank\">https://wandb.ai/lhan122-student/Machine_Learning_Analysis_of_Bank_Fraud</a><br/>Synced 4 W&B file(s), 0 media file(s), 3 artifact file(s) and 0 other file(s)"
      ],
      "text/plain": [
       "<IPython.core.display.HTML object>"
      ]
     },
     "metadata": {},
     "output_type": "display_data"
    },
    {
     "data": {
      "text/html": [
       "Find logs at: <code>.\\wandb\\run-20241210_174424-suhlt8um\\logs</code>"
      ],
      "text/plain": [
       "<IPython.core.display.HTML object>"
      ]
     },
     "metadata": {},
     "output_type": "display_data"
    }
   ],
   "source": [
    "run.finish()"
   ]
  },
  {
   "cell_type": "code",
   "execution_count": null,
   "id": "d25ed26a-0f04-4078-bdce-b835da0811aa",
   "metadata": {},
   "outputs": [],
   "source": []
  }
 ],
 "metadata": {
  "kernelspec": {
   "display_name": "Python 3 (ipykernel)",
   "language": "python",
   "name": "python3"
  },
  "language_info": {
   "codemirror_mode": {
    "name": "ipython",
    "version": 3
   },
   "file_extension": ".py",
   "mimetype": "text/x-python",
   "name": "python",
   "nbconvert_exporter": "python",
   "pygments_lexer": "ipython3",
   "version": "3.12.3"
  }
 },
 "nbformat": 4,
 "nbformat_minor": 5
}
