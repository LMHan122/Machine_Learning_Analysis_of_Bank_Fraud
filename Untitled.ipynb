{
 "cells": [
  {
   "cell_type": "code",
   "execution_count": 1,
   "id": "5b23e0a8-6801-4eed-8af2-d85c3ac5a83c",
   "metadata": {},
   "outputs": [],
   "source": [
    "import pandas as pd\n"
   ]
  },
  {
   "cell_type": "code",
   "execution_count": 4,
   "id": "e610e5ec-b382-4d7a-969f-783a8a4858bd",
   "metadata": {},
   "outputs": [],
   "source": [
    "df = pd.read_parquet(r'C:\\Users\\eelil\\OneDrive\\Desktop\\Capstone\\Machine_Learning_Analysis_of_Bank_Fraud\\cust_loc.parquet')"
   ]
  },
  {
   "cell_type": "code",
   "execution_count": 5,
   "id": "33b67860-7b11-4afd-9a48-a0cf858bb5ef",
   "metadata": {},
   "outputs": [
    {
     "data": {
      "text/html": [
       "<div>\n",
       "<style scoped>\n",
       "    .dataframe tbody tr th:only-of-type {\n",
       "        vertical-align: middle;\n",
       "    }\n",
       "\n",
       "    .dataframe tbody tr th {\n",
       "        vertical-align: top;\n",
       "    }\n",
       "\n",
       "    .dataframe thead th {\n",
       "        text-align: right;\n",
       "    }\n",
       "</style>\n",
       "<table border=\"1\" class=\"dataframe\">\n",
       "  <thead>\n",
       "    <tr style=\"text-align: right;\">\n",
       "      <th></th>\n",
       "      <th>city</th>\n",
       "      <th>state</th>\n",
       "      <th>lat_long</th>\n",
       "      <th>cust_lat</th>\n",
       "      <th>cust_long</th>\n",
       "    </tr>\n",
       "  </thead>\n",
       "  <tbody>\n",
       "    <tr>\n",
       "      <th>0</th>\n",
       "      <td>Moravian Falls</td>\n",
       "      <td>NC</td>\n",
       "      <td>[36.102686500000004, -81.18158238008564]</td>\n",
       "      <td>36.102687</td>\n",
       "      <td>-81.181582</td>\n",
       "    </tr>\n",
       "    <tr>\n",
       "      <th>1</th>\n",
       "      <td>Orient</td>\n",
       "      <td>WA</td>\n",
       "      <td>[48.8660142, -118.2027814]</td>\n",
       "      <td>48.866014</td>\n",
       "      <td>-118.202781</td>\n",
       "    </tr>\n",
       "    <tr>\n",
       "      <th>2</th>\n",
       "      <td>Malad City</td>\n",
       "      <td>ID</td>\n",
       "      <td>[42.1915872, -112.250798]</td>\n",
       "      <td>42.191587</td>\n",
       "      <td>-112.250798</td>\n",
       "    </tr>\n",
       "    <tr>\n",
       "      <th>3</th>\n",
       "      <td>Boulder</td>\n",
       "      <td>MT</td>\n",
       "      <td>[46.236595, -112.120834]</td>\n",
       "      <td>46.236595</td>\n",
       "      <td>-112.120834</td>\n",
       "    </tr>\n",
       "    <tr>\n",
       "      <th>4</th>\n",
       "      <td>Doe Hill</td>\n",
       "      <td>VA</td>\n",
       "      <td>[38.4320658, -79.4444882]</td>\n",
       "      <td>38.432066</td>\n",
       "      <td>-79.444488</td>\n",
       "    </tr>\n",
       "  </tbody>\n",
       "</table>\n",
       "</div>"
      ],
      "text/plain": [
       "             city state                                  lat_long   cust_lat  \\\n",
       "0  Moravian Falls    NC  [36.102686500000004, -81.18158238008564]  36.102687   \n",
       "1          Orient    WA                [48.8660142, -118.2027814]  48.866014   \n",
       "2      Malad City    ID                 [42.1915872, -112.250798]  42.191587   \n",
       "3         Boulder    MT                  [46.236595, -112.120834]  46.236595   \n",
       "4        Doe Hill    VA                 [38.4320658, -79.4444882]  38.432066   \n",
       "\n",
       "    cust_long  \n",
       "0  -81.181582  \n",
       "1 -118.202781  \n",
       "2 -112.250798  \n",
       "3 -112.120834  \n",
       "4  -79.444488  "
      ]
     },
     "execution_count": 5,
     "metadata": {},
     "output_type": "execute_result"
    }
   ],
   "source": [
    "df.head()"
   ]
  },
  {
   "cell_type": "code",
   "execution_count": null,
   "id": "e2dd74e6-1d52-40d2-b311-03a8f9a0a86d",
   "metadata": {},
   "outputs": [],
   "source": []
  }
 ],
 "metadata": {
  "kernelspec": {
   "display_name": "Python 3 (ipykernel)",
   "language": "python",
   "name": "python3"
  },
  "language_info": {
   "codemirror_mode": {
    "name": "ipython",
    "version": 3
   },
   "file_extension": ".py",
   "mimetype": "text/x-python",
   "name": "python",
   "nbconvert_exporter": "python",
   "pygments_lexer": "ipython3",
   "version": "3.12.3"
  }
 },
 "nbformat": 4,
 "nbformat_minor": 5
}
