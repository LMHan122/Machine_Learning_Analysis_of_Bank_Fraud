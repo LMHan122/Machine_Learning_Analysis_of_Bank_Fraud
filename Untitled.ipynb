{
 "cells": [
  {
   "cell_type": "code",
   "execution_count": 1,
   "id": "0751793b-e0b4-4780-a722-836f67eb61d6",
   "metadata": {},
   "outputs": [
    {
     "name": "stderr",
     "output_type": "stream",
     "text": [
      "wandb: Using wandb-core as the SDK backend.  Please refer to https://wandb.me/wandb-core for more information.\n",
      "wandb: Currently logged in as: lhan122 (lhan122-student). Use `wandb login --relogin` to force relogin\n"
     ]
    },
    {
     "data": {
      "text/html": [
       "Tracking run with wandb version 0.18.7"
      ],
      "text/plain": [
       "<IPython.core.display.HTML object>"
      ]
     },
     "metadata": {},
     "output_type": "display_data"
    },
    {
     "data": {
      "text/html": [
       "Run data is saved locally in <code>C:\\Users\\eelil\\OneDrive\\Desktop\\Capstone\\Machine_Learning_Analysis_of_Bank_Fraud\\wandb\\run-20241211_085302-mun5fh2h</code>"
      ],
      "text/plain": [
       "<IPython.core.display.HTML object>"
      ]
     },
     "metadata": {},
     "output_type": "display_data"
    },
    {
     "data": {
      "text/html": [
       "Syncing run <strong><a href='https://wandb.ai/lhan122-student/Machine_Learning_Analysis_of_Bank_Fraud/runs/mun5fh2h' target=\"_blank\">crimson-monkey-1</a></strong> to <a href='https://wandb.ai/lhan122-student/Machine_Learning_Analysis_of_Bank_Fraud' target=\"_blank\">Weights & Biases</a> (<a href='https://wandb.me/developer-guide' target=\"_blank\">docs</a>)<br/>"
      ],
      "text/plain": [
       "<IPython.core.display.HTML object>"
      ]
     },
     "metadata": {},
     "output_type": "display_data"
    },
    {
     "data": {
      "text/html": [
       " View project at <a href='https://wandb.ai/lhan122-student/Machine_Learning_Analysis_of_Bank_Fraud' target=\"_blank\">https://wandb.ai/lhan122-student/Machine_Learning_Analysis_of_Bank_Fraud</a>"
      ],
      "text/plain": [
       "<IPython.core.display.HTML object>"
      ]
     },
     "metadata": {},
     "output_type": "display_data"
    },
    {
     "data": {
      "text/html": [
       " View run at <a href='https://wandb.ai/lhan122-student/Machine_Learning_Analysis_of_Bank_Fraud/runs/mun5fh2h' target=\"_blank\">https://wandb.ai/lhan122-student/Machine_Learning_Analysis_of_Bank_Fraud/runs/mun5fh2h</a>"
      ],
      "text/plain": [
       "<IPython.core.display.HTML object>"
      ]
     },
     "metadata": {},
     "output_type": "display_data"
    },
    {
     "name": "stderr",
     "output_type": "stream",
     "text": [
      "wandb: Downloading large artifact train_data:v1, 72.86MB. 1 files... \n",
      "wandb:   1 of 1 files downloaded.  \n",
      "Done. 0:0:6.6\n"
     ]
    }
   ],
   "source": [
    "import wandb\n",
    "run = wandb.init()\n",
    "artifact = run.use_artifact('lhan122-student/credit_card_fraud/train_data:v1', type='dataset')\n",
    "artifact_dir = artifact.download()"
   ]
  },
  {
   "cell_type": "code",
   "execution_count": 4,
   "id": "2b830e9d-ee97-4d38-8487-a0a452cd7bb8",
   "metadata": {},
   "outputs": [],
   "source": [
    "import os\n",
    "import pandas as pd\n",
    "\n",
    "file_path = os.path.join(artifact_dir, \"train_data.parquet\")\n",
    "df = pd.read_parquet(file_path)"
   ]
  },
  {
   "cell_type": "code",
   "execution_count": 5,
   "id": "f32b09bf-9dc5-4352-953d-4f77948a43b2",
   "metadata": {},
   "outputs": [
    {
     "name": "stdout",
     "output_type": "stream",
     "text": [
      "<class 'pandas.core.frame.DataFrame'>\n",
      "RangeIndex: 1056847 entries, 0 to 1056846\n",
      "Data columns (total 28 columns):\n",
      " #   Column             Non-Null Count    Dtype   \n",
      "---  ------             --------------    -----   \n",
      " 0   cc_num             1056847 non-null  int64   \n",
      " 1   merchant           1056847 non-null  category\n",
      " 2   category           1056847 non-null  category\n",
      " 3   amt                1056847 non-null  float64 \n",
      " 4   lat                1056847 non-null  float64 \n",
      " 5   long               1056847 non-null  float64 \n",
      " 6   job                364346 non-null   object  \n",
      " 7   trans_num          1056847 non-null  object  \n",
      " 8   merch_lat          1056847 non-null  float64 \n",
      " 9   merch_long         1056847 non-null  float64 \n",
      " 10  is_fraud           1056847 non-null  int64   \n",
      " 11  trans_type         1056847 non-null  int64   \n",
      " 12  cust_lat           1049185 non-null  float64 \n",
      " 13  cust_long          1049185 non-null  float64 \n",
      " 14  trans_distance_km  1049185 non-null  float64 \n",
      " 15  merch_cust_km      1056847 non-null  float64 \n",
      " 16  date               1056847 non-null  object  \n",
      " 17  year               1056847 non-null  int32   \n",
      " 18  month              1056847 non-null  int32   \n",
      " 19  day                1056847 non-null  int32   \n",
      " 20  quarter            1056847 non-null  int32   \n",
      " 21  week               1056847 non-null  UInt32  \n",
      " 22  day_of_week        1056847 non-null  int32   \n",
      " 23  hour               1056847 non-null  int32   \n",
      " 24  trans_by_last_hr   1056847 non-null  float64 \n",
      " 25  trans_by_last_day  1056847 non-null  float64 \n",
      " 26  amt_by_last_hr     1056847 non-null  float64 \n",
      " 27  age_at_trans       1056847 non-null  float64 \n",
      "dtypes: UInt32(1), category(2), float64(13), int32(6), int64(3), object(3)\n",
      "memory usage: 185.5+ MB\n"
     ]
    }
   ],
   "source": [
    "df.info()"
   ]
  },
  {
   "cell_type": "code",
   "execution_count": null,
   "id": "d15780ed-705e-4e0f-a6bb-8067ff14f96a",
   "metadata": {},
   "outputs": [],
   "source": []
  }
 ],
 "metadata": {
  "kernelspec": {
   "display_name": "Python 3 (ipykernel)",
   "language": "python",
   "name": "python3"
  },
  "language_info": {
   "codemirror_mode": {
    "name": "ipython",
    "version": 3
   },
   "file_extension": ".py",
   "mimetype": "text/x-python",
   "name": "python",
   "nbconvert_exporter": "python",
   "pygments_lexer": "ipython3",
   "version": "3.12.3"
  }
 },
 "nbformat": 4,
 "nbformat_minor": 5
}
