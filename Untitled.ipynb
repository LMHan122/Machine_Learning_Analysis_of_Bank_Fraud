{
 "cells": [
  {
   "cell_type": "code",
   "execution_count": 1,
   "id": "19060019-6b2d-4d47-8f81-3853e1fec13c",
   "metadata": {},
   "outputs": [],
   "source": [
    "import pandas as pd"
   ]
  },
  {
   "cell_type": "code",
   "execution_count": 4,
   "id": "713d3353-ae5f-4434-ada8-f4257dd831f4",
   "metadata": {},
   "outputs": [],
   "source": [
    "data = r'C:\\Users\\eelil\\Downloads\\final_credit_card_fraud.parquet'"
   ]
  },
  {
   "cell_type": "code",
   "execution_count": 16,
   "id": "a2df08c1-319f-433b-adcb-0974cc4ee975",
   "metadata": {},
   "outputs": [],
   "source": [
    "df = pd.read_parquet(data)\n",
    "csv_file = 'final_dataset.csv'"
   ]
  },
  {
   "cell_type": "code",
   "execution_count": 17,
   "id": "45a5242b-ef95-4cb6-b654-1cb49295991a",
   "metadata": {},
   "outputs": [
    {
     "name": "stdout",
     "output_type": "stream",
     "text": [
      "<class 'pandas.core.frame.DataFrame'>\n",
      "RangeIndex: 1296675 entries, 0 to 1296674\n",
      "Data columns (total 28 columns):\n",
      " #   Column             Non-Null Count    Dtype   \n",
      "---  ------             --------------    -----   \n",
      " 0   cc_num             1296675 non-null  int64   \n",
      " 1   merchant           1296675 non-null  category\n",
      " 2   category           1296675 non-null  category\n",
      " 3   amt                1296675 non-null  float64 \n",
      " 4   lat                1296675 non-null  float64 \n",
      " 5   long               1296675 non-null  float64 \n",
      " 6   job                442353 non-null   object  \n",
      " 7   trans_num          1296675 non-null  object  \n",
      " 8   merch_lat          1296675 non-null  float64 \n",
      " 9   merch_long         1296675 non-null  float64 \n",
      " 10  is_fraud           1296675 non-null  int64   \n",
      " 11  trans_type         1296675 non-null  int64   \n",
      " 12  cust_lat           1286954 non-null  float64 \n",
      " 13  cust_long          1286954 non-null  float64 \n",
      " 14  trans_distance_km  1286954 non-null  float64 \n",
      " 15  merch_cust_km      1296675 non-null  float64 \n",
      " 16  date               1296675 non-null  object  \n",
      " 17  year               1296675 non-null  int32   \n",
      " 18  month              1296675 non-null  int32   \n",
      " 19  day                1296675 non-null  int32   \n",
      " 20  quarter            1296675 non-null  int32   \n",
      " 21  week               1296675 non-null  UInt32  \n",
      " 22  day_of_week        1296675 non-null  int32   \n",
      " 23  hour               1296675 non-null  int32   \n",
      " 24  trans_by_last_hr   1296675 non-null  float64 \n",
      " 25  trans_by_last_day  1296675 non-null  float64 \n",
      " 26  amt_by_last_hr     1296675 non-null  float64 \n",
      " 27  age_at_trans       1296675 non-null  float64 \n",
      "dtypes: UInt32(1), category(2), float64(13), int32(6), int64(3), object(3)\n",
      "memory usage: 227.6+ MB\n"
     ]
    }
   ],
   "source": [
    "df.info()"
   ]
  },
  {
   "cell_type": "code",
   "execution_count": 18,
   "id": "5b167856-bf71-418b-904a-448c5d7192dd",
   "metadata": {},
   "outputs": [],
   "source": [
    "df.dropna(subset=[\"cust_lat\", \"cust_long\", \"trans_distance_km\"], inplace=True)"
   ]
  },
  {
   "cell_type": "code",
   "execution_count": 19,
   "id": "8a0c263b-c3bc-45c6-8620-68a503af9476",
   "metadata": {},
   "outputs": [
    {
     "name": "stdout",
     "output_type": "stream",
     "text": [
      "<class 'pandas.core.frame.DataFrame'>\n",
      "Index: 1286954 entries, 0 to 1294615\n",
      "Data columns (total 28 columns):\n",
      " #   Column             Non-Null Count    Dtype   \n",
      "---  ------             --------------    -----   \n",
      " 0   cc_num             1286954 non-null  int64   \n",
      " 1   merchant           1286954 non-null  category\n",
      " 2   category           1286954 non-null  category\n",
      " 3   amt                1286954 non-null  float64 \n",
      " 4   lat                1286954 non-null  float64 \n",
      " 5   long               1286954 non-null  float64 \n",
      " 6   job                436721 non-null   object  \n",
      " 7   trans_num          1286954 non-null  object  \n",
      " 8   merch_lat          1286954 non-null  float64 \n",
      " 9   merch_long         1286954 non-null  float64 \n",
      " 10  is_fraud           1286954 non-null  int64   \n",
      " 11  trans_type         1286954 non-null  int64   \n",
      " 12  cust_lat           1286954 non-null  float64 \n",
      " 13  cust_long          1286954 non-null  float64 \n",
      " 14  trans_distance_km  1286954 non-null  float64 \n",
      " 15  merch_cust_km      1286954 non-null  float64 \n",
      " 16  date               1286954 non-null  object  \n",
      " 17  year               1286954 non-null  int32   \n",
      " 18  month              1286954 non-null  int32   \n",
      " 19  day                1286954 non-null  int32   \n",
      " 20  quarter            1286954 non-null  int32   \n",
      " 21  week               1286954 non-null  UInt32  \n",
      " 22  day_of_week        1286954 non-null  int32   \n",
      " 23  hour               1286954 non-null  int32   \n",
      " 24  trans_by_last_hr   1286954 non-null  float64 \n",
      " 25  trans_by_last_day  1286954 non-null  float64 \n",
      " 26  amt_by_last_hr     1286954 non-null  float64 \n",
      " 27  age_at_trans       1286954 non-null  float64 \n",
      "dtypes: UInt32(1), category(2), float64(13), int32(6), int64(3), object(3)\n",
      "memory usage: 235.7+ MB\n"
     ]
    }
   ],
   "source": [
    "df.info()"
   ]
  },
  {
   "cell_type": "code",
   "execution_count": null,
   "id": "5919c2a5-1e65-4136-bb00-13722d7ddbd3",
   "metadata": {},
   "outputs": [],
   "source": []
  }
 ],
 "metadata": {
  "kernelspec": {
   "display_name": "Python 3 (ipykernel)",
   "language": "python",
   "name": "python3"
  },
  "language_info": {
   "codemirror_mode": {
    "name": "ipython",
    "version": 3
   },
   "file_extension": ".py",
   "mimetype": "text/x-python",
   "name": "python",
   "nbconvert_exporter": "python",
   "pygments_lexer": "ipython3",
   "version": "3.12.3"
  }
 },
 "nbformat": 4,
 "nbformat_minor": 5
}
