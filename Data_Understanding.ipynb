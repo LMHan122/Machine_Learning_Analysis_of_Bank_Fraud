{
 "cells": [
  {
   "cell_type": "markdown",
   "id": "0688a081-65f3-45fb-951c-4a3690e463f8",
   "metadata": {},
   "source": [
    "## Data Understanding: Exploring the Dataset\n",
    "\n",
    "This notebook will explore the dataset to identify potential feature issues fulfilling the Data Understanding phase of the CRISP-DM project planning framework. \n",
    "\n",
    "### Objectives:\n",
    "1. **Understand the Dataset**: Gain familiarity with the dataset structure, including feature types, distributions, and relationships.\n",
    "2. **Identify Potential Issues**:\n",
    "   - Missing or incomplete data\n",
    "   - Outliers or anomalies\n",
    "   - Features that may require transformation \n",
    "3. **Document Observations**: Note any data quality issues and potential corrective actions.\n",
    "\n",
    "The aim is to clearly understand the dataset and necessary preprocessing steps, ensuring readiness for the feature engineering and modeling stages."
   ]
  },
  {
   "cell_type": "code",
   "execution_count": 1,
   "id": "77f4e073-50f3-4c2e-8079-99a19f9980d7",
   "metadata": {},
   "outputs": [
    {
     "name": "stderr",
     "output_type": "stream",
     "text": [
      "C:\\Users\\eelil\\.conda\\envs\\Machine_Learning_Analysis_of_Bank_Fraud\\Lib\\site-packages\\paramiko\\pkey.py:82: CryptographyDeprecationWarning: TripleDES has been moved to cryptography.hazmat.decrepit.ciphers.algorithms.TripleDES and will be removed from this module in 48.0.0.\n",
      "  \"cipher\": algorithms.TripleDES,\n",
      "C:\\Users\\eelil\\.conda\\envs\\Machine_Learning_Analysis_of_Bank_Fraud\\Lib\\site-packages\\paramiko\\transport.py:219: CryptographyDeprecationWarning: Blowfish has been moved to cryptography.hazmat.decrepit.ciphers.algorithms.Blowfish and will be removed from this module in 45.0.0.\n",
      "  \"class\": algorithms.Blowfish,\n",
      "C:\\Users\\eelil\\.conda\\envs\\Machine_Learning_Analysis_of_Bank_Fraud\\Lib\\site-packages\\paramiko\\transport.py:243: CryptographyDeprecationWarning: TripleDES has been moved to cryptography.hazmat.decrepit.ciphers.algorithms.TripleDES and will be removed from this module in 48.0.0.\n",
      "  \"class\": algorithms.TripleDES,\n"
     ]
    }
   ],
   "source": [
    "#loading libraries\n",
    "import numpy as np\n",
    "import pandas as pd\n",
    "import geopandas as gpd\n",
    "from geodatasets import get_path\n",
    "import matplotlib.pyplot as plt\n",
    "import seaborn as sns\n",
    "%matplotlib inline"
   ]
  },
  {
   "cell_type": "code",
   "execution_count": 2,
   "id": "578bfc45-7d55-448b-aada-0a8bb9925e52",
   "metadata": {},
   "outputs": [],
   "source": [
    "#path to local csv file\n",
    "data = 'data/1/credit_card_transactions.csv'\n",
    "\n",
    "#making dataframe\n",
    "df = pd.read_csv(data)"
   ]
  },
  {
   "cell_type": "markdown",
   "id": "1776aa07-0e39-4a04-b6ef-c6c4ef4a6197",
   "metadata": {},
   "source": [
    "I am working with a local copy of the CSV file instead of accessing the wandb artifact to ensure that any changes made during the data understanding phase remain temporary and do not affect the original data. In the next step, when I focus on preprocessing and feature creation, I will access the wandb artifact. Additionally, I am not incorporating logging into this file, as this notebook will serve as my log for this phase."
   ]
  },
  {
   "cell_type": "code",
   "execution_count": 3,
   "id": "50897b2d-5363-48bb-9329-f97cc0c40cb0",
   "metadata": {},
   "outputs": [
    {
     "data": {
      "text/html": [
       "<div>\n",
       "<style scoped>\n",
       "    .dataframe tbody tr th:only-of-type {\n",
       "        vertical-align: middle;\n",
       "    }\n",
       "\n",
       "    .dataframe tbody tr th {\n",
       "        vertical-align: top;\n",
       "    }\n",
       "\n",
       "    .dataframe thead th {\n",
       "        text-align: right;\n",
       "    }\n",
       "</style>\n",
       "<table border=\"1\" class=\"dataframe\">\n",
       "  <thead>\n",
       "    <tr style=\"text-align: right;\">\n",
       "      <th></th>\n",
       "      <th>Unnamed: 0</th>\n",
       "      <th>trans_date_trans_time</th>\n",
       "      <th>cc_num</th>\n",
       "      <th>merchant</th>\n",
       "      <th>category</th>\n",
       "      <th>amt</th>\n",
       "      <th>first</th>\n",
       "      <th>last</th>\n",
       "      <th>gender</th>\n",
       "      <th>street</th>\n",
       "      <th>...</th>\n",
       "      <th>long</th>\n",
       "      <th>city_pop</th>\n",
       "      <th>job</th>\n",
       "      <th>dob</th>\n",
       "      <th>trans_num</th>\n",
       "      <th>unix_time</th>\n",
       "      <th>merch_lat</th>\n",
       "      <th>merch_long</th>\n",
       "      <th>is_fraud</th>\n",
       "      <th>merch_zipcode</th>\n",
       "    </tr>\n",
       "  </thead>\n",
       "  <tbody>\n",
       "    <tr>\n",
       "      <th>0</th>\n",
       "      <td>0</td>\n",
       "      <td>2019-01-01 00:00:18</td>\n",
       "      <td>2703186189652095</td>\n",
       "      <td>fraud_Rippin, Kub and Mann</td>\n",
       "      <td>misc_net</td>\n",
       "      <td>4.97</td>\n",
       "      <td>Jennifer</td>\n",
       "      <td>Banks</td>\n",
       "      <td>F</td>\n",
       "      <td>561 Perry Cove</td>\n",
       "      <td>...</td>\n",
       "      <td>-81.1781</td>\n",
       "      <td>3495</td>\n",
       "      <td>Psychologist, counselling</td>\n",
       "      <td>1988-03-09</td>\n",
       "      <td>0b242abb623afc578575680df30655b9</td>\n",
       "      <td>1325376018</td>\n",
       "      <td>36.011293</td>\n",
       "      <td>-82.048315</td>\n",
       "      <td>0</td>\n",
       "      <td>28705.0</td>\n",
       "    </tr>\n",
       "    <tr>\n",
       "      <th>1</th>\n",
       "      <td>1</td>\n",
       "      <td>2019-01-01 00:00:44</td>\n",
       "      <td>630423337322</td>\n",
       "      <td>fraud_Heller, Gutmann and Zieme</td>\n",
       "      <td>grocery_pos</td>\n",
       "      <td>107.23</td>\n",
       "      <td>Stephanie</td>\n",
       "      <td>Gill</td>\n",
       "      <td>F</td>\n",
       "      <td>43039 Riley Greens Suite 393</td>\n",
       "      <td>...</td>\n",
       "      <td>-118.2105</td>\n",
       "      <td>149</td>\n",
       "      <td>Special educational needs teacher</td>\n",
       "      <td>1978-06-21</td>\n",
       "      <td>1f76529f8574734946361c461b024d99</td>\n",
       "      <td>1325376044</td>\n",
       "      <td>49.159047</td>\n",
       "      <td>-118.186462</td>\n",
       "      <td>0</td>\n",
       "      <td>NaN</td>\n",
       "    </tr>\n",
       "    <tr>\n",
       "      <th>2</th>\n",
       "      <td>2</td>\n",
       "      <td>2019-01-01 00:00:51</td>\n",
       "      <td>38859492057661</td>\n",
       "      <td>fraud_Lind-Buckridge</td>\n",
       "      <td>entertainment</td>\n",
       "      <td>220.11</td>\n",
       "      <td>Edward</td>\n",
       "      <td>Sanchez</td>\n",
       "      <td>M</td>\n",
       "      <td>594 White Dale Suite 530</td>\n",
       "      <td>...</td>\n",
       "      <td>-112.2620</td>\n",
       "      <td>4154</td>\n",
       "      <td>Nature conservation officer</td>\n",
       "      <td>1962-01-19</td>\n",
       "      <td>a1a22d70485983eac12b5b88dad1cf95</td>\n",
       "      <td>1325376051</td>\n",
       "      <td>43.150704</td>\n",
       "      <td>-112.154481</td>\n",
       "      <td>0</td>\n",
       "      <td>83236.0</td>\n",
       "    </tr>\n",
       "    <tr>\n",
       "      <th>3</th>\n",
       "      <td>3</td>\n",
       "      <td>2019-01-01 00:01:16</td>\n",
       "      <td>3534093764340240</td>\n",
       "      <td>fraud_Kutch, Hermiston and Farrell</td>\n",
       "      <td>gas_transport</td>\n",
       "      <td>45.00</td>\n",
       "      <td>Jeremy</td>\n",
       "      <td>White</td>\n",
       "      <td>M</td>\n",
       "      <td>9443 Cynthia Court Apt. 038</td>\n",
       "      <td>...</td>\n",
       "      <td>-112.1138</td>\n",
       "      <td>1939</td>\n",
       "      <td>Patent attorney</td>\n",
       "      <td>1967-01-12</td>\n",
       "      <td>6b849c168bdad6f867558c3793159a81</td>\n",
       "      <td>1325376076</td>\n",
       "      <td>47.034331</td>\n",
       "      <td>-112.561071</td>\n",
       "      <td>0</td>\n",
       "      <td>NaN</td>\n",
       "    </tr>\n",
       "    <tr>\n",
       "      <th>4</th>\n",
       "      <td>4</td>\n",
       "      <td>2019-01-01 00:03:06</td>\n",
       "      <td>375534208663984</td>\n",
       "      <td>fraud_Keeling-Crist</td>\n",
       "      <td>misc_pos</td>\n",
       "      <td>41.96</td>\n",
       "      <td>Tyler</td>\n",
       "      <td>Garcia</td>\n",
       "      <td>M</td>\n",
       "      <td>408 Bradley Rest</td>\n",
       "      <td>...</td>\n",
       "      <td>-79.4629</td>\n",
       "      <td>99</td>\n",
       "      <td>Dance movement psychotherapist</td>\n",
       "      <td>1986-03-28</td>\n",
       "      <td>a41d7549acf90789359a9aa5346dcb46</td>\n",
       "      <td>1325376186</td>\n",
       "      <td>38.674999</td>\n",
       "      <td>-78.632459</td>\n",
       "      <td>0</td>\n",
       "      <td>22844.0</td>\n",
       "    </tr>\n",
       "  </tbody>\n",
       "</table>\n",
       "<p>5 rows × 24 columns</p>\n",
       "</div>"
      ],
      "text/plain": [
       "   Unnamed: 0 trans_date_trans_time            cc_num  \\\n",
       "0           0   2019-01-01 00:00:18  2703186189652095   \n",
       "1           1   2019-01-01 00:00:44      630423337322   \n",
       "2           2   2019-01-01 00:00:51    38859492057661   \n",
       "3           3   2019-01-01 00:01:16  3534093764340240   \n",
       "4           4   2019-01-01 00:03:06   375534208663984   \n",
       "\n",
       "                             merchant       category     amt      first  \\\n",
       "0          fraud_Rippin, Kub and Mann       misc_net    4.97   Jennifer   \n",
       "1     fraud_Heller, Gutmann and Zieme    grocery_pos  107.23  Stephanie   \n",
       "2                fraud_Lind-Buckridge  entertainment  220.11     Edward   \n",
       "3  fraud_Kutch, Hermiston and Farrell  gas_transport   45.00     Jeremy   \n",
       "4                 fraud_Keeling-Crist       misc_pos   41.96      Tyler   \n",
       "\n",
       "      last gender                        street  ...      long city_pop  \\\n",
       "0    Banks      F                561 Perry Cove  ...  -81.1781     3495   \n",
       "1     Gill      F  43039 Riley Greens Suite 393  ... -118.2105      149   \n",
       "2  Sanchez      M      594 White Dale Suite 530  ... -112.2620     4154   \n",
       "3    White      M   9443 Cynthia Court Apt. 038  ... -112.1138     1939   \n",
       "4   Garcia      M              408 Bradley Rest  ...  -79.4629       99   \n",
       "\n",
       "                                 job         dob  \\\n",
       "0          Psychologist, counselling  1988-03-09   \n",
       "1  Special educational needs teacher  1978-06-21   \n",
       "2        Nature conservation officer  1962-01-19   \n",
       "3                    Patent attorney  1967-01-12   \n",
       "4     Dance movement psychotherapist  1986-03-28   \n",
       "\n",
       "                          trans_num   unix_time  merch_lat  merch_long  \\\n",
       "0  0b242abb623afc578575680df30655b9  1325376018  36.011293  -82.048315   \n",
       "1  1f76529f8574734946361c461b024d99  1325376044  49.159047 -118.186462   \n",
       "2  a1a22d70485983eac12b5b88dad1cf95  1325376051  43.150704 -112.154481   \n",
       "3  6b849c168bdad6f867558c3793159a81  1325376076  47.034331 -112.561071   \n",
       "4  a41d7549acf90789359a9aa5346dcb46  1325376186  38.674999  -78.632459   \n",
       "\n",
       "  is_fraud  merch_zipcode  \n",
       "0        0        28705.0  \n",
       "1        0            NaN  \n",
       "2        0        83236.0  \n",
       "3        0            NaN  \n",
       "4        0        22844.0  \n",
       "\n",
       "[5 rows x 24 columns]"
      ]
     },
     "execution_count": 3,
     "metadata": {},
     "output_type": "execute_result"
    }
   ],
   "source": [
    "#viewing the first 5 rows of data\n",
    "df.head()"
   ]
  },
  {
   "cell_type": "code",
   "execution_count": 4,
   "id": "3729c6ed-6a18-419c-b08b-4165bd3099f2",
   "metadata": {},
   "outputs": [
    {
     "data": {
      "text/plain": [
       "Index(['Unnamed: 0', 'trans_date_trans_time', 'cc_num', 'merchant', 'category',\n",
       "       'amt', 'first', 'last', 'gender', 'street', 'city', 'state', 'zip',\n",
       "       'lat', 'long', 'city_pop', 'job', 'dob', 'trans_num', 'unix_time',\n",
       "       'merch_lat', 'merch_long', 'is_fraud', 'merch_zipcode'],\n",
       "      dtype='object')"
      ]
     },
     "execution_count": 4,
     "metadata": {},
     "output_type": "execute_result"
    }
   ],
   "source": [
    "df.columns"
   ]
  },
  {
   "cell_type": "markdown",
   "id": "cdd85354-e888-49cf-93e9-d449ca318f0a",
   "metadata": {},
   "source": [
    "### Column Descriptions and Initial Observations\n",
    "\n",
    "The dataset contains the following columns:\n",
    "\n",
    "1. **Unnamed**: Original index column, redundant in this analysis.\n",
    "2. **trans_date_trans_time**: Timestamp of the transaction.\n",
    "3. **cc_num**: Credit card number (hashed or anonymized).\n",
    "4. **merchant**: Merchant or store where the transaction occurred.\n",
    "5. **category**: Type of transaction.\n",
    "6. **amt**: Amount of the transaction.\n",
    "7. **first**: First name of the cardholder.\n",
    "8. **last**: Last name of the cardholder.\n",
    "9. **gender**: Gender of the cardholder.\n",
    "10. **street**: Address details of the cardholder.\n",
    "11. **city**: Address details of the cardholder.\n",
    "12. **state**: Address details of the cardholder.\n",
    "13. **zip**: Address details of the cardholder.\n",
    "14. **lat**: Geographical coordinates of the transaction.\n",
    "15. **long**: Geographical coordinates of the transaction.\n",
    "16. **city_pop**: Population of the city where the transaction occurred.\n",
    "17. **job**: Occupation of the cardholder.\n",
    "18. **dob**: Date of birth of the cardholder.\n",
    "19. **trans_num**: Unique transaction number.\n",
    "20. **unix_time**: Unix timestamp of the transaction.\n",
    "21. **merch_lat**: Geographical coordinates of the merchant.\n",
    "22. **merch_long**: Geographical coordinates of the merchant.\n",
    "23. **is_fraud**: Indicator of whether the transaction is fraudulent.\n",
    "24. **merch_zipcode**: Zip code of the merchant.\n",
    "\n",
    "Based on the column descriptions and the initial inspection of the data (first five rows of the dataframe), the following columns will be removed:\n",
    "\n",
    "1. **Unnamed**: This column served as the original index and is redundant.\n",
    "\n",
    "2. **first**, **last**, **gender**, **street**:\n",
    "   - **first** and **last** are not necessary for analysis, as the credit card number (`cc_num`) already identifies the account.\n",
    "   - **gender** is unlikely to contribute to identifying fraudulent transactions and could introduce bias or discrimination into the model.\n",
    "   - **unix_time** will be dropped if 'trans_data_trans_time' is complete.\n",
    "   - **street**, **zip**, **merch_zipcode** will be dropped for redundency if other location based columns are complete.\n",
    "\n",
    "**trans_num** will be retained to prevent identical values in other columns from mistakenly flagged as duplicates. \n"
   ]
  },
  {
   "cell_type": "code",
   "execution_count": 5,
   "id": "25708ece-f03a-42e3-ab48-8701e7a5dd1c",
   "metadata": {},
   "outputs": [],
   "source": [
    "#dropping unnamed column\n",
    "df.drop(df.columns[df.columns.str.contains(\n",
    "    'unnamed', case=False)], axis=1, inplace=True)"
   ]
  },
  {
   "cell_type": "code",
   "execution_count": 6,
   "id": "8158cdb5-4975-42be-8695-ad9762b5d1cc",
   "metadata": {},
   "outputs": [],
   "source": [
    "#dropping 'first', 'last', and 'gender'\n",
    "df.drop(['first', 'last', 'gender'], axis=1, inplace=True)"
   ]
  },
  {
   "cell_type": "code",
   "execution_count": 7,
   "id": "590d5541-25f0-4bea-a4bb-2baf8d9084ef",
   "metadata": {},
   "outputs": [
    {
     "data": {
      "text/plain": [
       "(1296675, 20)"
      ]
     },
     "execution_count": 7,
     "metadata": {},
     "output_type": "execute_result"
    }
   ],
   "source": [
    "#checking the number of records and columns\n",
    "df.shape"
   ]
  },
  {
   "cell_type": "code",
   "execution_count": 8,
   "id": "54945cec-2ec4-4f66-9274-ba8995b93d0f",
   "metadata": {},
   "outputs": [
    {
     "data": {
      "text/plain": [
       "(1296675, 20)"
      ]
     },
     "execution_count": 8,
     "metadata": {},
     "output_type": "execute_result"
    }
   ],
   "source": [
    "#dropping any duplicate rows\n",
    "df.drop_duplicates(inplace=True)\n",
    "#checking if the number of records changed\n",
    "df.shape"
   ]
  },
  {
   "cell_type": "markdown",
   "id": "2570a940-c68b-4a2d-bc89-e736ac910df7",
   "metadata": {},
   "source": [
    "There were no duplicates in this dataset. However, I will add duplicate-checking in the data preparation phase to accommodate future datasets."
   ]
  },
  {
   "cell_type": "code",
   "execution_count": 9,
   "id": "26ca0cd0-3812-4179-b44d-1b526fd35ada",
   "metadata": {},
   "outputs": [
    {
     "name": "stdout",
     "output_type": "stream",
     "text": [
      "<class 'pandas.core.frame.DataFrame'>\n",
      "RangeIndex: 1296675 entries, 0 to 1296674\n",
      "Data columns (total 20 columns):\n",
      " #   Column                 Non-Null Count    Dtype  \n",
      "---  ------                 --------------    -----  \n",
      " 0   trans_date_trans_time  1296675 non-null  object \n",
      " 1   cc_num                 1296675 non-null  int64  \n",
      " 2   merchant               1296675 non-null  object \n",
      " 3   category               1296675 non-null  object \n",
      " 4   amt                    1296675 non-null  float64\n",
      " 5   street                 1296675 non-null  object \n",
      " 6   city                   1296675 non-null  object \n",
      " 7   state                  1296675 non-null  object \n",
      " 8   zip                    1296675 non-null  int64  \n",
      " 9   lat                    1296675 non-null  float64\n",
      " 10  long                   1296675 non-null  float64\n",
      " 11  city_pop               1296675 non-null  int64  \n",
      " 12  job                    1296675 non-null  object \n",
      " 13  dob                    1296675 non-null  object \n",
      " 14  trans_num              1296675 non-null  object \n",
      " 15  unix_time              1296675 non-null  int64  \n",
      " 16  merch_lat              1296675 non-null  float64\n",
      " 17  merch_long             1296675 non-null  float64\n",
      " 18  is_fraud               1296675 non-null  int64  \n",
      " 19  merch_zipcode          1100702 non-null  float64\n",
      "dtypes: float64(6), int64(5), object(9)\n",
      "memory usage: 197.9+ MB\n"
     ]
    }
   ],
   "source": [
    "df.info()"
   ]
  },
  {
   "cell_type": "code",
   "execution_count": 10,
   "id": "f0c880ec-657a-4190-b7fa-8eda107971a6",
   "metadata": {},
   "outputs": [],
   "source": [
    "#dropping redundant columns\n",
    "df.drop(['street', 'zip', 'merch_zipcode', 'unix_time'], axis=1, inplace=True)"
   ]
  },
  {
   "cell_type": "markdown",
   "id": "e6769734-ab16-4a32-9d54-b745aefe4504",
   "metadata": {},
   "source": [
    "### Based on the datatypes and null values:\n",
    "\n",
    "**Location Columns**\n",
    "Due to redundancy, several location columns ('street,' 'zip,' 'merch_zipcode) were dropped. The latitude and longitude columns for customers and merchants are complete and will be utilized in the next phase. \n",
    "\n",
    "**Unix Time Column**\n",
    "The 'unix_time' column was dropped for redundancy since 'trans_date_trans_time' is complete. I intend to make several new datetime columns, but I must streamline the dataset beforehand. \n",
    "\n",
    "**Columns with Unusual Data Types** \n",
    "- trans_date_trans_time  |  object \n",
    "- merchant               |  object \n",
    "- category               |  object \n",
    "- city                   |  object   \n",
    "- state                  |  object  \n",
    "- job                    |  object  \n",
    "- dob                    |  object  \n",
    "- is_fraud               |  int64    "
   ]
  },
  {
   "cell_type": "markdown",
   "id": "f30e7075-5013-447e-bd80-4e64ad338187",
   "metadata": {},
   "source": [
    "\n",
    "Will be changed to: \n",
    "1. **'trans_data_trans_time', 'dob'** - datetime\n",
    "2. **'merchant', 'category', 'city', 'state', 'job', 'is_fraud'** - category"
   ]
  },
  {
   "cell_type": "code",
   "execution_count": 11,
   "id": "738ec057-e265-4443-8b8d-903e1762d989",
   "metadata": {},
   "outputs": [
    {
     "data": {
      "text/plain": [
       "trans_date_trans_time    1274791\n",
       "cc_num                       983\n",
       "merchant                     693\n",
       "category                      14\n",
       "amt                        52928\n",
       "city                         894\n",
       "state                         51\n",
       "lat                          968\n",
       "long                         969\n",
       "city_pop                     879\n",
       "job                          494\n",
       "dob                          968\n",
       "trans_num                1296675\n",
       "merch_lat                1247805\n",
       "merch_long               1275745\n",
       "is_fraud                       2\n",
       "dtype: int64"
      ]
     },
     "execution_count": 11,
     "metadata": {},
     "output_type": "execute_result"
    }
   ],
   "source": [
    "#number of unique values in each column\n",
    "df.nunique()"
   ]
  },
  {
   "cell_type": "code",
   "execution_count": 12,
   "id": "31859e2d-61db-4fde-b291-457e690d2c8c",
   "metadata": {},
   "outputs": [
    {
     "name": "stdout",
     "output_type": "stream",
     "text": [
      "<class 'pandas.core.series.Series'>\n",
      "RangeIndex: 1296675 entries, 0 to 1296674\n",
      "Series name: trans_date_trans_time\n",
      "Non-Null Count    Dtype         \n",
      "--------------    -----         \n",
      "1296675 non-null  datetime64[ns]\n",
      "dtypes: datetime64[ns](1)\n",
      "memory usage: 9.9 MB\n"
     ]
    }
   ],
   "source": [
    "#changing data types of some of the columns for easier plotting\n",
    "#first the datetime columns\n",
    "df['trans_date_trans_time'] = pd.to_datetime(df['trans_date_trans_time'])\n",
    "df['trans_date_trans_time'].info()"
   ]
  },
  {
   "cell_type": "code",
   "execution_count": 13,
   "id": "d495c4c0-655a-4905-9ede-4b3615e47c53",
   "metadata": {},
   "outputs": [
    {
     "name": "stdout",
     "output_type": "stream",
     "text": [
      "<class 'pandas.core.series.Series'>\n",
      "RangeIndex: 1296675 entries, 0 to 1296674\n",
      "Series name: dob\n",
      "Non-Null Count    Dtype         \n",
      "--------------    -----         \n",
      "1296675 non-null  datetime64[ns]\n",
      "dtypes: datetime64[ns](1)\n",
      "memory usage: 9.9 MB\n"
     ]
    }
   ],
   "source": [
    "df['dob'] = pd.to_datetime(df['dob'])\n",
    "df['dob'].info()"
   ]
  },
  {
   "cell_type": "code",
   "execution_count": 14,
   "id": "b4ccbeaa-2020-421f-b4f5-c21dc12b7089",
   "metadata": {},
   "outputs": [
    {
     "name": "stdout",
     "output_type": "stream",
     "text": [
      "<class 'pandas.core.frame.DataFrame'>\n",
      "RangeIndex: 1296675 entries, 0 to 1296674\n",
      "Data columns (total 6 columns):\n",
      " #   Column    Non-Null Count    Dtype   \n",
      "---  ------    --------------    -----   \n",
      " 0   category  1296675 non-null  category\n",
      " 1   merchant  1296675 non-null  category\n",
      " 2   job       1296675 non-null  category\n",
      " 3   is_fraud  1296675 non-null  category\n",
      " 4   state     1296675 non-null  category\n",
      " 5   city      1296675 non-null  category\n",
      "dtypes: category(6)\n",
      "memory usage: 11.2 MB\n"
     ]
    }
   ],
   "source": [
    "#now the category columns\n",
    "df[['category', 'merchant', 'job', 'is_fraud', 'state', 'city']] = df[['category', 'merchant', 'job', 'is_fraud', 'state', 'city']].astype('category')\n",
    "df[['category', 'merchant', 'job', 'is_fraud', 'state', 'city']].info()"
   ]
  },
  {
   "cell_type": "code",
   "execution_count": 16,
   "id": "9946e672-9c20-4cfa-a02c-944970fc65e9",
   "metadata": {},
   "outputs": [
    {
     "name": "stdout",
     "output_type": "stream",
     "text": [
      "<class 'pandas.core.frame.DataFrame'>\n",
      "RangeIndex: 1296675 entries, 0 to 1296674\n",
      "Data columns (total 16 columns):\n",
      " #   Column                 Non-Null Count    Dtype         \n",
      "---  ------                 --------------    -----         \n",
      " 0   trans_date_trans_time  1296675 non-null  datetime64[ns]\n",
      " 1   cc_num                 1296675 non-null  int64         \n",
      " 2   merchant               1296675 non-null  category      \n",
      " 3   category               1296675 non-null  category      \n",
      " 4   amt                    1296675 non-null  float64       \n",
      " 5   city                   1296675 non-null  category      \n",
      " 6   state                  1296675 non-null  category      \n",
      " 7   lat                    1296675 non-null  float64       \n",
      " 8   long                   1296675 non-null  float64       \n",
      " 9   city_pop               1296675 non-null  int64         \n",
      " 10  job                    1296675 non-null  category      \n",
      " 11  dob                    1296675 non-null  datetime64[ns]\n",
      " 12  trans_num              1296675 non-null  object        \n",
      " 13  merch_lat              1296675 non-null  float64       \n",
      " 14  merch_long             1296675 non-null  float64       \n",
      " 15  is_fraud               1296675 non-null  category      \n",
      "dtypes: category(6), datetime64[ns](2), float64(5), int64(2), object(1)\n",
      "memory usage: 110.1+ MB\n"
     ]
    }
   ],
   "source": [
    "#checking data types before plotting\n",
    "df.info()"
   ]
  },
  {
   "cell_type": "markdown",
   "id": "3e17675f-529b-4a72-b175-c201e46476a4",
   "metadata": {},
   "source": [
    "## Column Analysis"
   ]
  },
  {
   "cell_type": "code",
   "execution_count": 19,
   "id": "f2b12931-b512-4772-8f29-6277478e9fe2",
   "metadata": {},
   "outputs": [],
   "source": [
    "#grouping fraud accounts\n",
    "fraud = df.groupby('is_fraud', observed=True)"
   ]
  },
  {
   "cell_type": "code",
   "execution_count": 20,
   "id": "7abfa3f6-f7f5-486e-916e-4e9e3784867a",
   "metadata": {},
   "outputs": [
    {
     "data": {
      "image/png": "[encoded data removed]",
      "text/plain": [
       "<Figure size 1300x600 with 1 Axes>"
      ]
     },
     "metadata": {},
     "output_type": "display_data"
    }
   ],
   "source": [
    "#visualizing what portion of the data is fraudulent transactions\n",
    "fraud_counts = fraud.size()\n",
    "ax = fraud_counts.plot(kind='bar', rot=0,  color=['blue', 'red'], figsize=(13,6))\n",
    "\n",
    "plt.xlabel('Fraud')\n",
    "plt.ylabel('Count in Millions')\n",
    "ax.set_title('Transaction Counts: Fraud vs. Non-Fraud', fontsize=16)\n",
    "\n",
    "plt.show()"
   ]
  },
  {
   "cell_type": "code",
   "execution_count": 21,
   "id": "5a722642-cb82-4345-9853-3cdc1e22889c",
   "metadata": {},
   "outputs": [
    {
     "data": {
      "text/plain": [
       "is_fraud\n",
       "0    1289169\n",
       "1       7506\n",
       "dtype: int64"
      ]
     },
     "execution_count": 21,
     "metadata": {},
     "output_type": "execute_result"
    }
   ],
   "source": [
    "# 1 = fraudulant transaction, 0 = non-fraudulant transaction\n",
    "fraud_counts"
   ]
  },
  {
   "cell_type": "code",
   "execution_count": 28,
   "id": "febc593d-081b-491f-a26b-30494b976d56",
   "metadata": {},
   "outputs": [
    {
     "data": {
      "text/plain": [
       "is_fraud\n",
       "0    99.42\n",
       "1     0.58\n",
       "dtype: float64"
      ]
     },
     "execution_count": 28,
     "metadata": {},
     "output_type": "execute_result"
    }
   ],
   "source": [
    "fraud_percentages = (fraud_counts / fraud_counts.sum() * 100).round(2)\n",
    "fraud_percentages"
   ]
  },
  {
   "cell_type": "markdown",
   "id": "0acd2292-aaa9-4990-b5ea-c23f5c4efc97",
   "metadata": {},
   "source": [
    "**Less than 1% of the transactions are fraudulent.**"
   ]
  },
  {
   "cell_type": "code",
   "execution_count": 23,
   "id": "6793d249-aa1f-49f6-9ec4-b4b51f2a4a4d",
   "metadata": {},
   "outputs": [
    {
     "data": {
      "text/plain": [
       "is_fraud\n",
       "0    87234340.29\n",
       "1     3988088.61\n",
       "Name: amt, dtype: float64"
      ]
     },
     "execution_count": 23,
     "metadata": {},
     "output_type": "execute_result"
    }
   ],
   "source": [
    "#calculating how much the fraud transactions are\n",
    "fraud_amount = fraud['amt'].sum()\n",
    "fraud_amount"
   ]
  },
  {
   "cell_type": "code",
   "execution_count": 25,
   "id": "3548e2f5-1ac1-4bf6-b9d1-98f41e21f8c3",
   "metadata": {},
   "outputs": [
    {
     "data": {
      "image/png": "[encoded data removed]",
      "text/plain": [
       "<Figure size 1300x600 with 1 Axes>"
      ]
     },
     "metadata": {},
     "output_type": "display_data"
    }
   ],
   "source": [
    "ax = fraud_amount.plot(kind='bar', rot=0,  color=['blue', 'red'], figsize=(13,6))\n",
    "\n",
    "plt.xlabel('Fraud Classification')\n",
    "plt.ylabel('Transaction Amount (Tens of Millions)')\n",
    "ax.set_title('Transaction Amount: Fraud vs. Non-Fraud', fontsize=16)\n",
    "\n",
    "plt.show()"
   ]
  },
  {
   "cell_type": "code",
   "execution_count": 29,
   "id": "d80970b2-62dd-4d87-b73c-184c015aad7d",
   "metadata": {},
   "outputs": [
    {
     "data": {
      "text/plain": [
       "is_fraud\n",
       "0    95.63\n",
       "1     4.37\n",
       "Name: amt, dtype: float64"
      ]
     },
     "execution_count": 29,
     "metadata": {},
     "output_type": "execute_result"
    }
   ],
   "source": [
    "fraud_amount_per = (fraud_amount / fraud_amount.sum() * 100).round(2)\n",
    "fraud_amount_per"
   ]
  },
  {
   "cell_type": "markdown",
   "id": "494be88e-20ba-45e4-b429-25f0555a3939",
   "metadata": {},
   "source": [
    "**While it makes up over 4% of the transaction amount.** The 'is_fraud' column will not be adjusted. "
   ]
  },
  {
   "cell_type": "code",
   "execution_count": 30,
   "id": "ad722889-245b-4923-85c1-f6cf5f6011bf",
   "metadata": {},
   "outputs": [
    {
     "data": {
      "text/plain": [
       "count    1.296675e+06\n",
       "mean     7.035104e+01\n",
       "std      1.603160e+02\n",
       "min      1.000000e+00\n",
       "25%      9.650000e+00\n",
       "50%      4.752000e+01\n",
       "75%      8.314000e+01\n",
       "max      2.894890e+04\n",
       "Name: amt, dtype: float64"
      ]
     },
     "execution_count": 30,
     "metadata": {},
     "output_type": "execute_result"
    }
   ],
   "source": [
    "#looking further into transaction amount\n",
    "amt = df['amt']\n",
    "amt.describe()"
   ]
  },
  {
   "cell_type": "code",
   "execution_count": 34,
   "id": "0d67f434-fac5-4d9c-9956-ae3370746f58",
   "metadata": {},
   "outputs": [
    {
     "name": "stdout",
     "output_type": "stream",
     "text": [
      "Min Transactional Amount $1.00 and Max Transactional Amount $28,948.90\n"
     ]
    }
   ],
   "source": [
    "#for easier viewing\n",
    "print(f\"Min Transactional Amount ${amt.min():,.2f} and Max Transactional Amount ${amt.max():,.2f}\")"
   ]
  },
  {
   "cell_type": "code",
   "execution_count": 37,
   "id": "42cf5001-80df-4b2d-b823-6f19303fe8ed",
   "metadata": {},
   "outputs": [
    {
     "data": {
      "image/png": "[encoded data removed]",
      "text/plain": [
       "<Figure size 640x480 with 1 Axes>"
      ]
     },
     "metadata": {},
     "output_type": "display_data"
    }
   ],
   "source": [
    "#applying a logarithmic transformation to the amount column for better visualization in the boxplot\n",
    "amt_trans = np.log(amt[amt > 0])\n",
    "\n",
    "#boxplot\n",
    "plt.boxplot(amt_trans)\n",
    "plt.xlabel(\"Transactions\")\n",
    "plt.ylabel(\"Log-Transformed Amount\")\n",
    "plt.title(\"Boxplot of Log-Transformed Transaction Amounts\")\n",
    "plt.show()"
   ]
  },
  {
   "cell_type": "markdown",
   "id": "fc88724f-ab38-460c-bd5c-4be58efabcad",
   "metadata": {},
   "source": [
    "This plot highlights a relatively large number of outliers at the higher end of the transaction amounts. No issues requiring changes to the 'amt' column were identified at this stage."
   ]
  },
  {
   "cell_type": "code",
   "execution_count": 39,
   "id": "e42b8493-d9a2-48cd-8c53-4c991e166149",
   "metadata": {},
   "outputs": [
    {
     "data": {
      "image/png": "[encoded data removed]",
      "text/plain": [
       "<Figure size 1000x600 with 1 Axes>"
      ]
     },
     "metadata": {},
     "output_type": "display_data"
    }
   ],
   "source": [
    "#plotting category frequency\n",
    "df['category'].value_counts().plot(kind='bar', figsize=(10, 6), ylabel = 'Number of Transactions', title='Transaction Frequency by Category')\n",
    "plt.show()"
   ]
  },
  {
   "cell_type": "code",
   "execution_count": null,
   "id": "16d81f31-114c-4d07-a3ae-205c1b9b036c",
   "metadata": {},
   "outputs": [],
   "source": [
    "map_file = r'C:\\Users\\eelil\\OneDrive\\Desktop\\Capstone\\Machine_Learning_Analysis_of_Bank_Fraud\\map'"
   ]
  },
  {
   "cell_type": "code",
   "execution_count": null,
   "id": "4d83b95b-0ff4-4ed1-93f2-9370626a1cb1",
   "metadata": {},
   "outputs": [],
   "source": [
    "#trying to plot customers on a map\n",
    "gdf = gpd.GeoDataFrame(df, geometry=gpd.points_from_xy(df.long, df.lat))\n",
    "world = gpd.read_file(map_file)\n",
    "ax = world.plot(color='lightgrey', edgecolor='black', figsize=(15,20))\n",
    "plt.xlabel('Longitude')\n",
    "plt.ylabel('Latitude')\n",
    "gdf.plot(ax=ax, color='red', markersize=1)\n",
    "plt.xlim(-170, -50)\n",
    "plt.ylim(10, 83)\n",
    "ax.set_title(\"Customer Locations\", fontsize=16)\n",
    "plt.show()"
   ]
  },
  {
   "cell_type": "code",
   "execution_count": null,
   "id": "f8f13cdb-414e-4607-a5da-27c8d0e821e6",
   "metadata": {},
   "outputs": [],
   "source": [
    "gdf = gpd.GeoDataFrame(df, geometry=gpd.points_from_xy(df.merch_long, df.merch_lat))\n",
    "world = gpd.read_file(map_file)\n",
    "ax = world.plot(color='lightgrey', edgecolor='black', figsize=(15,20))\n",
    "plt.xlabel('Longitude')\n",
    "plt.ylabel('Latitude')\n",
    "gdf.plot(ax=ax, color='red', markersize=0.1)\n",
    "plt.xlim(-170, -50)\n",
    "plt.ylim(10, 83)\n",
    "ax.set_title(\"Customer Locations\", fontsize=16)\n",
    "plt.show()"
   ]
  },
  {
   "cell_type": "code",
   "execution_count": null,
   "id": "d763d036-62b7-437a-bd4b-67d623074147",
   "metadata": {
    "scrolled": true
   },
   "outputs": [],
   "source": [
    "#to prevent overfitting, I will drop zip and merch_zipcode, lat and long can be used in it's place. \n",
    "df.drop(['zip', 'merch_zipcode'], axis=1, inplace=True)   "
   ]
  },
  {
   "cell_type": "code",
   "execution_count": null,
   "id": "7d12ee52-e274-40da-bcb5-15b3f600ac85",
   "metadata": {},
   "outputs": [],
   "source": [
    "df.shape[1]"
   ]
  },
  {
   "cell_type": "markdown",
   "id": "bbfb6a9d-7247-42ba-9a34-91e6a70f8d05",
   "metadata": {},
   "source": [
    "Running list of columns to drop:\n",
    "- zip\n",
    "- merch_zipcode\n",
    "- first\n",
    "- last\n",
    "- gender\n",
    "- unnamed column\n",
    "- street\n",
    "- "
   ]
  },
  {
   "cell_type": "code",
   "execution_count": null,
   "id": "20c56d45-fa93-40d1-a40b-be16bc4d7624",
   "metadata": {},
   "outputs": [],
   "source": [
    "#transactions over time\n",
    "df.hist(column='trans_date_trans_time', bins=18)\n",
    "plt.show()"
   ]
  },
  {
   "cell_type": "code",
   "execution_count": null,
   "id": "2a55e9e7-56a6-44d4-ae63-5fe18bfd76e2",
   "metadata": {},
   "outputs": [],
   "source": [
    "#getting the number of transaction for each cc account\n",
    "cc_counts = df.groupby('cc_num', observed=True).size()"
   ]
  },
  {
   "cell_type": "code",
   "execution_count": null,
   "id": "9ec88ec3-dcc2-41b7-9256-39df1d14b738",
   "metadata": {},
   "outputs": [],
   "source": [
    "cc_counts.nunique()"
   ]
  },
  {
   "cell_type": "code",
   "execution_count": null,
   "id": "a9a9f777-54bb-4d92-a690-bb41f02d7718",
   "metadata": {},
   "outputs": [],
   "source": [
    "cc_counts.describe()"
   ]
  },
  {
   "cell_type": "code",
   "execution_count": null,
   "id": "72b14942-2432-40b2-8f7b-f3f5ba33b681",
   "metadata": {},
   "outputs": [],
   "source": [
    "cc_counts"
   ]
  },
  {
   "cell_type": "code",
   "execution_count": null,
   "id": "6384e1b4-afd9-45b7-84f2-a52a9f1a5dfb",
   "metadata": {},
   "outputs": [],
   "source": [
    "sorted_cc = cc_counts.sort_values()\n",
    "sorted_cc"
   ]
  },
  {
   "cell_type": "code",
   "execution_count": null,
   "id": "9872984d-3b1a-4096-8205-ad1a01aec685",
   "metadata": {},
   "outputs": [],
   "source": [
    "plt.figure(figsize=(12,10))\n",
    "plt.bar(range(len(sorted_cc)), sorted_cc)\n",
    "plt.xlabel('CC Account')\n",
    "plt.ylabel('Number of Transactions')\n",
    "plt.title(\"Number of Transactions for Each Account\", fontsize=16)\n",
    "\n",
    "plt.show()"
   ]
  },
  {
   "cell_type": "code",
   "execution_count": null,
   "id": "eefd0741-d41e-4aca-b5fa-17a70d5566df",
   "metadata": {},
   "outputs": [],
   "source": []
  },
  {
   "cell_type": "code",
   "execution_count": null,
   "id": "b1c00897-e7a9-4e72-8e3e-98945f7ab0de",
   "metadata": {},
   "outputs": [],
   "source": []
  },
  {
   "cell_type": "code",
   "execution_count": null,
   "id": "e0e52b25-7722-4798-80e6-60a3cbd4605c",
   "metadata": {},
   "outputs": [],
   "source": []
  },
  {
   "cell_type": "code",
   "execution_count": null,
   "id": "d3097578-5e79-4931-8559-ef952700e483",
   "metadata": {},
   "outputs": [],
   "source": []
  },
  {
   "cell_type": "code",
   "execution_count": null,
   "id": "30afc1f7-a4b3-4c7d-907c-e07643274f65",
   "metadata": {},
   "outputs": [],
   "source": []
  },
  {
   "cell_type": "markdown",
   "id": "950e3716-3cd0-4e8e-9c3f-078b8363f38c",
   "metadata": {},
   "source": [
    "\n",
    "Columns that will be dropped - 'unnamed', 'first', 'last', 'gender', 'street', 'zip', 'merch_zipcode', 'unix_time'\n",
    "\n",
    "- no duplicates found\n",
    "\n",
    "Data Type Changes\n",
    "datetime - 'trans_data_trans_time', 'dob'\n",
    "category 'merchant', 'category', 'city', 'state', 'job', 'is_fraud'\n",
    "\n",
    "Columns that will not be changed - 'is_fraud', 'amt'\n",
    "\n"
   ]
  }
 ],
 "metadata": {
  "kernelspec": {
   "display_name": "Python 3 (ipykernel)",
   "language": "python",
   "name": "python3"
  },
  "language_info": {
   "codemirror_mode": {
    "name": "ipython",
    "version": 3
   },
   "file_extension": ".py",
   "mimetype": "text/x-python",
   "name": "python",
   "nbconvert_exporter": "python",
   "pygments_lexer": "ipython3",
   "version": "3.12.3"
  }
 },
 "nbformat": 4,
 "nbformat_minor": 5
}
