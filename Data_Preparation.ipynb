{
 "cells": [
  {
   "cell_type": "code",
   "execution_count": null,
   "id": "1487945f-da11-4759-8588-b1ef71be31de",
   "metadata": {},
   "outputs": [],
   "source": [
    "#adding libraries\n",
    "import numpy as np\n",
    "import pandas as pd"
   ]
  },
  {
   "cell_type": "code",
   "execution_count": null,
   "id": "97bcbbf6-14df-4b8f-9f40-8807a40436df",
   "metadata": {},
   "outputs": [],
   "source": [
    "###FIXME: COLUMNS TO DROP\n",
    "\n",
    "#unnamed column\n",
    "df.drop(df.columns[df.columns.str.contains(\n",
    "    'unnamed', case=False)], axis=1, inplace=True)\n",
    "\n",
    "drop_columns = ['first', 'last', 'gender', 'street', 'zip', 'merch_zipcode', 'unix_time']"
   ]
  },
  {
   "cell_type": "code",
   "execution_count": null,
   "id": "a5b27230-e7e8-42ba-a76a-ce6214531e08",
   "metadata": {},
   "outputs": [],
   "source": [
    "###FIXME: DROPING DUPLICATES\n",
    "df.drop_duplicates(inplace=True)"
   ]
  },
  {
   "cell_type": "code",
   "execution_count": null,
   "id": "48871ba2-a9ac-489b-9e99-837de6a07704",
   "metadata": {},
   "outputs": [],
   "source": [
    "###FIXME: CHANGING DATA TYPES\n",
    "datatime_col = ['trans_data_trans_time', 'dob']\n",
    "category col = ['merchant', 'category', 'city', 'state', 'job', 'is_fraud']"
   ]
  },
  {
   "cell_type": "code",
   "execution_count": null,
   "id": "68016119-10ba-433b-8ed8-00fba6f84b28",
   "metadata": {},
   "outputs": [],
   "source": [
    "###FIXME: COLUMNS I'M KEEPING (at least for now)\n",
    "col_labels =['trans_num', 'trans_data_trans_time',   #transaction tracking\n",
    "             'cc_num', 'lat', 'long', 'dob', 'city', 'state', 'job', #customer details\n",
    "             'category', 'is_fraud', 'amt', #transaction details\n",
    "             'city_pop', #geographic description of trans location \n",
    "             'merchant', 'merch_lat', 'merch_long'] #merchant details"
   ]
  },
  {
   "cell_type": "code",
   "execution_count": null,
   "id": "324fb245-c9e0-4dfd-9e0c-2788bfb90ac1",
   "metadata": {},
   "outputs": [],
   "source": [
    "###FIXME: CHANGING DATATYPES\n",
    "\n",
    "#DATETIME\n",
    "df['trans_date_trans_time'] = pd.to_datetime(df['trans_date_trans_time'])\n",
    "df['dob'] = pd.to_datetime(df['dob'])\n",
    "\n",
    "#CATEGORY\n",
    "df[['category', 'merchant', 'job', 'is_fraud', 'state', 'city']] = \n",
    "    df[['category', 'merchant', 'job', 'is_fraud', 'state', 'city']].astype('category')\n",
    "\n"
   ]
  },
  {
   "cell_type": "code",
   "execution_count": null,
   "id": "a450a0b8-ac7e-41f9-b73a-aac3fb055f08",
   "metadata": {},
   "outputs": [],
   "source": []
  },
  {
   "cell_type": "code",
   "execution_count": null,
   "id": "a38b9401-cb54-4e80-ace2-42ea745cc4db",
   "metadata": {},
   "outputs": [],
   "source": []
  },
  {
   "cell_type": "code",
   "execution_count": null,
   "id": "30d3183c-806f-4056-bba5-04d0171bbc91",
   "metadata": {},
   "outputs": [],
   "source": []
  },
  {
   "cell_type": "code",
   "execution_count": null,
   "id": "170a2e10-1190-4360-a29e-a8b69cb25ac6",
   "metadata": {},
   "outputs": [],
   "source": []
  },
  {
   "cell_type": "code",
   "execution_count": null,
   "id": "4675310c-1354-4bfb-b64f-86840c0d6834",
   "metadata": {},
   "outputs": [],
   "source": []
  },
  {
   "cell_type": "code",
   "execution_count": null,
   "id": "ec38806c-7ab1-435f-9369-801609245a3f",
   "metadata": {},
   "outputs": [],
   "source": []
  },
  {
   "cell_type": "code",
   "execution_count": null,
   "id": "e3d2ce94-8512-4d65-ba1b-18a321ce853a",
   "metadata": {},
   "outputs": [],
   "source": []
  }
 ],
 "metadata": {
  "kernelspec": {
   "display_name": "Python 3 (ipykernel)",
   "language": "python",
   "name": "python3"
  },
  "language_info": {
   "codemirror_mode": {
    "name": "ipython",
    "version": 3
   },
   "file_extension": ".py",
   "mimetype": "text/x-python",
   "name": "python",
   "nbconvert_exporter": "python",
   "pygments_lexer": "ipython3",
   "version": "3.12.3"
  }
 },
 "nbformat": 4,
 "nbformat_minor": 5
}
