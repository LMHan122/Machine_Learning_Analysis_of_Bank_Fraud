{
 "cells": [
  {
   "cell_type": "markdown",
   "id": "0688a081-65f3-45fb-951c-4a3690e463f8",
   "metadata": {},
   "source": [
    "## Data Understanding: Exploring the Dataset\n",
    "\n",
    "This notebook will explore the Credit Card Transactions dataset to identify potential feature issues fulfilling the Data Understanding phase of the CRISP-DM project planning framework. \n",
    "\n",
    "### Objectives:\n",
    "1. **Understand the Dataset**: Gain familiarity with the dataset structure, including feature types, distributions, and relationships.\n",
    "2. **Identify Potential Issues**:\n",
    "   - Missing or incomplete data\n",
    "   - Outliers or anomalies\n",
    "   - Features that may require transformation \n",
    "3. **Document Observations**: Note any data quality issues and potential corrective actions.\n",
    "\n",
    "The aim is to clearly understand the dataset and necessary preprocessing steps, ensuring readiness for the feature engineering and modeling stages."
   ]
  },
  {
   "cell_type": "code",
   "execution_count": 1,
   "id": "77f4e073-50f3-4c2e-8079-99a19f9980d7",
   "metadata": {},
   "outputs": [
    {
     "name": "stderr",
     "output_type": "stream",
     "text": [
      "C:\\Users\\eelil\\.conda\\envs\\Machine_Learning_Analysis_of_Bank_Fraud\\Lib\\site-packages\\paramiko\\pkey.py:82: CryptographyDeprecationWarning: TripleDES has been moved to cryptography.hazmat.decrepit.ciphers.algorithms.TripleDES and will be removed from this module in 48.0.0.\n",
      "  \"cipher\": algorithms.TripleDES,\n",
      "C:\\Users\\eelil\\.conda\\envs\\Machine_Learning_Analysis_of_Bank_Fraud\\Lib\\site-packages\\paramiko\\transport.py:219: CryptographyDeprecationWarning: Blowfish has been moved to cryptography.hazmat.decrepit.ciphers.algorithms.Blowfish and will be removed from this module in 45.0.0.\n",
      "  \"class\": algorithms.Blowfish,\n",
      "C:\\Users\\eelil\\.conda\\envs\\Machine_Learning_Analysis_of_Bank_Fraud\\Lib\\site-packages\\paramiko\\transport.py:243: CryptographyDeprecationWarning: TripleDES has been moved to cryptography.hazmat.decrepit.ciphers.algorithms.TripleDES and will be removed from this module in 48.0.0.\n",
      "  \"class\": algorithms.TripleDES,\n"
     ]
    }
   ],
   "source": [
    "#loading libraries\n",
    "import numpy as np\n",
    "import pandas as pd\n",
    "import geopandas as gpd\n",
    "from geodatasets import get_path\n",
    "import matplotlib.pyplot as plt\n",
    "import seaborn as sns\n",
    "from rapidfuzz import fuzz, process\n",
    "%matplotlib inline"
   ]
  },
  {
   "cell_type": "code",
   "execution_count": 2,
   "id": "578bfc45-7d55-448b-aada-0a8bb9925e52",
   "metadata": {},
   "outputs": [],
   "source": [
    "#path to local csv file\n",
    "data = 'data/1/credit_card_transactions.csv'\n",
    "\n",
    "#making dataframe\n",
    "df = pd.read_csv(data)"
   ]
  },
  {
   "cell_type": "markdown",
   "id": "1776aa07-0e39-4a04-b6ef-c6c4ef4a6197",
   "metadata": {},
   "source": [
    "I am working with a local copy of the CSV file instead of accessing the wandb artifact to ensure that any changes made during the data understanding phase remain temporary and do not affect the original data. When I start on the preprocessing and feature creation phase, I will access the wandb artifact. Additionally, I am not incorporating logging into this file, as this notebook will serve as my log for this phase."
   ]
  },
  {
   "cell_type": "code",
   "execution_count": 3,
   "id": "50897b2d-5363-48bb-9329-f97cc0c40cb0",
   "metadata": {},
   "outputs": [
    {
     "data": {
      "text/html": [
       "<div>\n",
       "<style scoped>\n",
       "    .dataframe tbody tr th:only-of-type {\n",
       "        vertical-align: middle;\n",
       "    }\n",
       "\n",
       "    .dataframe tbody tr th {\n",
       "        vertical-align: top;\n",
       "    }\n",
       "\n",
       "    .dataframe thead th {\n",
       "        text-align: right;\n",
       "    }\n",
       "</style>\n",
       "<table border=\"1\" class=\"dataframe\">\n",
       "  <thead>\n",
       "    <tr style=\"text-align: right;\">\n",
       "      <th></th>\n",
       "      <th>Unnamed: 0</th>\n",
       "      <th>trans_date_trans_time</th>\n",
       "      <th>cc_num</th>\n",
       "      <th>merchant</th>\n",
       "      <th>category</th>\n",
       "      <th>amt</th>\n",
       "      <th>first</th>\n",
       "      <th>last</th>\n",
       "      <th>gender</th>\n",
       "      <th>street</th>\n",
       "      <th>...</th>\n",
       "      <th>long</th>\n",
       "      <th>city_pop</th>\n",
       "      <th>job</th>\n",
       "      <th>dob</th>\n",
       "      <th>trans_num</th>\n",
       "      <th>unix_time</th>\n",
       "      <th>merch_lat</th>\n",
       "      <th>merch_long</th>\n",
       "      <th>is_fraud</th>\n",
       "      <th>merch_zipcode</th>\n",
       "    </tr>\n",
       "  </thead>\n",
       "  <tbody>\n",
       "    <tr>\n",
       "      <th>0</th>\n",
       "      <td>0</td>\n",
       "      <td>2019-01-01 00:00:18</td>\n",
       "      <td>2703186189652095</td>\n",
       "      <td>fraud_Rippin, Kub and Mann</td>\n",
       "      <td>misc_net</td>\n",
       "      <td>4.97</td>\n",
       "      <td>Jennifer</td>\n",
       "      <td>Banks</td>\n",
       "      <td>F</td>\n",
       "      <td>561 Perry Cove</td>\n",
       "      <td>...</td>\n",
       "      <td>-81.1781</td>\n",
       "      <td>3495</td>\n",
       "      <td>Psychologist, counselling</td>\n",
       "      <td>1988-03-09</td>\n",
       "      <td>0b242abb623afc578575680df30655b9</td>\n",
       "      <td>1325376018</td>\n",
       "      <td>36.011293</td>\n",
       "      <td>-82.048315</td>\n",
       "      <td>0</td>\n",
       "      <td>28705.0</td>\n",
       "    </tr>\n",
       "    <tr>\n",
       "      <th>1</th>\n",
       "      <td>1</td>\n",
       "      <td>2019-01-01 00:00:44</td>\n",
       "      <td>630423337322</td>\n",
       "      <td>fraud_Heller, Gutmann and Zieme</td>\n",
       "      <td>grocery_pos</td>\n",
       "      <td>107.23</td>\n",
       "      <td>Stephanie</td>\n",
       "      <td>Gill</td>\n",
       "      <td>F</td>\n",
       "      <td>43039 Riley Greens Suite 393</td>\n",
       "      <td>...</td>\n",
       "      <td>-118.2105</td>\n",
       "      <td>149</td>\n",
       "      <td>Special educational needs teacher</td>\n",
       "      <td>1978-06-21</td>\n",
       "      <td>1f76529f8574734946361c461b024d99</td>\n",
       "      <td>1325376044</td>\n",
       "      <td>49.159047</td>\n",
       "      <td>-118.186462</td>\n",
       "      <td>0</td>\n",
       "      <td>NaN</td>\n",
       "    </tr>\n",
       "    <tr>\n",
       "      <th>2</th>\n",
       "      <td>2</td>\n",
       "      <td>2019-01-01 00:00:51</td>\n",
       "      <td>38859492057661</td>\n",
       "      <td>fraud_Lind-Buckridge</td>\n",
       "      <td>entertainment</td>\n",
       "      <td>220.11</td>\n",
       "      <td>Edward</td>\n",
       "      <td>Sanchez</td>\n",
       "      <td>M</td>\n",
       "      <td>594 White Dale Suite 530</td>\n",
       "      <td>...</td>\n",
       "      <td>-112.2620</td>\n",
       "      <td>4154</td>\n",
       "      <td>Nature conservation officer</td>\n",
       "      <td>1962-01-19</td>\n",
       "      <td>a1a22d70485983eac12b5b88dad1cf95</td>\n",
       "      <td>1325376051</td>\n",
       "      <td>43.150704</td>\n",
       "      <td>-112.154481</td>\n",
       "      <td>0</td>\n",
       "      <td>83236.0</td>\n",
       "    </tr>\n",
       "    <tr>\n",
       "      <th>3</th>\n",
       "      <td>3</td>\n",
       "      <td>2019-01-01 00:01:16</td>\n",
       "      <td>3534093764340240</td>\n",
       "      <td>fraud_Kutch, Hermiston and Farrell</td>\n",
       "      <td>gas_transport</td>\n",
       "      <td>45.00</td>\n",
       "      <td>Jeremy</td>\n",
       "      <td>White</td>\n",
       "      <td>M</td>\n",
       "      <td>9443 Cynthia Court Apt. 038</td>\n",
       "      <td>...</td>\n",
       "      <td>-112.1138</td>\n",
       "      <td>1939</td>\n",
       "      <td>Patent attorney</td>\n",
       "      <td>1967-01-12</td>\n",
       "      <td>6b849c168bdad6f867558c3793159a81</td>\n",
       "      <td>1325376076</td>\n",
       "      <td>47.034331</td>\n",
       "      <td>-112.561071</td>\n",
       "      <td>0</td>\n",
       "      <td>NaN</td>\n",
       "    </tr>\n",
       "    <tr>\n",
       "      <th>4</th>\n",
       "      <td>4</td>\n",
       "      <td>2019-01-01 00:03:06</td>\n",
       "      <td>375534208663984</td>\n",
       "      <td>fraud_Keeling-Crist</td>\n",
       "      <td>misc_pos</td>\n",
       "      <td>41.96</td>\n",
       "      <td>Tyler</td>\n",
       "      <td>Garcia</td>\n",
       "      <td>M</td>\n",
       "      <td>408 Bradley Rest</td>\n",
       "      <td>...</td>\n",
       "      <td>-79.4629</td>\n",
       "      <td>99</td>\n",
       "      <td>Dance movement psychotherapist</td>\n",
       "      <td>1986-03-28</td>\n",
       "      <td>a41d7549acf90789359a9aa5346dcb46</td>\n",
       "      <td>1325376186</td>\n",
       "      <td>38.674999</td>\n",
       "      <td>-78.632459</td>\n",
       "      <td>0</td>\n",
       "      <td>22844.0</td>\n",
       "    </tr>\n",
       "  </tbody>\n",
       "</table>\n",
       "<p>5 rows × 24 columns</p>\n",
       "</div>"
      ],
      "text/plain": [
       "   Unnamed: 0 trans_date_trans_time            cc_num  \\\n",
       "0           0   2019-01-01 00:00:18  2703186189652095   \n",
       "1           1   2019-01-01 00:00:44      630423337322   \n",
       "2           2   2019-01-01 00:00:51    38859492057661   \n",
       "3           3   2019-01-01 00:01:16  3534093764340240   \n",
       "4           4   2019-01-01 00:03:06   375534208663984   \n",
       "\n",
       "                             merchant       category     amt      first  \\\n",
       "0          fraud_Rippin, Kub and Mann       misc_net    4.97   Jennifer   \n",
       "1     fraud_Heller, Gutmann and Zieme    grocery_pos  107.23  Stephanie   \n",
       "2                fraud_Lind-Buckridge  entertainment  220.11     Edward   \n",
       "3  fraud_Kutch, Hermiston and Farrell  gas_transport   45.00     Jeremy   \n",
       "4                 fraud_Keeling-Crist       misc_pos   41.96      Tyler   \n",
       "\n",
       "      last gender                        street  ...      long city_pop  \\\n",
       "0    Banks      F                561 Perry Cove  ...  -81.1781     3495   \n",
       "1     Gill      F  43039 Riley Greens Suite 393  ... -118.2105      149   \n",
       "2  Sanchez      M      594 White Dale Suite 530  ... -112.2620     4154   \n",
       "3    White      M   9443 Cynthia Court Apt. 038  ... -112.1138     1939   \n",
       "4   Garcia      M              408 Bradley Rest  ...  -79.4629       99   \n",
       "\n",
       "                                 job         dob  \\\n",
       "0          Psychologist, counselling  1988-03-09   \n",
       "1  Special educational needs teacher  1978-06-21   \n",
       "2        Nature conservation officer  1962-01-19   \n",
       "3                    Patent attorney  1967-01-12   \n",
       "4     Dance movement psychotherapist  1986-03-28   \n",
       "\n",
       "                          trans_num   unix_time  merch_lat  merch_long  \\\n",
       "0  0b242abb623afc578575680df30655b9  1325376018  36.011293  -82.048315   \n",
       "1  1f76529f8574734946361c461b024d99  1325376044  49.159047 -118.186462   \n",
       "2  a1a22d70485983eac12b5b88dad1cf95  1325376051  43.150704 -112.154481   \n",
       "3  6b849c168bdad6f867558c3793159a81  1325376076  47.034331 -112.561071   \n",
       "4  a41d7549acf90789359a9aa5346dcb46  1325376186  38.674999  -78.632459   \n",
       "\n",
       "  is_fraud  merch_zipcode  \n",
       "0        0        28705.0  \n",
       "1        0            NaN  \n",
       "2        0        83236.0  \n",
       "3        0            NaN  \n",
       "4        0        22844.0  \n",
       "\n",
       "[5 rows x 24 columns]"
      ]
     },
     "execution_count": 3,
     "metadata": {},
     "output_type": "execute_result"
    }
   ],
   "source": [
    "#viewing the first 5 rows of data\n",
    "df.head()"
   ]
  },
  {
   "cell_type": "code",
   "execution_count": 4,
   "id": "3729c6ed-6a18-419c-b08b-4165bd3099f2",
   "metadata": {},
   "outputs": [
    {
     "data": {
      "text/plain": [
       "Index(['Unnamed: 0', 'trans_date_trans_time', 'cc_num', 'merchant', 'category',\n",
       "       'amt', 'first', 'last', 'gender', 'street', 'city', 'state', 'zip',\n",
       "       'lat', 'long', 'city_pop', 'job', 'dob', 'trans_num', 'unix_time',\n",
       "       'merch_lat', 'merch_long', 'is_fraud', 'merch_zipcode'],\n",
       "      dtype='object')"
      ]
     },
     "execution_count": 4,
     "metadata": {},
     "output_type": "execute_result"
    }
   ],
   "source": [
    "df.columns"
   ]
  },
  {
   "cell_type": "markdown",
   "id": "cdd85354-e888-49cf-93e9-d449ca318f0a",
   "metadata": {},
   "source": [
    "### Column Descriptions and Initial Observations\n",
    "\n",
    "The dataset contains the following columns:\n",
    "\n",
    "1. **Unnamed**: Original index column, redundant in this analysis.\n",
    "2. **trans_date_trans_time**: Timestamp of the transaction.\n",
    "3. **cc_num**: Credit card number (hashed/anonymized).\n",
    "4. **merchant**: Merchant or store where the transaction occurred.\n",
    "5. **category**: Type of transaction.\n",
    "6. **amt**: Amount of the transaction.\n",
    "7. **first**: First name of the cardholder.\n",
    "8. **last**: Last name of the cardholder.\n",
    "9. **gender**: Gender of the cardholder.\n",
    "10. **street**: Address details of the cardholder.\n",
    "11. **city**: Address details of the cardholder.\n",
    "12. **state**: Address details of the cardholder.\n",
    "13. **zip**: Address details of the cardholder.\n",
    "14. **lat**: Geographical coordinates of the transaction.\n",
    "15. **long**: Geographical coordinates of the transaction.\n",
    "16. **city_pop**: Population of the city where the transaction occurred.\n",
    "17. **job**: Occupation of the cardholder.\n",
    "18. **dob**: Date of birth of the cardholder.\n",
    "19. **trans_num**: Unique transaction number.\n",
    "20. **unix_time**: Unix timestamp of the transaction.\n",
    "21. **merch_lat**: Geographical coordinates of the merchant.\n",
    "22. **merch_long**: Geographical coordinates of the merchant.\n",
    "23. **is_fraud**: Indicator of whether the transaction is fraudulent.\n",
    "24. **merch_zipcode**: Zip code of the merchant.\n",
    "\n",
    "**Please note, these column descriptions are taken directly from [Kaggle](https://www.kaggle.com/datasets/priyamchoksi/credit-card-transactions-dataset) (Choksi, n.d.).**    \n",
    "\n",
    "Based on the column descriptions and the initial inspection of the data (first five rows of the dataframe), the following columns will be removed:\n",
    "\n",
    "1. **Unnamed**: This column served as the original index and is redundant.\n",
    "\n",
    "2. **first**, **last**, **gender**, **street**, **zip**, **merch_zipcode**:\n",
    "   - **first** and **last** are not necessary for analysis, as the credit card number (`cc_num`) already identifies the account.\n",
    "   - **gender** is unlikely to contribute to identifying fraudulent transactions and could introduce bias or discrimination into the model.\n",
    "   - **unix_time** will be dropped if 'trans_data_trans_time' is complete.\n",
    "   - **street** is too specific for this project. I will be using city and state for customer's location.\n",
    "   - **zip**, **merch_zipcode** will be dropped for redundency if other location based columns are complete.\n",
    "\n",
    "**trans_num** will be retained to prevent identical values in other columns from mistakenly flagged as duplicates, and won't be adjusted unless there are duplicate values.  \n"
   ]
  },
  {
   "cell_type": "code",
   "execution_count": 5,
   "id": "25708ece-f03a-42e3-ab48-8701e7a5dd1c",
   "metadata": {},
   "outputs": [],
   "source": [
    "#dropping unnamed column\n",
    "df.drop(df.columns[df.columns.str.contains(\n",
    "    'unnamed', case=False)], axis=1, inplace=True)"
   ]
  },
  {
   "cell_type": "code",
   "execution_count": 6,
   "id": "8158cdb5-4975-42be-8695-ad9762b5d1cc",
   "metadata": {},
   "outputs": [],
   "source": [
    "#dropping 'first', 'last', and 'gender'\n",
    "df.drop(['first', 'last', 'gender'], axis=1, inplace=True)"
   ]
  },
  {
   "cell_type": "code",
   "execution_count": 7,
   "id": "590d5541-25f0-4bea-a4bb-2baf8d9084ef",
   "metadata": {},
   "outputs": [
    {
     "data": {
      "text/plain": [
       "(1296675, 20)"
      ]
     },
     "execution_count": 7,
     "metadata": {},
     "output_type": "execute_result"
    }
   ],
   "source": [
    "#checking the number of records and columns\n",
    "df.shape"
   ]
  },
  {
   "cell_type": "code",
   "execution_count": 8,
   "id": "54945cec-2ec4-4f66-9274-ba8995b93d0f",
   "metadata": {},
   "outputs": [
    {
     "data": {
      "text/plain": [
       "(1296675, 20)"
      ]
     },
     "execution_count": 8,
     "metadata": {},
     "output_type": "execute_result"
    }
   ],
   "source": [
    "#dropping any duplicate rows\n",
    "df.drop_duplicates(inplace=True)\n",
    "#checking if the number of records changed\n",
    "df.shape"
   ]
  },
  {
   "cell_type": "markdown",
   "id": "2570a940-c68b-4a2d-bc89-e736ac910df7",
   "metadata": {},
   "source": [
    "There were no duplicates in this dataset. However, I will add duplicate-checking in the data preparation phase to accommodate future datasets."
   ]
  },
  {
   "cell_type": "code",
   "execution_count": 9,
   "id": "26ca0cd0-3812-4179-b44d-1b526fd35ada",
   "metadata": {},
   "outputs": [
    {
     "name": "stdout",
     "output_type": "stream",
     "text": [
      "<class 'pandas.core.frame.DataFrame'>\n",
      "RangeIndex: 1296675 entries, 0 to 1296674\n",
      "Data columns (total 20 columns):\n",
      " #   Column                 Non-Null Count    Dtype  \n",
      "---  ------                 --------------    -----  \n",
      " 0   trans_date_trans_time  1296675 non-null  object \n",
      " 1   cc_num                 1296675 non-null  int64  \n",
      " 2   merchant               1296675 non-null  object \n",
      " 3   category               1296675 non-null  object \n",
      " 4   amt                    1296675 non-null  float64\n",
      " 5   street                 1296675 non-null  object \n",
      " 6   city                   1296675 non-null  object \n",
      " 7   state                  1296675 non-null  object \n",
      " 8   zip                    1296675 non-null  int64  \n",
      " 9   lat                    1296675 non-null  float64\n",
      " 10  long                   1296675 non-null  float64\n",
      " 11  city_pop               1296675 non-null  int64  \n",
      " 12  job                    1296675 non-null  object \n",
      " 13  dob                    1296675 non-null  object \n",
      " 14  trans_num              1296675 non-null  object \n",
      " 15  unix_time              1296675 non-null  int64  \n",
      " 16  merch_lat              1296675 non-null  float64\n",
      " 17  merch_long             1296675 non-null  float64\n",
      " 18  is_fraud               1296675 non-null  int64  \n",
      " 19  merch_zipcode          1100702 non-null  float64\n",
      "dtypes: float64(6), int64(5), object(9)\n",
      "memory usage: 197.9+ MB\n"
     ]
    }
   ],
   "source": [
    "df.info()"
   ]
  },
  {
   "cell_type": "code",
   "execution_count": 10,
   "id": "f0c880ec-657a-4190-b7fa-8eda107971a6",
   "metadata": {},
   "outputs": [],
   "source": [
    "#dropping redundant columns\n",
    "df.drop(['street', 'zip', 'merch_zipcode', 'unix_time'], axis=1, inplace=True)"
   ]
  },
  {
   "cell_type": "markdown",
   "id": "e6769734-ab16-4a32-9d54-b745aefe4504",
   "metadata": {},
   "source": [
    "### Based on the datatypes and null values:\n",
    "\n",
    "**Location Columns**\n",
    "Due to redundancy, several location columns ('street,' 'zip,' 'merch_zipcode) were dropped. \n",
    "- The latitude and longitude columns for merchants are complete and will be utilized in the next phase for merchant location, resulting in 'merch_zipcode' being dropped. This also removed all null values from the dataframe.\n",
    "- The 'street' column was dropped since 'city' and 'state' will represent the customer's location.\n",
    "\n",
    "**Unix Time Column**\n",
    "The 'unix_time' column was dropped for redundancy since 'trans_date_trans_time' is complete. I intend to make several new datetime columns.\n",
    "\n",
    "**Columns with Unusual Data Types** \n",
    "- trans_date_trans_time  |  object \n",
    "- merchant               |  object \n",
    "- category               |  object \n",
    "- city                   |  object   \n",
    "- state                  |  object  \n",
    "- job                    |  object  \n",
    "- dob                    |  object  \n",
    "- is_fraud               |  int64    "
   ]
  },
  {
   "cell_type": "markdown",
   "id": "f30e7075-5013-447e-bd80-4e64ad338187",
   "metadata": {},
   "source": [
    "\n",
    "Will be changed to: \n",
    "1. **'trans_data_trans_time', 'dob'** - datetime\n",
    "2. **'merchant', 'category', 'city', 'state', 'job', 'is_fraud'** - category"
   ]
  },
  {
   "cell_type": "code",
   "execution_count": 11,
   "id": "738ec057-e265-4443-8b8d-903e1762d989",
   "metadata": {},
   "outputs": [
    {
     "data": {
      "text/plain": [
       "trans_date_trans_time    1274791\n",
       "cc_num                       983\n",
       "merchant                     693\n",
       "category                      14\n",
       "amt                        52928\n",
       "city                         894\n",
       "state                         51\n",
       "lat                          968\n",
       "long                         969\n",
       "city_pop                     879\n",
       "job                          494\n",
       "dob                          968\n",
       "trans_num                1296675\n",
       "merch_lat                1247805\n",
       "merch_long               1275745\n",
       "is_fraud                       2\n",
       "dtype: int64"
      ]
     },
     "execution_count": 11,
     "metadata": {},
     "output_type": "execute_result"
    }
   ],
   "source": [
    "#number of unique values in each column\n",
    "df.nunique()"
   ]
  },
  {
   "cell_type": "code",
   "execution_count": 12,
   "id": "31859e2d-61db-4fde-b291-457e690d2c8c",
   "metadata": {},
   "outputs": [
    {
     "name": "stdout",
     "output_type": "stream",
     "text": [
      "<class 'pandas.core.series.Series'>\n",
      "RangeIndex: 1296675 entries, 0 to 1296674\n",
      "Series name: trans_date_trans_time\n",
      "Non-Null Count    Dtype         \n",
      "--------------    -----         \n",
      "1296675 non-null  datetime64[ns]\n",
      "dtypes: datetime64[ns](1)\n",
      "memory usage: 9.9 MB\n"
     ]
    }
   ],
   "source": [
    "#changing data types of some columns for easier plotting\n",
    "#first the datetime columns\n",
    "df['trans_date_trans_time'] = pd.to_datetime(df['trans_date_trans_time'])\n",
    "df['trans_date_trans_time'].info()"
   ]
  },
  {
   "cell_type": "code",
   "execution_count": 13,
   "id": "d495c4c0-655a-4905-9ede-4b3615e47c53",
   "metadata": {},
   "outputs": [
    {
     "name": "stdout",
     "output_type": "stream",
     "text": [
      "<class 'pandas.core.series.Series'>\n",
      "RangeIndex: 1296675 entries, 0 to 1296674\n",
      "Series name: dob\n",
      "Non-Null Count    Dtype         \n",
      "--------------    -----         \n",
      "1296675 non-null  datetime64[ns]\n",
      "dtypes: datetime64[ns](1)\n",
      "memory usage: 9.9 MB\n"
     ]
    }
   ],
   "source": [
    "df['dob'] = pd.to_datetime(df['dob'])\n",
    "df['dob'].info()"
   ]
  },
  {
   "cell_type": "code",
   "execution_count": 14,
   "id": "b4ccbeaa-2020-421f-b4f5-c21dc12b7089",
   "metadata": {},
   "outputs": [
    {
     "name": "stdout",
     "output_type": "stream",
     "text": [
      "<class 'pandas.core.frame.DataFrame'>\n",
      "RangeIndex: 1296675 entries, 0 to 1296674\n",
      "Data columns (total 6 columns):\n",
      " #   Column    Non-Null Count    Dtype   \n",
      "---  ------    --------------    -----   \n",
      " 0   category  1296675 non-null  category\n",
      " 1   merchant  1296675 non-null  category\n",
      " 2   job       1296675 non-null  category\n",
      " 3   is_fraud  1296675 non-null  category\n",
      " 4   state     1296675 non-null  category\n",
      " 5   city      1296675 non-null  category\n",
      "dtypes: category(6)\n",
      "memory usage: 11.2 MB\n"
     ]
    }
   ],
   "source": [
    "#now the category columns\n",
    "df[['category', 'merchant', 'job', 'is_fraud', 'state', 'city']] = df[['category', 'merchant', 'job', 'is_fraud', 'state', 'city']].astype('category')\n",
    "df[['category', 'merchant', 'job', 'is_fraud', 'state', 'city']].info()"
   ]
  },
  {
   "cell_type": "code",
   "execution_count": 15,
   "id": "9946e672-9c20-4cfa-a02c-944970fc65e9",
   "metadata": {},
   "outputs": [
    {
     "name": "stdout",
     "output_type": "stream",
     "text": [
      "<class 'pandas.core.frame.DataFrame'>\n",
      "RangeIndex: 1296675 entries, 0 to 1296674\n",
      "Data columns (total 16 columns):\n",
      " #   Column                 Non-Null Count    Dtype         \n",
      "---  ------                 --------------    -----         \n",
      " 0   trans_date_trans_time  1296675 non-null  datetime64[ns]\n",
      " 1   cc_num                 1296675 non-null  int64         \n",
      " 2   merchant               1296675 non-null  category      \n",
      " 3   category               1296675 non-null  category      \n",
      " 4   amt                    1296675 non-null  float64       \n",
      " 5   city                   1296675 non-null  category      \n",
      " 6   state                  1296675 non-null  category      \n",
      " 7   lat                    1296675 non-null  float64       \n",
      " 8   long                   1296675 non-null  float64       \n",
      " 9   city_pop               1296675 non-null  int64         \n",
      " 10  job                    1296675 non-null  category      \n",
      " 11  dob                    1296675 non-null  datetime64[ns]\n",
      " 12  trans_num              1296675 non-null  object        \n",
      " 13  merch_lat              1296675 non-null  float64       \n",
      " 14  merch_long             1296675 non-null  float64       \n",
      " 15  is_fraud               1296675 non-null  category      \n",
      "dtypes: category(6), datetime64[ns](2), float64(5), int64(2), object(1)\n",
      "memory usage: 110.1+ MB\n"
     ]
    }
   ],
   "source": [
    "#checking data types before plotting\n",
    "df.info()"
   ]
  },
  {
   "cell_type": "markdown",
   "id": "3e17675f-529b-4a72-b175-c201e46476a4",
   "metadata": {},
   "source": [
    "## Column Analysis"
   ]
  },
  {
   "cell_type": "markdown",
   "id": "5b3979f9-d6f4-44dd-8e31-34e5d21a77d1",
   "metadata": {},
   "source": [
    "### Column - 'is_fraud'"
   ]
  },
  {
   "cell_type": "code",
   "execution_count": 16,
   "id": "f2b12931-b512-4772-8f29-6277478e9fe2",
   "metadata": {},
   "outputs": [],
   "source": [
    "#grouping fraud accounts\n",
    "fraud = df.groupby('is_fraud', observed=True)"
   ]
  },
  {
   "cell_type": "code",
   "execution_count": 17,
   "id": "7abfa3f6-f7f5-486e-916e-4e9e3784867a",
   "metadata": {},
   "outputs": [
    {
     "data": {
      "image/png": "[encoded data removed]",
      "text/plain": [
       "<Figure size 1300x600 with 1 Axes>"
      ]
     },
     "metadata": {},
     "output_type": "display_data"
    }
   ],
   "source": [
    "#visualizing what portion of the data is fraudulent transactions\n",
    "fraud_counts = fraud.size()\n",
    "ax = fraud_counts.plot(kind='bar', rot=0,  color=['blue', 'red'], figsize=(13,6))\n",
    "\n",
    "plt.xlabel('Fraud')\n",
    "plt.ylabel('Count in Millions')\n",
    "ax.set_title('Transaction Counts: Fraud vs. Non-Fraud', fontsize=16)\n",
    "\n",
    "plt.show()"
   ]
  },
  {
   "cell_type": "code",
   "execution_count": 18,
   "id": "5a722642-cb82-4345-9853-3cdc1e22889c",
   "metadata": {},
   "outputs": [
    {
     "data": {
      "text/plain": [
       "is_fraud\n",
       "0    1289169\n",
       "1       7506\n",
       "dtype: int64"
      ]
     },
     "execution_count": 18,
     "metadata": {},
     "output_type": "execute_result"
    }
   ],
   "source": [
    "# 1 = fraudulant transaction, 0 = non-fraudulant transaction\n",
    "fraud_counts"
   ]
  },
  {
   "cell_type": "code",
   "execution_count": 19,
   "id": "febc593d-081b-491f-a26b-30494b976d56",
   "metadata": {},
   "outputs": [
    {
     "data": {
      "text/plain": [
       "is_fraud\n",
       "0    99.42\n",
       "1     0.58\n",
       "dtype: float64"
      ]
     },
     "execution_count": 19,
     "metadata": {},
     "output_type": "execute_result"
    }
   ],
   "source": [
    "fraud_percentages = (fraud_counts / fraud_counts.sum() * 100).round(2)\n",
    "fraud_percentages"
   ]
  },
  {
   "cell_type": "markdown",
   "id": "0acd2292-aaa9-4990-b5ea-c23f5c4efc97",
   "metadata": {},
   "source": [
    "**Less than 1% of the transactions are fraudulent.**"
   ]
  },
  {
   "cell_type": "code",
   "execution_count": 20,
   "id": "6793d249-aa1f-49f6-9ec4-b4b51f2a4a4d",
   "metadata": {},
   "outputs": [
    {
     "data": {
      "text/plain": [
       "is_fraud\n",
       "0    87234340.29\n",
       "1     3988088.61\n",
       "Name: amt, dtype: float64"
      ]
     },
     "execution_count": 20,
     "metadata": {},
     "output_type": "execute_result"
    }
   ],
   "source": [
    "#calculating how much the fraud transactions are\n",
    "fraud_amount = fraud['amt'].sum()\n",
    "fraud_amount"
   ]
  },
  {
   "cell_type": "code",
   "execution_count": 21,
   "id": "3548e2f5-1ac1-4bf6-b9d1-98f41e21f8c3",
   "metadata": {},
   "outputs": [
    {
     "data": {
      "image/png": "[encoded data removed]",
      "text/plain": [
       "<Figure size 1300x600 with 1 Axes>"
      ]
     },
     "metadata": {},
     "output_type": "display_data"
    }
   ],
   "source": [
    "ax = fraud_amount.plot(kind='bar', rot=0,  color=['blue', 'red'], figsize=(13,6))\n",
    "\n",
    "plt.xlabel('Fraud Classification')\n",
    "plt.ylabel('Transaction Amount (Tens of Millions)')\n",
    "ax.set_title('Transaction Amount: Fraud vs. Non-Fraud', fontsize=16)\n",
    "\n",
    "plt.show()"
   ]
  },
  {
   "cell_type": "code",
   "execution_count": 22,
   "id": "d80970b2-62dd-4d87-b73c-184c015aad7d",
   "metadata": {},
   "outputs": [
    {
     "data": {
      "text/plain": [
       "is_fraud\n",
       "0    95.63\n",
       "1     4.37\n",
       "Name: amt, dtype: float64"
      ]
     },
     "execution_count": 22,
     "metadata": {},
     "output_type": "execute_result"
    }
   ],
   "source": [
    "fraud_amount_per = (fraud_amount / fraud_amount.sum() * 100).round(2)\n",
    "fraud_amount_per"
   ]
  },
  {
   "cell_type": "markdown",
   "id": "494be88e-20ba-45e4-b429-25f0555a3939",
   "metadata": {},
   "source": [
    "**While it makes up over 4% of the transaction amount.** The 'is_fraud' column does not be adjusted. "
   ]
  },
  {
   "cell_type": "markdown",
   "id": "79f50cda-04e9-4e41-b9c8-b5e80c788f92",
   "metadata": {},
   "source": [
    "### Column - 'amt'"
   ]
  },
  {
   "cell_type": "code",
   "execution_count": 23,
   "id": "ad722889-245b-4923-85c1-f6cf5f6011bf",
   "metadata": {},
   "outputs": [
    {
     "data": {
      "text/plain": [
       "count    1.296675e+06\n",
       "mean     7.035104e+01\n",
       "std      1.603160e+02\n",
       "min      1.000000e+00\n",
       "25%      9.650000e+00\n",
       "50%      4.752000e+01\n",
       "75%      8.314000e+01\n",
       "max      2.894890e+04\n",
       "Name: amt, dtype: float64"
      ]
     },
     "execution_count": 23,
     "metadata": {},
     "output_type": "execute_result"
    }
   ],
   "source": [
    "#looking further into transaction amount\n",
    "amt = df['amt']\n",
    "amt.describe()"
   ]
  },
  {
   "cell_type": "code",
   "execution_count": 24,
   "id": "0d67f434-fac5-4d9c-9956-ae3370746f58",
   "metadata": {},
   "outputs": [
    {
     "name": "stdout",
     "output_type": "stream",
     "text": [
      "Min Transactional Amount $1.00 and Max Transactional Amount $28,948.90\n"
     ]
    }
   ],
   "source": [
    "#for easier viewing\n",
    "print(f\"Min Transactional Amount ${amt.min():,.2f} and Max Transactional Amount ${amt.max():,.2f}\")"
   ]
  },
  {
   "cell_type": "code",
   "execution_count": 25,
   "id": "42cf5001-80df-4b2d-b823-6f19303fe8ed",
   "metadata": {},
   "outputs": [
    {
     "data": {
      "image/png": "[encoded data removed]",
      "text/plain": [
       "<Figure size 640x480 with 1 Axes>"
      ]
     },
     "metadata": {},
     "output_type": "display_data"
    }
   ],
   "source": [
    "#applying a logarithmic transformation to the amount column for better visualization in the boxplot\n",
    "amt_trans = np.log(amt[amt > 0])\n",
    "\n",
    "#boxplot\n",
    "plt.boxplot(amt_trans)\n",
    "plt.xlabel('Transactions')\n",
    "plt.ylabel('Log-Transformed Amount')\n",
    "plt.title('Boxplot of Log-Transformed Transaction Amounts')\n",
    "plt.show()"
   ]
  },
  {
   "cell_type": "markdown",
   "id": "fc88724f-ab38-460c-bd5c-4be58efabcad",
   "metadata": {},
   "source": [
    "This plot highlights a relatively large number of outliers at the higher end of the transaction amounts. No issues requiring changes to the 'amt' column were identified at this stage."
   ]
  },
  {
   "cell_type": "markdown",
   "id": "a6aff5a6-0bfe-473a-b923-07de1d369ebb",
   "metadata": {},
   "source": [
    "### Column - 'category'"
   ]
  },
  {
   "cell_type": "code",
   "execution_count": 26,
   "id": "e42b8493-d9a2-48cd-8c53-4c991e166149",
   "metadata": {},
   "outputs": [
    {
     "data": {
      "image/png": "[encoded data removed]",
      "text/plain": [
       "<Figure size 1000x600 with 1 Axes>"
      ]
     },
     "metadata": {},
     "output_type": "display_data"
    }
   ],
   "source": [
    "#plotting category frequency\n",
    "df['category'].value_counts().plot(kind='bar', figsize=(10, 6), ylabel = 'Number of Transactions', title='Transaction Frequency by Category')\n",
    "plt.show()"
   ]
  },
  {
   "cell_type": "markdown",
   "id": "0428ed2a-c7aa-4d42-933d-78c3e7128674",
   "metadata": {},
   "source": [
    "The 'category' column contains 14 unique values representing transaction types. Based on the names:\n",
    "\n",
    "1. **Online Transactions:** Categories such as 'shopping_net', 'misc_net', and 'grocery_net' include 'net', likely indicating online transactions.\n",
    "2. **In-Person Transactions:** Categories such as 'grocery_pos', 'shopping_pos', 'misc_pos', and 'gas_transport' include 'pos' or are typical in-person transactions (e.g., gas purchases).\n",
    "3. **Unknown or Mixed:** Categories like 'home', 'kids_pets', 'entertainment', 'food_dining', 'personal_care', 'health_fitness', and 'travel' lack clear indicators and could represent either online or in-person transactions.\n",
    "\n",
    "Additional research on Kaggle yielded no further details about the column's interpretation. This column will not be adjusted further, but ideas have been generated for potential new columns to be added during preprocessing.\n",
    "\n",
    "### New Column Ideas\n",
    "**Online/In-Person/Mixed Indicator**\n",
    "- Name: 'transaction_type'\n",
    "- Type: Category\n",
    "- Values: 0: Unknown/Mixed, 1: Online, 2: In-Person\n",
    "\n",
    "**Distance From Transaction to Card Holder**\n",
    "- Distance between the transaction's latitude/longitude and the user's city/state coordinates\n",
    "- Name: 'transactional_distance'\n",
    "- Type: Float\n",
    "\n",
    "**Merchant Distance**\n",
    "- Distance between the merchant's latitude/longitude (merch_long, merch_lat) and the user's city/state.\n",
    "- Name: 'merch_distance'\n",
    "- Type: Float\n",
    "\n",
    "**Location Match Indicator**\n",
    "- Indicates whether the transaction location matches the user's city/state.\n",
    "- Name: 'location_match'\n",
    "- Type: Category\n",
    "- Values: 0: Does not match, 1: Matches \n",
    "\n",
    "Processing resources and time will determine if columns are added. This will be researched further during feature creation. "
   ]
  },
  {
   "cell_type": "markdown",
   "id": "e1dbfba1-518b-40ab-a82f-88aae1c770d3",
   "metadata": {},
   "source": [
    "### Location Columns - 'lat', 'long', 'merch_lat', 'merch_long', 'city', 'state'"
   ]
  },
  {
   "cell_type": "code",
   "execution_count": 27,
   "id": "16d81f31-114c-4d07-a3ae-205c1b9b036c",
   "metadata": {},
   "outputs": [],
   "source": [
    "#shapefiles used for this process was downloaded from\n",
    "#https://www.sciencebase.gov/catalog/item/5d150464e4b0941bde5b7654\n",
    "map_file = r'C:\\Users\\eelil\\OneDrive\\Desktop\\Capstone\\Machine_Learning_Analysis_of_Bank_Fraud\\map\\US_Map_3'"
   ]
  },
  {
   "cell_type": "code",
   "execution_count": 28,
   "id": "f468d841-068c-4b89-b18e-9f0becc885ba",
   "metadata": {},
   "outputs": [
    {
     "data": {
      "text/html": [
       "<div>\n",
       "<style scoped>\n",
       "    .dataframe tbody tr th:only-of-type {\n",
       "        vertical-align: middle;\n",
       "    }\n",
       "\n",
       "    .dataframe tbody tr th {\n",
       "        vertical-align: top;\n",
       "    }\n",
       "\n",
       "    .dataframe thead th {\n",
       "        text-align: right;\n",
       "    }\n",
       "</style>\n",
       "<table border=\"1\" class=\"dataframe\">\n",
       "  <thead>\n",
       "    <tr style=\"text-align: right;\">\n",
       "      <th></th>\n",
       "      <th>lat</th>\n",
       "      <th>long</th>\n",
       "      <th>merch_lat</th>\n",
       "      <th>merch_long</th>\n",
       "    </tr>\n",
       "  </thead>\n",
       "  <tbody>\n",
       "    <tr>\n",
       "      <th>count</th>\n",
       "      <td>1.296675e+06</td>\n",
       "      <td>1.296675e+06</td>\n",
       "      <td>1.296675e+06</td>\n",
       "      <td>1.296675e+06</td>\n",
       "    </tr>\n",
       "    <tr>\n",
       "      <th>mean</th>\n",
       "      <td>3.853762e+01</td>\n",
       "      <td>-9.022634e+01</td>\n",
       "      <td>3.853734e+01</td>\n",
       "      <td>-9.022646e+01</td>\n",
       "    </tr>\n",
       "    <tr>\n",
       "      <th>std</th>\n",
       "      <td>5.075808e+00</td>\n",
       "      <td>1.375908e+01</td>\n",
       "      <td>5.109788e+00</td>\n",
       "      <td>1.377109e+01</td>\n",
       "    </tr>\n",
       "    <tr>\n",
       "      <th>min</th>\n",
       "      <td>2.002710e+01</td>\n",
       "      <td>-1.656723e+02</td>\n",
       "      <td>1.902779e+01</td>\n",
       "      <td>-1.666712e+02</td>\n",
       "    </tr>\n",
       "    <tr>\n",
       "      <th>25%</th>\n",
       "      <td>3.462050e+01</td>\n",
       "      <td>-9.679800e+01</td>\n",
       "      <td>3.473357e+01</td>\n",
       "      <td>-9.689728e+01</td>\n",
       "    </tr>\n",
       "    <tr>\n",
       "      <th>50%</th>\n",
       "      <td>3.935430e+01</td>\n",
       "      <td>-8.747690e+01</td>\n",
       "      <td>3.936568e+01</td>\n",
       "      <td>-8.743839e+01</td>\n",
       "    </tr>\n",
       "    <tr>\n",
       "      <th>75%</th>\n",
       "      <td>4.194040e+01</td>\n",
       "      <td>-8.015800e+01</td>\n",
       "      <td>4.195716e+01</td>\n",
       "      <td>-8.023680e+01</td>\n",
       "    </tr>\n",
       "    <tr>\n",
       "      <th>max</th>\n",
       "      <td>6.669330e+01</td>\n",
       "      <td>-6.795030e+01</td>\n",
       "      <td>6.751027e+01</td>\n",
       "      <td>-6.695090e+01</td>\n",
       "    </tr>\n",
       "  </tbody>\n",
       "</table>\n",
       "</div>"
      ],
      "text/plain": [
       "                lat          long     merch_lat    merch_long\n",
       "count  1.296675e+06  1.296675e+06  1.296675e+06  1.296675e+06\n",
       "mean   3.853762e+01 -9.022634e+01  3.853734e+01 -9.022646e+01\n",
       "std    5.075808e+00  1.375908e+01  5.109788e+00  1.377109e+01\n",
       "min    2.002710e+01 -1.656723e+02  1.902779e+01 -1.666712e+02\n",
       "25%    3.462050e+01 -9.679800e+01  3.473357e+01 -9.689728e+01\n",
       "50%    3.935430e+01 -8.747690e+01  3.936568e+01 -8.743839e+01\n",
       "75%    4.194040e+01 -8.015800e+01  4.195716e+01 -8.023680e+01\n",
       "max    6.669330e+01 -6.795030e+01  6.751027e+01 -6.695090e+01"
      ]
     },
     "execution_count": 28,
     "metadata": {},
     "output_type": "execute_result"
    }
   ],
   "source": [
    "#checking the ranges \n",
    "lat_long_columns = ['lat', 'long', 'merch_lat', 'merch_long']\n",
    "df[lat_long_columns].describe()"
   ]
  },
  {
   "cell_type": "code",
   "execution_count": 29,
   "id": "aeba1f2b-555e-4659-813f-f967e97b7b35",
   "metadata": {},
   "outputs": [
    {
     "name": "stdout",
     "output_type": "stream",
     "text": [
      "Smallest value lat = 20.0271\n",
      "Largest value lat = 66.6933\n",
      "Smallest value long = -165.6723\n",
      "Largest value long = -67.9503\n",
      "Smallest value merch_lat = 19.027785\n",
      "Largest value merch_lat = 67.510267\n",
      "Smallest value merch_long = -166.671242\n",
      "Largest value merch_long = -66.950902\n"
     ]
    }
   ],
   "source": [
    "#seeing the min and max values for each column \n",
    "for col in lat_long_columns:\n",
    "    print(f\"Smallest value {col} = {df[col].min()}\") \n",
    "    print(f\"Largest value {col} = {df[col].max()}\") "
   ]
  },
  {
   "cell_type": "code",
   "execution_count": 30,
   "id": "4d83b95b-0ff4-4ed1-93f2-9370626a1cb1",
   "metadata": {},
   "outputs": [
    {
     "data": {
      "image/png": "[encoded data removed]",
      "text/plain": [
       "<Figure size 1500x1500 with 1 Axes>"
      ]
     },
     "metadata": {},
     "output_type": "display_data"
    }
   ],
   "source": [
    "#plotting the transaction locations using 'long' and 'lat' columns\n",
    "gdf = gpd.GeoDataFrame(df, geometry=gpd.points_from_xy(df.long, df.lat))\n",
    "map = gpd.read_file(map_file)\n",
    "ax = map.plot(color='lightgrey', edgecolor='black', figsize=(15,15))\n",
    "plt.xlabel('Longitude')\n",
    "plt.ylabel('Latitude')\n",
    "gdf.plot(ax=ax, color='red', markersize=1)\n",
    "plt.xlim(-170, -65)\n",
    "ax.set_title('Transaction Locations', fontsize=16)\n",
    "plt.show()"
   ]
  },
  {
   "cell_type": "code",
   "execution_count": 31,
   "id": "f8f13cdb-414e-4607-a5da-27c8d0e821e6",
   "metadata": {},
   "outputs": [
    {
     "data": {
      "image/png": "[encoded data removed]",
      "text/plain": [
       "<Figure size 1500x1500 with 1 Axes>"
      ]
     },
     "metadata": {},
     "output_type": "display_data"
    }
   ],
   "source": [
    "#plotting merchant locations using 'merch_long' and 'merch_lat' columns\n",
    "gdf = gpd.GeoDataFrame(df, geometry=gpd.points_from_xy(df.merch_long, df.merch_lat))\n",
    "map = gpd.read_file(map_file)\n",
    "ax = map.plot(color='lightgrey', edgecolor='black', figsize=(15,15))\n",
    "plt.xlabel('Longitude')\n",
    "plt.ylabel('Latitude')\n",
    "gdf.plot(ax=ax, color='blue', markersize=1)\n",
    "plt.xlim(-170, -65)\n",
    "ax.set_title('Merchant Locations', fontsize=16)\n",
    "plt.show()"
   ]
  },
  {
   "cell_type": "code",
   "execution_count": 32,
   "id": "ac7f7332-27bd-4b16-98b4-c280af8d02ed",
   "metadata": {},
   "outputs": [
    {
     "data": {
      "text/plain": [
       "lat               968\n",
       "long              969\n",
       "merch_lat     1247805\n",
       "merch_long    1275745\n",
       "dtype: int64"
      ]
     },
     "execution_count": 32,
     "metadata": {},
     "output_type": "execute_result"
    }
   ],
   "source": [
    "#referencing the unique values for these columns\n",
    "df[lat_long_columns].nunique()"
   ]
  },
  {
   "cell_type": "markdown",
   "id": "0477b798-b46f-487c-9bef-d274e6fb1baa",
   "metadata": {},
   "source": [
    "The data appears to have been anonymized or artificially generated, as indicated by the square clustering observed on the Merchant Locations map and the relatively low number of unique values in the 'lat' and 'long' columns. No adjustments will be made to these columns. "
   ]
  },
  {
   "cell_type": "code",
   "execution_count": 33,
   "id": "ac3bee3d-fd61-496e-952e-6d26bea84fd7",
   "metadata": {},
   "outputs": [
    {
     "data": {
      "text/plain": [
       "city     894\n",
       "state     51\n",
       "dtype: int64"
      ]
     },
     "execution_count": 33,
     "metadata": {},
     "output_type": "execute_result"
    }
   ],
   "source": [
    "#investigating customer location columns\n",
    "cust_loc = ['city', 'state']\n",
    "df[cust_loc].nunique()"
   ]
  },
  {
   "cell_type": "code",
   "execution_count": 34,
   "id": "0eca7dd7-805b-4aa4-bfaa-1b79b1287e09",
   "metadata": {},
   "outputs": [
    {
     "data": {
      "text/plain": [
       "['AK',\n",
       " 'AL',\n",
       " 'AR',\n",
       " 'AZ',\n",
       " 'CA',\n",
       " 'CO',\n",
       " 'CT',\n",
       " 'DC',\n",
       " 'DE',\n",
       " 'FL',\n",
       " 'GA',\n",
       " 'HI',\n",
       " 'IA',\n",
       " 'ID',\n",
       " 'IL',\n",
       " 'IN',\n",
       " 'KS',\n",
       " 'KY',\n",
       " 'LA',\n",
       " 'MA',\n",
       " 'MD',\n",
       " 'ME',\n",
       " 'MI',\n",
       " 'MN',\n",
       " 'MO',\n",
       " 'MS',\n",
       " 'MT',\n",
       " 'NC',\n",
       " 'ND',\n",
       " 'NE',\n",
       " 'NH',\n",
       " 'NJ',\n",
       " 'NM',\n",
       " 'NV',\n",
       " 'NY',\n",
       " 'OH',\n",
       " 'OK',\n",
       " 'OR',\n",
       " 'PA',\n",
       " 'RI',\n",
       " 'SC',\n",
       " 'SD',\n",
       " 'TN',\n",
       " 'TX',\n",
       " 'UT',\n",
       " 'VA',\n",
       " 'VT',\n",
       " 'WA',\n",
       " 'WI',\n",
       " 'WV',\n",
       " 'WY']"
      ]
     },
     "execution_count": 34,
     "metadata": {},
     "output_type": "execute_result"
    }
   ],
   "source": [
    "#checking state code values to see why it is 51\n",
    "states = df['state'].unique()\n",
    "states = states.tolist()\n",
    "states.sort()\n",
    "states"
   ]
  },
  {
   "cell_type": "code",
   "execution_count": 35,
   "id": "6f5fde58-66c9-49f3-af69-62cc5dbc3c48",
   "metadata": {},
   "outputs": [
    {
     "data": {
      "text/plain": [
       "928"
      ]
     },
     "execution_count": 35,
     "metadata": {},
     "output_type": "execute_result"
    }
   ],
   "source": [
    "#calculating unique city, state pair\n",
    "loc_pairs = df[['city', 'state']].drop_duplicates()\n",
    "loc_pairs.shape[0]"
   ]
  },
  {
   "cell_type": "markdown",
   "id": "9c0dc23f-26f5-411f-b583-fcfceaacb6bc",
   "metadata": {},
   "source": [
    "- The 'state' column has 50 US states and DC for Washington DC.\n",
    "- The 'city' column has 894 unique values.\n",
    "- There are 928 unique value pairs representing customer locations, so some cities share names, which might look like a false pattern. \n",
    "- There are 983 unique customer credit card numbers, so some cities have multiple customers.\n",
    "\n",
    "#### New Column Ideas\n",
    "**Latitude and Longitude for Customer's City**\n",
    "- Name: 'cust_lat' & 'cust_long'\n",
    "- Type: Float\n",
    "\n",
    "Create two new columns, which will be populated based on the 'city' and 'state' pair vaules. Once created, the 'city' column can be dropped to prevent false patterns. No further changes will be made to the 'state' column. "
   ]
  },
  {
   "cell_type": "markdown",
   "id": "3007e936-7dd3-483f-a657-1d4bea69be78",
   "metadata": {},
   "source": [
    "\n"
   ]
  },
  {
   "cell_type": "markdown",
   "id": "d9bcecb4-6fad-4c57-85cb-df8766feda05",
   "metadata": {},
   "source": [
    "### Column - 'trans_date_trans_time'"
   ]
  },
  {
   "cell_type": "code",
   "execution_count": 36,
   "id": "583feaad-b446-4a07-9eaf-a7a33e3732b5",
   "metadata": {},
   "outputs": [
    {
     "data": {
      "text/plain": [
       "Index(['trans_dt', 'cc_num', 'merchant', 'category', 'amt', 'city', 'state',\n",
       "       'lat', 'long', 'city_pop', 'job', 'dob', 'trans_num', 'merch_lat',\n",
       "       'merch_long', 'is_fraud'],\n",
       "      dtype='object')"
      ]
     },
     "execution_count": 36,
     "metadata": {},
     "output_type": "execute_result"
    }
   ],
   "source": [
    "#renaming 'trans_date_trans_time' column to something easier\n",
    "df.rename(columns={'trans_date_trans_time' : 'trans_dt'}, inplace=True)\n",
    "df.columns"
   ]
  },
  {
   "cell_type": "code",
   "execution_count": 37,
   "id": "2387607c-c45f-481e-b79b-81ff5b856587",
   "metadata": {},
   "outputs": [
    {
     "data": {
      "text/plain": [
       "(Timestamp('2019-01-01 00:00:18'), Timestamp('2020-06-21 12:13:37'))"
      ]
     },
     "execution_count": 37,
     "metadata": {},
     "output_type": "execute_result"
    }
   ],
   "source": [
    "#calculating date ranges\n",
    "(df['trans_dt'].min(), df['trans_dt'].max())"
   ]
  },
  {
   "cell_type": "code",
   "execution_count": 38,
   "id": "20c56d45-fa93-40d1-a40b-be16bc4d7624",
   "metadata": {},
   "outputs": [
    {
     "data": {
      "image/png": "[encoded data removed]",
      "text/plain": [
       "<Figure size 640x480 with 1 Axes>"
      ]
     },
     "metadata": {},
     "output_type": "display_data"
    }
   ],
   "source": [
    "#creating a quick and easy viz of transactions over time\n",
    "#using bins=18 so there can be approximately 1 bin for each month\n",
    "#this isn't accurately separated by month, using this for ideas\n",
    "n, bins, patches = plt.hist(df['trans_dt'], bins=18)\n",
    "\n",
    "labels = np.arange(1, 19)\n",
    "midpoints = (bins[:-1] + bins[1:]) / 2\n",
    "plt.xticks(ticks=midpoints, labels=labels)\n",
    "\n",
    "plt.title('Transaction Volume by Month')\n",
    "plt.ylabel('Number of Transactions')\n",
    "plt.xlabel('Aprox Month')\n",
    "\n",
    "plt.show()"
   ]
  },
  {
   "cell_type": "markdown",
   "id": "c9e7856b-9e2e-48b4-b620-04e2adcdc4a3",
   "metadata": {},
   "source": [
    "From this plot, we can roughly see that transaction volume can vary from month to month. "
   ]
  },
  {
   "cell_type": "code",
   "execution_count": 39,
   "id": "96771198-e55e-4ea2-8dba-a57f367f2d6e",
   "metadata": {},
   "outputs": [
    {
     "data": {
      "text/plain": [
       "0   2019-01-01 00:00:18\n",
       "1   2019-01-01 00:00:44\n",
       "2   2019-01-01 00:00:51\n",
       "3   2019-01-01 00:01:16\n",
       "4   2019-01-01 00:03:06\n",
       "5   2019-01-01 00:04:08\n",
       "6   2019-01-01 00:04:42\n",
       "7   2019-01-01 00:05:08\n",
       "8   2019-01-01 00:05:18\n",
       "9   2019-01-01 00:06:01\n",
       "Name: trans_dt, dtype: datetime64[ns]"
      ]
     },
     "execution_count": 39,
     "metadata": {},
     "output_type": "execute_result"
    }
   ],
   "source": [
    "df['trans_dt'].head(10)"
   ]
  },
  {
   "cell_type": "markdown",
   "id": "17d01c5f-f0a8-41b6-bfa4-dc002cab297e",
   "metadata": {},
   "source": [
    "  \n",
    "The 'trans_dt' column has a lot of data packed into every field. The format is Year - Month - Day - Hour - Minute - Second. I want to create new columns.\n",
    "\n",
    "### New Column Ideas\n",
    "**Separate fields for Date, Year, Month, Day**\n",
    "- Name: 'date', 'year', 'month', 'day'\n",
    "- Type: Various\n",
    "- To analyze specific transaction patterns by specific date and time components. \n",
    "\n",
    "**Week & Quarter**\n",
    "- Name: 'week' & 'quarter'\n",
    "- Type: Category\n",
    "- To analyze seasonal patterns and time-related outliers. \n",
    "\n",
    "**Running Transaction Averages and Counts**\n",
    "- Name: 'trans_by_last_hr', 'hourly_trans_avg','trans_by_last_day', 'daily_trans_avg', 'amt_last_hour', 'amt_last_day', 'avg_hr_amt', 'avg_daily_amt'\n",
    "- Type: Float\n",
    "- To track spending patterns for individual customers, enabling the detection of unusual spikes in transaction frequency or amount. "
   ]
  },
  {
   "cell_type": "markdown",
   "id": "fb08629f-dcf0-4d19-8e39-5c8ff6e04f69",
   "metadata": {},
   "source": [
    "### Column - 'cc_num'"
   ]
  },
  {
   "cell_type": "code",
   "execution_count": 40,
   "id": "2a55e9e7-56a6-44d4-ae63-5fe18bfd76e2",
   "metadata": {},
   "outputs": [],
   "source": [
    "#getting the number of transaction for each cc account\n",
    "cc_counts = df.groupby('cc_num', observed=True).size()"
   ]
  },
  {
   "cell_type": "code",
   "execution_count": 41,
   "id": "9ec88ec3-dcc2-41b7-9256-39df1d14b738",
   "metadata": {},
   "outputs": [
    {
     "data": {
      "text/plain": [
       "983"
      ]
     },
     "execution_count": 41,
     "metadata": {},
     "output_type": "execute_result"
    }
   ],
   "source": [
    "#the number of unique accounts\n",
    "df['cc_num'].nunique()"
   ]
  },
  {
   "cell_type": "code",
   "execution_count": 42,
   "id": "a9a9f777-54bb-4d92-a690-bb41f02d7718",
   "metadata": {},
   "outputs": [
    {
     "data": {
      "text/plain": [
       "count     983.000000\n",
       "mean     1319.099695\n",
       "std       812.235900\n",
       "min         7.000000\n",
       "25%       525.000000\n",
       "50%      1054.000000\n",
       "75%      2025.000000\n",
       "max      3123.000000\n",
       "dtype: float64"
      ]
     },
     "execution_count": 42,
     "metadata": {},
     "output_type": "execute_result"
    }
   ],
   "source": [
    "cc_counts.describe()"
   ]
  },
  {
   "cell_type": "markdown",
   "id": "1ba73878-f8f5-41fa-a033-cc4f320a38e6",
   "metadata": {},
   "source": [
    "This dataset has records for 983 customer, and number of transactions a single customer makes ranges from 7 to 3,123. "
   ]
  },
  {
   "cell_type": "code",
   "execution_count": 43,
   "id": "6384e1b4-afd9-45b7-84f2-a52a9f1a5dfb",
   "metadata": {},
   "outputs": [],
   "source": [
    "#sorting the values \n",
    "sorted_cc = cc_counts.sort_values()"
   ]
  },
  {
   "cell_type": "code",
   "execution_count": 44,
   "id": "9872984d-3b1a-4096-8205-ad1a01aec685",
   "metadata": {},
   "outputs": [
    {
     "data": {
      "image/png": "[encoded data removed]",
      "text/plain": [
       "<Figure size 1200x1000 with 1 Axes>"
      ]
     },
     "metadata": {},
     "output_type": "display_data"
    }
   ],
   "source": [
    "#plotting the number of transactions for low to high to see\n",
    "#if there are typical transaction rates\n",
    "plt.figure(figsize=(12,10))\n",
    "plt.bar(range(len(sorted_cc)), sorted_cc)\n",
    "plt.xlabel('CC Account')\n",
    "plt.ylabel('Number of Transactions')\n",
    "plt.title('Number of Transactions for Each Account', fontsize=16)\n",
    "\n",
    "plt.show()"
   ]
  },
  {
   "cell_type": "markdown",
   "id": "044d31df-aaa4-4c43-a36a-633751a79d6e",
   "metadata": {},
   "source": [
    "The 'cc_num' column reveals that transaction frequencies tend to cluster together. No changes will be made to the 'cc_num' column, as it is needed for identifying individual customers. Plans to use this column for creating new features, such as transaction patterns and spending behaviors, have already been outlined."
   ]
  },
  {
   "cell_type": "markdown",
   "id": "a6e6503a-a3f8-48b6-b5c0-bc76db5cf78d",
   "metadata": {},
   "source": [
    "### Column - 'merchant'"
   ]
  },
  {
   "cell_type": "code",
   "execution_count": 45,
   "id": "e0e52b25-7722-4798-80e6-60a3cbd4605c",
   "metadata": {},
   "outputs": [
    {
     "data": {
      "text/plain": [
       "693"
      ]
     },
     "execution_count": 45,
     "metadata": {},
     "output_type": "execute_result"
    }
   ],
   "source": [
    "#creating a variable of merchant names and finding the number of merchants\n",
    "merchants = df['merchant'].unique()\n",
    "len(merchants)"
   ]
  },
  {
   "cell_type": "code",
   "execution_count": 46,
   "id": "d3097578-5e79-4931-8559-ef952700e483",
   "metadata": {},
   "outputs": [
    {
     "data": {
      "text/plain": [
       "count     693.000000\n",
       "mean     1871.103896\n",
       "std       575.359948\n",
       "min       727.000000\n",
       "25%      1592.000000\n",
       "50%      1863.000000\n",
       "75%      2345.000000\n",
       "max      4403.000000\n",
       "Name: count, dtype: float64"
      ]
     },
     "execution_count": 46,
     "metadata": {},
     "output_type": "execute_result"
    }
   ],
   "source": [
    "#finding the number of transactions for each merchant\n",
    "merchant_count = df['merchant'].value_counts()\n",
    "merchant_count.describe()"
   ]
  },
  {
   "cell_type": "markdown",
   "id": "0eee4d05-3a3e-438c-93aa-cc26df4cfcee",
   "metadata": {},
   "source": [
    "The range of transaction frequency by merchant range from 727 to 4403. "
   ]
  },
  {
   "cell_type": "code",
   "execution_count": 47,
   "id": "1f14e0fd-444e-4f39-bc48-436edac3e209",
   "metadata": {},
   "outputs": [],
   "source": [
    "#calculating the high and low monitary amount per merchant\n",
    "merchant_amount = df.groupby('merchant', observed=True)['amt'].sum()\n",
    "merchant_amount = merchant_amount.sort_values()"
   ]
  },
  {
   "cell_type": "code",
   "execution_count": 48,
   "id": "530387d0-c8a8-49db-be4a-71c3618d4d3f",
   "metadata": {},
   "outputs": [
    {
     "data": {
      "text/plain": [
       "merchant\n",
       "fraud_Bahringer-Larson                44227.23\n",
       "fraud_Kohler, Lindgren and Koelpin    44704.41\n",
       "fraud_Trantow PLC                     46397.34\n",
       "fraud_Ortiz Group                     46451.33\n",
       "fraud_Pfeffer LLC                     46484.86\n",
       "fraud_McCullough Group                46522.70\n",
       "fraud_Cummings Group                  46802.62\n",
       "fraud_Hills-Olson                     46877.62\n",
       "fraud_Swift, Bradtke and Marquardt    47120.59\n",
       "fraud_Funk Group                      47352.15\n",
       "Name: amt, dtype: float64"
      ]
     },
     "execution_count": 48,
     "metadata": {},
     "output_type": "execute_result"
    }
   ],
   "source": [
    "#the ten merchants with the lowest amount\n",
    "low = merchant_amount.head(10)\n",
    "low"
   ]
  },
  {
   "cell_type": "code",
   "execution_count": 49,
   "id": "ba493c57-38c4-4669-9e01-b8e6ed501f8b",
   "metadata": {},
   "outputs": [
    {
     "data": {
      "text/plain": [
       "merchant\n",
       "fraud_Bauch-Raynor                  295721.20\n",
       "fraud_Murray-Smitham                296982.73\n",
       "fraud_Pacocha-O'Reilly              297584.38\n",
       "fraud_Goodwin-Nitzsche              298083.31\n",
       "fraud_Rau and Sons                  298354.77\n",
       "fraud_Schumm, Bauch and Ondricka    299115.14\n",
       "fraud_Hackett-Lueilwitz             300208.14\n",
       "fraud_Doyle Ltd                     300971.37\n",
       "fraud_Bradtke PLC                   302481.25\n",
       "fraud_Kilback LLC                   391078.15\n",
       "Name: amt, dtype: float64"
      ]
     },
     "execution_count": 49,
     "metadata": {},
     "output_type": "execute_result"
    }
   ],
   "source": [
    "#the ten merchants with the highest amounts\n",
    "high = merchant_amount.tail(10)\n",
    "high"
   ]
  },
  {
   "cell_type": "code",
   "execution_count": 50,
   "id": "30cb9a6a-87e4-44ea-8d67-01dc9d5522bc",
   "metadata": {},
   "outputs": [
    {
     "data": {
      "image/png": "[encoded data removed]",
      "text/plain": [
       "<Figure size 640x480 with 1 Axes>"
      ]
     },
     "metadata": {},
     "output_type": "display_data"
    }
   ],
   "source": [
    "#box plot showing the range\n",
    "plt.boxplot(merchant_amount)\n",
    "plt.xlabel('Merchants')\n",
    "plt.ylabel('Transaction Amount (USD)')\n",
    "plt.title('Transaction Amount Distribution Across Merchants')\n",
    "plt.show()"
   ]
  },
  {
   "cell_type": "markdown",
   "id": "858b5412-663f-44d1-8338-eaf7c46a7323",
   "metadata": {},
   "source": [
    "This plot shows that merchant transaction amounts can vary significantly from one merchant to the next, as does the number of transactions per merchant. This column will not be adjusted at this time. "
   ]
  },
  {
   "cell_type": "markdown",
   "id": "830a0bb4-eddc-494f-9ce8-38d9f4b31939",
   "metadata": {},
   "source": [
    "### Column - 'city_pop'"
   ]
  },
  {
   "cell_type": "code",
   "execution_count": 51,
   "id": "8c1da241-9d4e-4888-883e-a373e684b017",
   "metadata": {},
   "outputs": [
    {
     "data": {
      "text/plain": [
       "879"
      ]
     },
     "execution_count": 51,
     "metadata": {},
     "output_type": "execute_result"
    }
   ],
   "source": [
    "#checking unique values\n",
    "pop_values = df['city_pop'].drop_duplicates()\n",
    "pop_values.shape[0]"
   ]
  },
  {
   "cell_type": "code",
   "execution_count": 52,
   "id": "e5df62d8-33eb-458f-8be9-677fd95917c2",
   "metadata": {},
   "outputs": [
    {
     "data": {
      "text/plain": [
       "928"
      ]
     },
     "execution_count": 52,
     "metadata": {},
     "output_type": "execute_result"
    }
   ],
   "source": [
    "#checking unique city, state, city_pop values\n",
    "pop_triad = df[['city', 'state', 'city_pop']].drop_duplicates()\n",
    "pop_triad.shape[0]"
   ]
  },
  {
   "cell_type": "markdown",
   "id": "9e0ede3d-dbc0-4c28-8f01-85851fb3cf9c",
   "metadata": {},
   "source": [
    "There are 879 unique city population values but 928 unique customer locations, so some cities have the same population value. "
   ]
  },
  {
   "cell_type": "code",
   "execution_count": 53,
   "id": "1350378c-e8a6-42ba-8eea-5749c0920de6",
   "metadata": {},
   "outputs": [
    {
     "data": {
      "text/html": [
       "<div>\n",
       "<style scoped>\n",
       "    .dataframe tbody tr th:only-of-type {\n",
       "        vertical-align: middle;\n",
       "    }\n",
       "\n",
       "    .dataframe tbody tr th {\n",
       "        vertical-align: top;\n",
       "    }\n",
       "\n",
       "    .dataframe thead th {\n",
       "        text-align: right;\n",
       "    }\n",
       "</style>\n",
       "<table border=\"1\" class=\"dataframe\">\n",
       "  <thead>\n",
       "    <tr style=\"text-align: right;\">\n",
       "      <th></th>\n",
       "      <th>city</th>\n",
       "      <th>state</th>\n",
       "      <th>city_pop</th>\n",
       "    </tr>\n",
       "  </thead>\n",
       "  <tbody>\n",
       "    <tr>\n",
       "      <th>476</th>\n",
       "      <td>Notrees</td>\n",
       "      <td>TX</td>\n",
       "      <td>23</td>\n",
       "    </tr>\n",
       "    <tr>\n",
       "      <th>425</th>\n",
       "      <td>Gregory</td>\n",
       "      <td>AR</td>\n",
       "      <td>37</td>\n",
       "    </tr>\n",
       "    <tr>\n",
       "      <th>436</th>\n",
       "      <td>Ratcliff</td>\n",
       "      <td>TX</td>\n",
       "      <td>43</td>\n",
       "    </tr>\n",
       "    <tr>\n",
       "      <th>42</th>\n",
       "      <td>Thompson</td>\n",
       "      <td>UT</td>\n",
       "      <td>46</td>\n",
       "    </tr>\n",
       "    <tr>\n",
       "      <th>14865</th>\n",
       "      <td>West Bethel</td>\n",
       "      <td>ME</td>\n",
       "      <td>47</td>\n",
       "    </tr>\n",
       "    <tr>\n",
       "      <th>...</th>\n",
       "      <td>...</td>\n",
       "      <td>...</td>\n",
       "      <td>...</td>\n",
       "    </tr>\n",
       "    <tr>\n",
       "      <th>105</th>\n",
       "      <td>New York City</td>\n",
       "      <td>NY</td>\n",
       "      <td>1577385</td>\n",
       "    </tr>\n",
       "    <tr>\n",
       "      <th>210</th>\n",
       "      <td>San Antonio</td>\n",
       "      <td>TX</td>\n",
       "      <td>1595797</td>\n",
       "    </tr>\n",
       "    <tr>\n",
       "      <th>7244</th>\n",
       "      <td>Los Angeles</td>\n",
       "      <td>CA</td>\n",
       "      <td>2383912</td>\n",
       "    </tr>\n",
       "    <tr>\n",
       "      <th>1977</th>\n",
       "      <td>Brooklyn</td>\n",
       "      <td>NY</td>\n",
       "      <td>2504700</td>\n",
       "    </tr>\n",
       "    <tr>\n",
       "      <th>608</th>\n",
       "      <td>Houston</td>\n",
       "      <td>TX</td>\n",
       "      <td>2906700</td>\n",
       "    </tr>\n",
       "  </tbody>\n",
       "</table>\n",
       "<p>928 rows × 3 columns</p>\n",
       "</div>"
      ],
      "text/plain": [
       "                city state  city_pop\n",
       "476          Notrees    TX        23\n",
       "425          Gregory    AR        37\n",
       "436         Ratcliff    TX        43\n",
       "42          Thompson    UT        46\n",
       "14865    West Bethel    ME        47\n",
       "...              ...   ...       ...\n",
       "105    New York City    NY   1577385\n",
       "210      San Antonio    TX   1595797\n",
       "7244     Los Angeles    CA   2383912\n",
       "1977        Brooklyn    NY   2504700\n",
       "608          Houston    TX   2906700\n",
       "\n",
       "[928 rows x 3 columns]"
      ]
     },
     "execution_count": 53,
     "metadata": {},
     "output_type": "execute_result"
    }
   ],
   "source": [
    "#looking at the low and high city populations \n",
    "pop_city = pop_triad.sort_values(by='city_pop')\n",
    "pop_city"
   ]
  },
  {
   "cell_type": "markdown",
   "id": "a634d64d-6b60-4524-8c0b-45a537e9f50f",
   "metadata": {},
   "source": [
    "The city_pop column displays a wide variation, with values ranging from 23 to 2,906,700. Concerned about potential inaccuracies, I conducted further investigation. A cursory search for Notrees, Texas, found its population to be approximately 20 in 2009, aligning closely with the dataset. However, another search for West Bethel, ME, revealed a significant discrepancy, as its population was 2,504 according to [Wikipedia](https://en.wikipedia.org/wiki/Bethel,_Maine). Similar inconsistencies were found for other cities. Given the unreliable nature of the city_pop data, I have decided to drop this column from the analysis."
   ]
  },
  {
   "cell_type": "markdown",
   "id": "262818a2-7fbd-46a6-94a2-735497d2747e",
   "metadata": {},
   "source": [
    "### Column - 'job'"
   ]
  },
  {
   "cell_type": "code",
   "execution_count": 54,
   "id": "89923f5d-1fa6-4651-94ed-6f19a09e9ffe",
   "metadata": {},
   "outputs": [
    {
     "data": {
      "text/plain": [
       "494"
      ]
     },
     "execution_count": 54,
     "metadata": {},
     "output_type": "execute_result"
    }
   ],
   "source": [
    "#checking how many unique values are in the 'job' column\n",
    "df['job'] = df['job'].str.lower().str.strip()\n",
    "df['job'].nunique()"
   ]
  },
  {
   "cell_type": "code",
   "execution_count": 55,
   "id": "370dba5a-5ceb-42f6-a36f-5163d01d0553",
   "metadata": {},
   "outputs": [
    {
     "data": {
      "text/html": [
       "<div>\n",
       "<style scoped>\n",
       "    .dataframe tbody tr th:only-of-type {\n",
       "        vertical-align: middle;\n",
       "    }\n",
       "\n",
       "    .dataframe tbody tr th {\n",
       "        vertical-align: top;\n",
       "    }\n",
       "\n",
       "    .dataframe thead th {\n",
       "        text-align: right;\n",
       "    }\n",
       "</style>\n",
       "<table border=\"1\" class=\"dataframe\">\n",
       "  <thead>\n",
       "    <tr style=\"text-align: right;\">\n",
       "      <th></th>\n",
       "      <th>cc_num</th>\n",
       "      <th>job</th>\n",
       "    </tr>\n",
       "  </thead>\n",
       "  <tbody>\n",
       "    <tr>\n",
       "      <th>3794</th>\n",
       "      <td>4383521454815</td>\n",
       "      <td>academic librarian</td>\n",
       "    </tr>\n",
       "    <tr>\n",
       "      <th>601865</th>\n",
       "      <td>3524485462198080</td>\n",
       "      <td>accountant, chartered</td>\n",
       "    </tr>\n",
       "    <tr>\n",
       "      <th>488</th>\n",
       "      <td>6011975266774121</td>\n",
       "      <td>accountant, chartered certified</td>\n",
       "    </tr>\n",
       "    <tr>\n",
       "      <th>975543</th>\n",
       "      <td>6500249000784905</td>\n",
       "      <td>accountant, chartered certified</td>\n",
       "    </tr>\n",
       "    <tr>\n",
       "      <th>1282</th>\n",
       "      <td>213191402330021</td>\n",
       "      <td>accountant, chartered public finance</td>\n",
       "    </tr>\n",
       "    <tr>\n",
       "      <th>...</th>\n",
       "      <td>...</td>\n",
       "      <td>...</td>\n",
       "    </tr>\n",
       "    <tr>\n",
       "      <th>991</th>\n",
       "      <td>4996263498048679</td>\n",
       "      <td>web designer</td>\n",
       "    </tr>\n",
       "    <tr>\n",
       "      <th>1722</th>\n",
       "      <td>30373802285317</td>\n",
       "      <td>wellsite geologist</td>\n",
       "    </tr>\n",
       "    <tr>\n",
       "      <th>267</th>\n",
       "      <td>343819048608995</td>\n",
       "      <td>wellsite geologist</td>\n",
       "    </tr>\n",
       "    <tr>\n",
       "      <th>552</th>\n",
       "      <td>4220495028289516646</td>\n",
       "      <td>wellsite geologist</td>\n",
       "    </tr>\n",
       "    <tr>\n",
       "      <th>499</th>\n",
       "      <td>676326610042</td>\n",
       "      <td>writer</td>\n",
       "    </tr>\n",
       "  </tbody>\n",
       "</table>\n",
       "<p>983 rows × 2 columns</p>\n",
       "</div>"
      ],
      "text/plain": [
       "                     cc_num                                   job\n",
       "3794          4383521454815                    academic librarian\n",
       "601865     3524485462198080                 accountant, chartered\n",
       "488        6011975266774121       accountant, chartered certified\n",
       "975543     6500249000784905       accountant, chartered certified\n",
       "1282        213191402330021  accountant, chartered public finance\n",
       "...                     ...                                   ...\n",
       "991        4996263498048679                          web designer\n",
       "1722         30373802285317                    wellsite geologist\n",
       "267         343819048608995                    wellsite geologist\n",
       "552     4220495028289516646                    wellsite geologist\n",
       "499            676326610042                                writer\n",
       "\n",
       "[983 rows x 2 columns]"
      ]
     },
     "execution_count": 55,
     "metadata": {},
     "output_type": "execute_result"
    }
   ],
   "source": [
    "#reducing data down to one transaction per account and job title \n",
    "jobs_db = df[['cc_num', 'job']].drop_duplicates()\n",
    "jobs_db = jobs_db.sort_values(by='job')\n",
    "jobs_db"
   ]
  },
  {
   "cell_type": "code",
   "execution_count": 56,
   "id": "fb1c36a0-517d-42e4-8367-aab8ce5f084a",
   "metadata": {},
   "outputs": [
    {
     "data": {
      "text/plain": [
       "count    494.000000\n",
       "mean       1.989879\n",
       "std        1.087407\n",
       "min        1.000000\n",
       "25%        1.000000\n",
       "50%        2.000000\n",
       "75%        3.000000\n",
       "max        6.000000\n",
       "Name: count, dtype: float64"
      ]
     },
     "execution_count": 56,
     "metadata": {},
     "output_type": "execute_result"
    }
   ],
   "source": [
    "#seeing how many customers have the same job title\n",
    "job_count = jobs_db['job'].value_counts()\n",
    "job_count.describe()"
   ]
  },
  {
   "cell_type": "code",
   "execution_count": 57,
   "id": "781008b4-cb5a-49c3-ba43-69e940bfcc6f",
   "metadata": {},
   "outputs": [
    {
     "data": {
      "text/plain": [
       "494"
      ]
     },
     "execution_count": 57,
     "metadata": {},
     "output_type": "execute_result"
    }
   ],
   "source": [
    "#each job title\n",
    "jobs = jobs_db['job'].drop_duplicates()\n",
    "len(jobs)"
   ]
  },
  {
   "cell_type": "code",
   "execution_count": 58,
   "id": "6ff22fb4-8b1f-486f-8d0c-445f2f43889b",
   "metadata": {},
   "outputs": [
    {
     "data": {
      "text/plain": [
       "144"
      ]
     },
     "execution_count": 58,
     "metadata": {},
     "output_type": "execute_result"
    }
   ],
   "source": [
    "#checking how many skills have similar names using rapid fuzz\n",
    "similar_jobs = []\n",
    "\n",
    "for i, job in enumerate(jobs):\n",
    "    matches = process.extract(job, jobs[i+1:], scorer=fuzz.token_sort_ratio, limit=10)\n",
    "    for match in matches:\n",
    "        if match[1] >= 80:  #has similarity score of at least 80\n",
    "            similar_jobs.append((job, match[0], match[1]))\n",
    "\n",
    "len(similar_jobs)#seeing how many matches"
   ]
  },
  {
   "cell_type": "code",
   "execution_count": 59,
   "id": "235dd76d-810d-4bbf-86c4-a0032c792121",
   "metadata": {},
   "outputs": [
    {
     "data": {
      "text/plain": [
       "[('academic librarian', 'librarian, academic', 97.2972972972973),\n",
       " ('accountant, chartered', 'chartered accountant', 97.5609756097561),\n",
       " ('accountant, chartered',\n",
       "  'accountant, chartered certified',\n",
       "  80.76923076923077),\n",
       " ('accountant, chartered public finance',\n",
       "  'chartered public finance accountant',\n",
       "  98.59154929577466),\n",
       " ('administrator', 'administrator, arts', 81.25),\n",
       " ('administrator, arts', 'sports administrator', 87.17948717948718),\n",
       " ('administrator, arts', 'database administrator', 82.92682926829268),\n",
       " ('administrator, education', 'education administrator', 97.87234042553192),\n",
       " ('advertising copywriter', 'copywriter, advertising', 97.77777777777777),\n",
       " ('aeronautical engineer', 'engineer, aeronautical', 97.67441860465115),\n",
       " ('air cabin crew', 'cabin crew', 83.33333333333334),\n",
       " ('airline pilot', 'pilot, airline', 96.2962962962963),\n",
       " ('analytical chemist', 'chemist, analytical', 97.2972972972973),\n",
       " ('armed forces technical officer', 'medical technical officer', 80.0),\n",
       " ('art therapist', 'therapist, art', 96.2962962962963),\n",
       " ('art therapist', 'therapist, sports', 80.0),\n",
       " ('audiological scientist', 'scientist, audiological', 97.77777777777777),\n",
       " ('audiological scientist', 'physiological scientist', 84.44444444444444),\n",
       " ('audiological scientist', 'scientist, physiological', 82.6086956521739),\n",
       " ('biochemist, clinical', 'clinical biochemist', 97.43589743589743),\n",
       " ('biomedical engineer', 'engineer, biomedical', 97.43589743589743),\n",
       " ('biomedical scientist', 'scientist, biomedical', 97.5609756097561),\n",
       " ('broadcast presenter', 'presenter, broadcasting', 90.47619047619048),\n",
       " ('building control surveyor', 'building surveyor', 80.95238095238095),\n",
       " ('building services engineer',\n",
       "  'engineer, building services',\n",
       "  98.11320754716981),\n",
       " ('buyer, industrial', 'industrial buyer', 96.96969696969697),\n",
       " ('buyer, retail', 'retail buyer', 96.0),\n",
       " ('careers information officer', 'information officer', 82.6086956521739),\n",
       " ('cartographer', 'oceanographer', 80.0),\n",
       " ('catering manager', 'location manager', 81.25),\n",
       " ('chartered loss adjuster', 'loss adjuster, chartered', 97.87234042553192),\n",
       " ('chief operating officer', 'chief strategy officer', 80.0),\n",
       " ('child psychotherapist', 'psychotherapist, child', 97.67441860465115),\n",
       " ('child psychotherapist', 'psychotherapist', 83.33333333333334),\n",
       " ('civil engineer, contracting',\n",
       "  'contracting civil engineer',\n",
       "  98.11320754716981),\n",
       " ('clinical psychologist', 'psychologist, clinical', 97.67441860465115),\n",
       " ('clinical psychologist', 'educational psychologist', 80.0),\n",
       " ('commercial horticulturist', 'horticulturist, commercial', 98.0392156862745),\n",
       " ('commissioning editor', 'editor, commissioning', 97.5609756097561),\n",
       " ('communications engineer', 'engineer, communications', 97.87234042553192),\n",
       " ('community development worker',\n",
       "  'development worker, community',\n",
       "  98.24561403508771),\n",
       " ('community education officer',\n",
       "  'education officer, community',\n",
       "  98.18181818181819),\n",
       " ('community pharmacist', 'pharmacist, community', 97.5609756097561),\n",
       " ('conservator, furniture',\n",
       "  'furniture conservator/restorer',\n",
       "  80.76923076923077),\n",
       " ('conservator, museum/gallery',\n",
       "  'museum/gallery conservator',\n",
       "  98.11320754716981),\n",
       " ('control and instrumentation engineer',\n",
       "  'engineer, control and instrumentation',\n",
       "  98.63013698630137),\n",
       " ('corporate investment banker',\n",
       "  'investment banker, corporate',\n",
       "  98.18181818181819),\n",
       " ('counselling psychologist', 'psychologist, counselling', 97.95918367346938),\n",
       " ('designer, exhibition/display', 'exhibition designer', 80.85106382978724),\n",
       " ('designer, furniture', 'furniture designer', 97.2972972972973),\n",
       " ('designer, industrial/product',\n",
       "  'industrial/product designer',\n",
       "  98.18181818181819),\n",
       " ('designer, interior/spatial',\n",
       "  'interior and spatial designer',\n",
       "  87.27272727272728),\n",
       " ('designer, jewellery', 'jewellery designer', 97.2972972972973),\n",
       " ('designer, textile', 'textile designer', 96.96969696969697),\n",
       " ('diagnostic radiographer', 'radiographer, diagnostic', 97.87234042553192),\n",
       " ('dispensing optician', 'optician, dispensing', 97.43589743589743),\n",
       " ('doctor, general practice', 'general practice doctor', 97.87234042553192),\n",
       " ('doctor, hospital', 'hospital doctor', 96.7741935483871),\n",
       " ('drilling engineer', 'engineer, drilling', 97.14285714285714),\n",
       " ('early years teacher', 'teacher, early years/pre', 88.37209302325581),\n",
       " ('ecologist', 'oncologist', 84.21052631578947),\n",
       " ('editor, film/video', 'film/video editor', 97.14285714285714),\n",
       " ('editor, film/video', 'video editor', 80.0),\n",
       " ('editor, magazine features', 'magazine features editor', 97.95918367346938),\n",
       " ('education officer, museum', 'museum education officer', 97.95918367346938),\n",
       " ('educational psychologist', 'occupational psychologist', 85.71428571428572),\n",
       " ('electrical engineer', 'electronics engineer', 87.17948717948718),\n",
       " ('electrical engineer', 'engineer, electronics', 85.0),\n",
       " ('electronics engineer', 'engineer, electronics', 97.5609756097561),\n",
       " ('embryologist, clinical', 'psychologist, clinical', 81.81818181818181),\n",
       " ('engineer, civil (consulting)',\n",
       "  'engineer, civil (contracting)',\n",
       "  87.71929824561404),\n",
       " ('engineer, maintenance', 'maintenance engineer', 97.5609756097561),\n",
       " ('engineer, manufacturing', 'manufacturing engineer', 97.77777777777777),\n",
       " ('engineer, manufacturing',\n",
       "  'manufacturing systems engineer',\n",
       "  83.01886792452831),\n",
       " ('engineer, materials', 'materials engineer', 97.2972972972973),\n",
       " ('engineer, mining', 'mining engineer', 96.7741935483871),\n",
       " ('engineer, petroleum', 'petroleum engineer', 97.2972972972973),\n",
       " ('engineer, production', 'production engineer', 97.43589743589743),\n",
       " ('engineer, site', 'site engineer', 96.2962962962963),\n",
       " ('engineer, structural', 'structural engineer', 97.43589743589743),\n",
       " ('engineering geologist', 'geologist, engineering', 97.67441860465115),\n",
       " ('english as a foreign language teacher',\n",
       "  'teacher, english as a foreign language',\n",
       "  98.66666666666667),\n",
       " ('exhibitions officer, museum/gallery',\n",
       "  'museum/gallery exhibitions officer',\n",
       "  98.55072463768117),\n",
       " ('film/video editor', 'video editor', 82.75862068965517),\n",
       " ('forensic psychologist', 'psychologist, forensic', 97.67441860465115),\n",
       " ('further education lecturer',\n",
       "  'lecturer, further education',\n",
       "  98.11320754716981),\n",
       " ('further education lecturer',\n",
       "  'lecturer, higher education',\n",
       "  84.61538461538461),\n",
       " ('geologist, wellsite', 'wellsite geologist', 97.2972972972973),\n",
       " ('horticultural therapist', 'therapist, horticultural', 97.87234042553192),\n",
       " ('hospital pharmacist', 'pharmacist, hospital', 97.43589743589743),\n",
       " ('hydrogeologist', 'hydrologist', 88.0),\n",
       " ('hydrographic surveyor', 'surveyor, hydrographic', 97.67441860465115),\n",
       " ('land/geomatics surveyor', 'surveyor, land/geomatics', 97.87234042553192),\n",
       " ('lecturer, further education',\n",
       "  'lecturer, higher education',\n",
       "  86.79245283018868),\n",
       " ('legal secretary', 'medical secretary', 81.25),\n",
       " ('librarian, public', 'public librarian', 96.96969696969697),\n",
       " ('manufacturing engineer',\n",
       "  'manufacturing systems engineer',\n",
       "  84.61538461538461),\n",
       " ('materials engineer', 'water engineer', 81.25),\n",
       " ('medical physicist', 'physicist, medical', 97.14285714285714),\n",
       " ('mental health nurse', 'nurse, mental health', 97.43589743589743),\n",
       " ('merchandiser, retail', 'retail merchandiser', 97.43589743589743),\n",
       " ('minerals surveyor', 'surveyor, minerals', 97.14285714285714),\n",
       " ('multimedia programmer', 'programmer, multimedia', 97.67441860465115),\n",
       " ('music therapist', 'therapist, music', 96.7741935483871),\n",
       " ('occupational therapist', 'therapist, occupational', 97.77777777777777),\n",
       " ('oncologist', 'toxicologist', 81.81818181818181),\n",
       " ('personnel officer', 'prison officer', 83.87096774193549),\n",
       " ('physiological scientist', 'scientist, physiological', 97.87234042553192),\n",
       " ('physiological scientist', 'scientist, audiological', 82.6086956521739),\n",
       " ('physiotherapist', 'phytotherapist', 89.65517241379311),\n",
       " ('physiotherapist', 'psychotherapist', 80.0),\n",
       " ('phytotherapist', 'psychotherapist', 82.75862068965517),\n",
       " ('primary school teacher', 'teacher, primary school', 97.77777777777777),\n",
       " ('prison officer', 'probation officer', 83.87096774193549),\n",
       " ('producer, radio', 'radio producer', 96.55172413793103),\n",
       " ('producer, television/film/video',\n",
       "  'television/film/video producer',\n",
       "  98.36065573770492),\n",
       " ('product manager', 'production manager', 90.9090909090909),\n",
       " ('production assistant, radio',\n",
       "  'production assistant, television',\n",
       "  81.35593220338984),\n",
       " ('production assistant, radio',\n",
       "  'radio broadcast assistant',\n",
       "  80.76923076923077),\n",
       " ('production assistant, television',\n",
       "  'television production assistant',\n",
       "  98.41269841269842),\n",
       " ('production engineer', 'production manager', 81.08108108108108),\n",
       " ('psychologist, sport and exercise',\n",
       "  'sport and exercise psychologist',\n",
       "  98.41269841269842),\n",
       " ('psychotherapist', 'psychotherapist, child', 81.08108108108108),\n",
       " ('public relations officer', 'race relations officer', 82.6086956521739),\n",
       " ('research scientist (life sciences)',\n",
       "  'research scientist (physical sciences)',\n",
       "  86.11111111111111),\n",
       " ('research scientist (life sciences)',\n",
       "  'scientist, research (physical sciences)',\n",
       "  84.93150684931507),\n",
       " ('research scientist (maths)',\n",
       "  'scientist, research (maths)',\n",
       "  98.11320754716981),\n",
       " ('research scientist (maths)',\n",
       "  'research scientist (medical)',\n",
       "  85.18518518518519),\n",
       " ('research scientist (maths)',\n",
       "  'scientist, research (medical)',\n",
       "  83.63636363636364),\n",
       " ('research scientist (medical)',\n",
       "  'scientist, research (medical)',\n",
       "  98.24561403508771),\n",
       " ('research scientist (medical)',\n",
       "  'scientist, research (maths)',\n",
       "  83.63636363636364),\n",
       " ('research scientist (physical sciences)',\n",
       "  'scientist, research (physical sciences)',\n",
       "  98.7012987012987),\n",
       " ('retail banker', 'retail manager', 81.4814814814815),\n",
       " ('retail banker', 'retail buyer', 80.0),\n",
       " ('rural practice surveyor', 'surveyor, rural practice', 97.87234042553192),\n",
       " ('scientific laboratory technician',\n",
       "  'teaching laboratory technician',\n",
       "  80.64516129032258),\n",
       " ('scientist, audiological', 'scientist, physiological', 85.1063829787234),\n",
       " ('scientist, research (maths)',\n",
       "  'scientist, research (medical)',\n",
       "  85.71428571428572),\n",
       " ('secondary school teacher', 'teacher, secondary school', 97.95918367346938),\n",
       " ('set designer', 'web designer', 83.33333333333334),\n",
       " ('site engineer', 'water engineer', 81.4814814814815),\n",
       " ('special educational needs teacher',\n",
       "  'teacher, special educational needs',\n",
       "  98.50746268656717),\n",
       " ('therapist, art', 'therapist, sports', 83.87096774193549),\n",
       " ('therapist, art', 'therapist, drama', 80.0)]"
      ]
     },
     "execution_count": 59,
     "metadata": {},
     "output_type": "execute_result"
    }
   ],
   "source": [
    "#looking at the matching jobs\n",
    "similar_jobs"
   ]
  },
  {
   "cell_type": "markdown",
   "id": "56b28f01-f139-4acc-bfe6-8e02af134564",
   "metadata": {},
   "source": [
    "While the job names are very similar, the jobs with a score lower than 95 seem different, while the ones with a score higher than 95 seem to be the same job but written slightly differently. I will adjust the similarity score. "
   ]
  },
  {
   "cell_type": "code",
   "execution_count": 60,
   "id": "cc5081a9-55b8-479d-b7e3-b0a83880fe8a",
   "metadata": {},
   "outputs": [
    {
     "data": {
      "text/plain": [
       "81"
      ]
     },
     "execution_count": 60,
     "metadata": {},
     "output_type": "execute_result"
    }
   ],
   "source": [
    "#adjusting the similarity score\n",
    "similar_jobs = []\n",
    "\n",
    "for i, job in enumerate(jobs):\n",
    "    matches = process.extract(job, jobs[i+1:], scorer=fuzz.token_sort_ratio, limit=10)\n",
    "    for match in matches:\n",
    "        if match[1] >= 95:  #has similarity score of at least 95\n",
    "            similar_jobs.append((job, match[0], match[1]))\n",
    "\n",
    "len(similar_jobs)#seeing how many matches"
   ]
  },
  {
   "cell_type": "code",
   "execution_count": 61,
   "id": "7386ee9b-50e3-4c40-944e-703e659e35f5",
   "metadata": {},
   "outputs": [
    {
     "data": {
      "text/plain": [
       "[('academic librarian', 'librarian, academic', 97.2972972972973),\n",
       " ('accountant, chartered', 'chartered accountant', 97.5609756097561),\n",
       " ('accountant, chartered public finance',\n",
       "  'chartered public finance accountant',\n",
       "  98.59154929577466),\n",
       " ('administrator, education', 'education administrator', 97.87234042553192),\n",
       " ('advertising copywriter', 'copywriter, advertising', 97.77777777777777),\n",
       " ('aeronautical engineer', 'engineer, aeronautical', 97.67441860465115),\n",
       " ('airline pilot', 'pilot, airline', 96.2962962962963),\n",
       " ('analytical chemist', 'chemist, analytical', 97.2972972972973),\n",
       " ('art therapist', 'therapist, art', 96.2962962962963),\n",
       " ('audiological scientist', 'scientist, audiological', 97.77777777777777),\n",
       " ('biochemist, clinical', 'clinical biochemist', 97.43589743589743),\n",
       " ('biomedical engineer', 'engineer, biomedical', 97.43589743589743),\n",
       " ('biomedical scientist', 'scientist, biomedical', 97.5609756097561),\n",
       " ('building services engineer',\n",
       "  'engineer, building services',\n",
       "  98.11320754716981),\n",
       " ('buyer, industrial', 'industrial buyer', 96.96969696969697),\n",
       " ('buyer, retail', 'retail buyer', 96.0),\n",
       " ('chartered loss adjuster', 'loss adjuster, chartered', 97.87234042553192),\n",
       " ('child psychotherapist', 'psychotherapist, child', 97.67441860465115),\n",
       " ('civil engineer, contracting',\n",
       "  'contracting civil engineer',\n",
       "  98.11320754716981),\n",
       " ('clinical psychologist', 'psychologist, clinical', 97.67441860465115),\n",
       " ('commercial horticulturist', 'horticulturist, commercial', 98.0392156862745),\n",
       " ('commissioning editor', 'editor, commissioning', 97.5609756097561),\n",
       " ('communications engineer', 'engineer, communications', 97.87234042553192),\n",
       " ('community development worker',\n",
       "  'development worker, community',\n",
       "  98.24561403508771),\n",
       " ('community education officer',\n",
       "  'education officer, community',\n",
       "  98.18181818181819),\n",
       " ('community pharmacist', 'pharmacist, community', 97.5609756097561),\n",
       " ('conservator, museum/gallery',\n",
       "  'museum/gallery conservator',\n",
       "  98.11320754716981),\n",
       " ('control and instrumentation engineer',\n",
       "  'engineer, control and instrumentation',\n",
       "  98.63013698630137),\n",
       " ('corporate investment banker',\n",
       "  'investment banker, corporate',\n",
       "  98.18181818181819),\n",
       " ('counselling psychologist', 'psychologist, counselling', 97.95918367346938),\n",
       " ('designer, furniture', 'furniture designer', 97.2972972972973),\n",
       " ('designer, industrial/product',\n",
       "  'industrial/product designer',\n",
       "  98.18181818181819),\n",
       " ('designer, jewellery', 'jewellery designer', 97.2972972972973),\n",
       " ('designer, textile', 'textile designer', 96.96969696969697),\n",
       " ('diagnostic radiographer', 'radiographer, diagnostic', 97.87234042553192),\n",
       " ('dispensing optician', 'optician, dispensing', 97.43589743589743),\n",
       " ('doctor, general practice', 'general practice doctor', 97.87234042553192),\n",
       " ('doctor, hospital', 'hospital doctor', 96.7741935483871),\n",
       " ('drilling engineer', 'engineer, drilling', 97.14285714285714),\n",
       " ('editor, film/video', 'film/video editor', 97.14285714285714),\n",
       " ('editor, magazine features', 'magazine features editor', 97.95918367346938),\n",
       " ('education officer, museum', 'museum education officer', 97.95918367346938),\n",
       " ('electronics engineer', 'engineer, electronics', 97.5609756097561),\n",
       " ('engineer, maintenance', 'maintenance engineer', 97.5609756097561),\n",
       " ('engineer, manufacturing', 'manufacturing engineer', 97.77777777777777),\n",
       " ('engineer, materials', 'materials engineer', 97.2972972972973),\n",
       " ('engineer, mining', 'mining engineer', 96.7741935483871),\n",
       " ('engineer, petroleum', 'petroleum engineer', 97.2972972972973),\n",
       " ('engineer, production', 'production engineer', 97.43589743589743),\n",
       " ('engineer, site', 'site engineer', 96.2962962962963),\n",
       " ('engineer, structural', 'structural engineer', 97.43589743589743),\n",
       " ('engineering geologist', 'geologist, engineering', 97.67441860465115),\n",
       " ('english as a foreign language teacher',\n",
       "  'teacher, english as a foreign language',\n",
       "  98.66666666666667),\n",
       " ('exhibitions officer, museum/gallery',\n",
       "  'museum/gallery exhibitions officer',\n",
       "  98.55072463768117),\n",
       " ('forensic psychologist', 'psychologist, forensic', 97.67441860465115),\n",
       " ('further education lecturer',\n",
       "  'lecturer, further education',\n",
       "  98.11320754716981),\n",
       " ('geologist, wellsite', 'wellsite geologist', 97.2972972972973),\n",
       " ('horticultural therapist', 'therapist, horticultural', 97.87234042553192),\n",
       " ('hospital pharmacist', 'pharmacist, hospital', 97.43589743589743),\n",
       " ('hydrographic surveyor', 'surveyor, hydrographic', 97.67441860465115),\n",
       " ('land/geomatics surveyor', 'surveyor, land/geomatics', 97.87234042553192),\n",
       " ('librarian, public', 'public librarian', 96.96969696969697),\n",
       " ('medical physicist', 'physicist, medical', 97.14285714285714),\n",
       " ('mental health nurse', 'nurse, mental health', 97.43589743589743),\n",
       " ('merchandiser, retail', 'retail merchandiser', 97.43589743589743),\n",
       " ('minerals surveyor', 'surveyor, minerals', 97.14285714285714),\n",
       " ('multimedia programmer', 'programmer, multimedia', 97.67441860465115),\n",
       " ('music therapist', 'therapist, music', 96.7741935483871),\n",
       " ('occupational therapist', 'therapist, occupational', 97.77777777777777),\n",
       " ('physiological scientist', 'scientist, physiological', 97.87234042553192),\n",
       " ('primary school teacher', 'teacher, primary school', 97.77777777777777),\n",
       " ('producer, radio', 'radio producer', 96.55172413793103),\n",
       " ('producer, television/film/video',\n",
       "  'television/film/video producer',\n",
       "  98.36065573770492),\n",
       " ('production assistant, television',\n",
       "  'television production assistant',\n",
       "  98.41269841269842),\n",
       " ('psychologist, sport and exercise',\n",
       "  'sport and exercise psychologist',\n",
       "  98.41269841269842),\n",
       " ('research scientist (maths)',\n",
       "  'scientist, research (maths)',\n",
       "  98.11320754716981),\n",
       " ('research scientist (medical)',\n",
       "  'scientist, research (medical)',\n",
       "  98.24561403508771),\n",
       " ('research scientist (physical sciences)',\n",
       "  'scientist, research (physical sciences)',\n",
       "  98.7012987012987),\n",
       " ('rural practice surveyor', 'surveyor, rural practice', 97.87234042553192),\n",
       " ('secondary school teacher', 'teacher, secondary school', 97.95918367346938),\n",
       " ('special educational needs teacher',\n",
       "  'teacher, special educational needs',\n",
       "  98.50746268656717)]"
      ]
     },
     "execution_count": 61,
     "metadata": {},
     "output_type": "execute_result"
    }
   ],
   "source": [
    "similar_jobs"
   ]
  },
  {
   "cell_type": "code",
   "execution_count": 62,
   "id": "0720fb07-0374-4165-988d-36d0bdd48c46",
   "metadata": {},
   "outputs": [
    {
     "data": {
      "text/plain": [
       "job\n",
       "copywriter, advertising      6\n",
       "naval architect              6\n",
       "quantity surveyor            6\n",
       "materials engineer           6\n",
       "trading standards officer    6\n",
       "                            ..\n",
       "immigration officer          1\n",
       "illustrator                  1\n",
       "hydrographic surveyor        1\n",
       "hydrogeologist               1\n",
       "writer                       1\n",
       "Name: count, Length: 494, dtype: int64"
      ]
     },
     "execution_count": 62,
     "metadata": {},
     "output_type": "execute_result"
    }
   ],
   "source": [
    "job_count"
   ]
  },
  {
   "cell_type": "markdown",
   "id": "5bcbee9a-3e1f-4bad-a0cd-bbe631c6e68a",
   "metadata": {},
   "source": [
    "The dataset has 494 unique job titles, with each title appearing one to six times. After sorting the column values, I noticed similar but slightly different job titles. I ran RapidFuzz with a similarity threshold of 80 to identify potential matches, but this resulted in overly broad groupings. To improve accuracy, I changed the similarity threshold to 95, which reduced the matches from 144 to 81. During the preprocessing phase, I plan to replace the less common variations of job titles with the most frequently used version for standardization."
   ]
  },
  {
   "cell_type": "markdown",
   "id": "8217a677-c4a6-483d-ba2f-aefdf219b461",
   "metadata": {},
   "source": [
    "### Column - 'dob'"
   ]
  },
  {
   "cell_type": "code",
   "execution_count": 63,
   "id": "7c72f2e1-c7a6-46aa-8451-3adb511202c4",
   "metadata": {},
   "outputs": [
    {
     "data": {
      "text/plain": [
       "count                          1296675\n",
       "mean     1973-10-03 19:02:55.017178512\n",
       "min                1924-10-30 00:00:00\n",
       "25%                1962-08-13 00:00:00\n",
       "50%                1975-11-30 00:00:00\n",
       "75%                1987-02-22 00:00:00\n",
       "max                2005-01-29 00:00:00\n",
       "Name: dob, dtype: object"
      ]
     },
     "execution_count": 63,
     "metadata": {},
     "output_type": "execute_result"
    }
   ],
   "source": [
    "#checking the range of values for date of birth\n",
    "df['dob'].describe()"
   ]
  },
  {
   "cell_type": "markdown",
   "id": "ec249957-060d-421b-998c-078f8b46f5c9",
   "metadata": {},
   "source": [
    "One visible issue is that the maximum value for the date of birth is 2005-01-29. That would make the cardholder around 14 to 15 at the time of the transaction. This could be an indicator of fraud or an incorrect value. "
   ]
  },
  {
   "cell_type": "code",
   "execution_count": 64,
   "id": "8e32e6af-598a-4086-87e8-e4e10070cd9a",
   "metadata": {},
   "outputs": [],
   "source": [
    "#grouping and sorting the birthday values for plotting\n",
    "birthdays = df[['cc_num', 'dob']].drop_duplicates()\n",
    "sorted_dob = birthdays.sort_values(by='dob')"
   ]
  },
  {
   "cell_type": "code",
   "execution_count": 65,
   "id": "065bfb9b-09c1-42dd-8d8e-fb5ba2a84cee",
   "metadata": {},
   "outputs": [],
   "source": [
    "#creating a year and decade column for easier plotting\n",
    "birthdays['year'] = birthdays['dob'].dt.year\n",
    "birthdays['decade'] = (birthdays['year'] // 10) * 10"
   ]
  },
  {
   "cell_type": "code",
   "execution_count": 66,
   "id": "3b998104-c008-41d1-ba4a-39e5c97e35b2",
   "metadata": {},
   "outputs": [],
   "source": [
    "#grouping every ten years together\n",
    "decade_counts = birthdays.groupby('decade').size()"
   ]
  },
  {
   "cell_type": "code",
   "execution_count": 67,
   "id": "17a539ae-a9fc-4834-9186-c26d5ef88ad6",
   "metadata": {},
   "outputs": [
    {
     "data": {
      "image/png": "[encoded data removed]",
      "text/plain": [
       "<Figure size 640x480 with 1 Axes>"
      ]
     },
     "metadata": {},
     "output_type": "display_data"
    }
   ],
   "source": [
    "decade_counts.plot(kind='bar')\n",
    "plt.title('Number of Birthdays by Decade')\n",
    "plt.xlabel('Decade')\n",
    "plt.ylabel('Count')\n",
    "plt.show()"
   ]
  },
  {
   "cell_type": "markdown",
   "id": "fa7987c1-8821-40ab-9139-9623d5868db7",
   "metadata": {},
   "source": [
    "This plot highlights that the majority of account holders were born between the 1960s and 1990s. Birthdays at either extreme could indicate potential fraud, especially for account holders under 18 at the time of the transaction.\n",
    "\n",
    "**New Column Idea**\n",
    "- Name: 'age_at_trans'\n",
    "- Type: Float\n",
    "- This column will have the customer's age (in years) at the time of the transaction to see if it is an indicator of fraud."
   ]
  },
  {
   "cell_type": "markdown",
   "id": "a434d22b-a09e-4295-974a-47f2ba4333d8",
   "metadata": {},
   "source": [
    "\n",
    "---\n",
    "### Summary"
   ]
  },
  {
   "cell_type": "markdown",
   "id": "8d12eef1-90fa-4c76-886d-497110695174",
   "metadata": {},
   "source": [
    "I analyzed the dataset to identify its structure, assess the quality, and generate ideas for preprocessing and feature engineering. From this process, I determined: \n",
    "\n",
    "#### **Data Cleaning and Preparation**\n",
    "\n",
    "1. **Column Renaming**:\n",
    "   - 'trans_date_trans_time' will be renamed to 'trans_dt'.\n",
    "  \n",
    "2. **Columns to Drop**:\n",
    "   - **Before feature creation**: 'unnamed', 'first', 'last', 'gender', 'street', 'zip', 'merch_zipcode', 'unix_time', and 'city_pop'. \n",
    "   - **After creating features**: 'city'.\n",
    "  \n",
    "3. **Data Type Adjustments**:\n",
    "   - Convert to datetime: 'trans_dt', 'dob'.\n",
    "   - Convert to category: 'merchant', 'category', 'city', 'state', 'job', 'is_fraud'.\n",
    "  \n",
    "4. **Duplicates**:\n",
    "   - No duplicate rows were found in the dataset.\n",
    "  \n",
    "#### **Insights from Data Analysis**\n",
    "\n",
    "1. **Fraudulent Transactions**:\n",
    "   - Less than 1% of transactions are fraudulent but account for over 4% of the transaction amount.\n",
    "   - 'is_fraud' column will not be adjusted.\n",
    "\n",
    "2. **Transaction Amounts (amt)**:\n",
    "   - Range: $1.00 to $28,948.90.\n",
    "   - The column contains outliers at the higher end, but no adjustments will be made. \n",
    "\n",
    "3. **Transaction Categories**:\n",
    "   - 14 unique categories with potential to classify transactions as online, in-person, or mixed based on naming conventions.\n",
    "   - No further changes to the column, but a new \"transaction_type\" column will be added.\n",
    "\n",
    "4. **Location Data**:\n",
    "- Latitude and longitude values for both transactions and merchants suggest anonymization due to square clustering or a low number of unique values.\n",
    "- **Range of values**:\n",
    "    - **Transaction** latitudes: 20.0271 to 66.6933, longitudes: -165.6723 to -67.9503.\n",
    "    - **Merchant** latitudes: 19.027785 to 67.510267, longitudes: -166.671242 to -66.950902.\n",
    "- Columns remain unchanged, but new features such as 'merch_distance' and 'location_match' will be added.\n",
    "\n",
    "5. **City Population (city_pop)**:\n",
    "   - Values range from 23 to 2,906,700 across 879 unique entries. However, several inconsistencies were identified during validation.\n",
    "   - The column will be dropped due to unreliablity.\n",
    "\n",
    "6. **Job Titles (job)**:\n",
    "   - 494 unique job titles with inconsistencies in naming conventions.\n",
    "   - During preprocessing, less common variations will be replaced with their most frequently used counterparts using a similarity threshold of 95 in RapidFuzz.\n",
    "\n",
    "7. **Birth Dates (dob)**:\n",
    "   - Majority of account holders were born between the 1960s and 1990s.\n",
    "   - Extreme birth dates could indicate potential fraud, especially for account holders under 18 at the time of the transaction.\n",
    "\n",
    "8. **Credit Card Numbers (cc_num)**:\n",
    "   - Range: 7 to 3,123 transactions per customer.\n",
    "   - No adjustments planned, as this column is needed for identifying patterns in spending behaviors.\n",
    "\n",
    "#### **Potential New Features**\n",
    "- **Transaction Features**: 'transaction_type', 'trans_by_last_hr', 'hourly_trans_avg', 'trans_by_last_day', 'daily_trans_avg', 'amt_last_hour', 'amt_last_day', 'avg_hr_amt', 'avg_daily_amt'.\n",
    "- **Location Features**: 'merch_distance', 'location_match', 'cust_lat', 'cust_long'.\n",
    "- **Time Features**: 'date', 'year', 'month', 'day', 'week', 'quarter'.\n",
    "- **Age Feature**: \"age_at_trans\", representing the customer's age at the time of the transaction (float).\n",
    "\n",
    "#### **Transaction Timeline**\n",
    "- **Data spans**: January 1, 2019, to June 21, 2020.\n",
    "- **Counts**:\n",
    "  - Customers: 983.\n",
    "  - Merchants: 693.\n",
    "- **Transaction frequency**:\n",
    "  - Customers: 7 to 3,123 transactions.\n",
    "  - Merchants: 727 to 4,403 transactions.\n",
    "\n",
    "This comprehensive understanding of the dataset lays the foundation for effective preprocessing, feature engineering, and model development in subsequent phases.\n"
   ]
  },
  {
   "cell_type": "markdown",
   "id": "c63ce075-d311-4690-85f1-8481591ed77c",
   "metadata": {},
   "source": [
    "### Sources"
   ]
  },
  {
   "cell_type": "markdown",
   "id": "2c164dcb-2a1d-498e-a97f-84f8dee305a0",
   "metadata": {},
   "source": [
    "Choksi, P. (n.d.). Credit card transactions dataset: Using transactional data for financial analysis and fraud detection. Kaggle. Retrieved November 21, 2024, from https://www.kaggle.com/datasets/priyamchoksi/credit-card-transactions-dataset"
   ]
  },
  {
   "cell_type": "markdown",
   "id": "88e4abd2-b63c-4c57-8e0f-6cfd28d45467",
   "metadata": {},
   "source": [
    "National Atlas of the United States. (2014). 1:1,000,000-Scale State Boundaries of the United States [Vector digital data]. Rolla, MO: National Atlas of the United States. Retrieved from https://www.sciencebase.gov/catalog/item/581d052de4b08da350d524e5"
   ]
  },
  {
   "cell_type": "markdown",
   "id": "7e5d37c6-715d-4536-9ea1-b9647e959541",
   "metadata": {},
   "source": [
    "Wikipedia contributors. (n.d.). Bethel, Maine. In Wikipedia. Retrieved December 6, 2024, from https://en.wikipedia.org/wiki/Bethel,_Maine"
   ]
  }
 ],
 "metadata": {
  "kernelspec": {
   "display_name": "Python 3 (ipykernel)",
   "language": "python",
   "name": "python3"
  },
  "language_info": {
   "codemirror_mode": {
    "name": "ipython",
    "version": 3
   },
   "file_extension": ".py",
   "mimetype": "text/x-python",
   "name": "python",
   "nbconvert_exporter": "python",
   "pygments_lexer": "ipython3",
   "version": "3.12.3"
  }
 },
 "nbformat": 4,
 "nbformat_minor": 5
}
