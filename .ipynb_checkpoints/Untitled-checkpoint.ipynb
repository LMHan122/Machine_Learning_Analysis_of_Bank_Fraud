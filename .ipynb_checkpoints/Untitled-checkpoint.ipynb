{
 "cells": [
  {
   "cell_type": "code",
   "execution_count": 1,
   "id": "a814c91b-661e-4cae-9719-6cc7ca05d948",
   "metadata": {},
   "outputs": [],
   "source": [
    "import pandas as pd\n",
    "import logging\n",
    "import wandb\n",
    "import os\n",
    "import wandb"
   ]
  },
  {
   "cell_type": "code",
   "execution_count": 8,
   "id": "b34bfedb-9ccb-4608-bce8-3cb14f0608cb",
   "metadata": {},
   "outputs": [
    {
     "data": {
      "text/html": [
       "Finishing last run (ID:xujerm4s) before initializing another..."
      ],
      "text/plain": [
       "<IPython.core.display.HTML object>"
      ]
     },
     "metadata": {},
     "output_type": "display_data"
    },
    {
     "data": {
      "text/html": [
       " View run <strong style=\"color:#cdcd00\">valiant-paper-1</strong> at: <a href='https://wandb.ai/lhan122-student/Machine_Learning_Analysis_of_Bank_Fraud/runs/xujerm4s' target=\"_blank\">https://wandb.ai/lhan122-student/Machine_Learning_Analysis_of_Bank_Fraud/runs/xujerm4s</a><br/> View project at: <a href='https://wandb.ai/lhan122-student/Machine_Learning_Analysis_of_Bank_Fraud' target=\"_blank\">https://wandb.ai/lhan122-student/Machine_Learning_Analysis_of_Bank_Fraud</a><br/>Synced 4 W&B file(s), 0 media file(s), 3 artifact file(s) and 0 other file(s)"
      ],
      "text/plain": [
       "<IPython.core.display.HTML object>"
      ]
     },
     "metadata": {},
     "output_type": "display_data"
    },
    {
     "data": {
      "text/html": [
       "Find logs at: <code>.\\wandb\\run-20241209_111344-xujerm4s\\logs</code>"
      ],
      "text/plain": [
       "<IPython.core.display.HTML object>"
      ]
     },
     "metadata": {},
     "output_type": "display_data"
    },
    {
     "data": {
      "text/html": [
       "Successfully finished last run (ID:xujerm4s). Initializing new run:<br/>"
      ],
      "text/plain": [
       "<IPython.core.display.HTML object>"
      ]
     },
     "metadata": {},
     "output_type": "display_data"
    },
    {
     "data": {
      "text/html": [
       "Tracking run with wandb version 0.18.7"
      ],
      "text/plain": [
       "<IPython.core.display.HTML object>"
      ]
     },
     "metadata": {},
     "output_type": "display_data"
    },
    {
     "data": {
      "text/html": [
       "Run data is saved locally in <code>C:\\Users\\eelil\\OneDrive\\Desktop\\Capstone\\Machine_Learning_Analysis_of_Bank_Fraud\\wandb\\run-20241209_112734-cxoqj3p2</code>"
      ],
      "text/plain": [
       "<IPython.core.display.HTML object>"
      ]
     },
     "metadata": {},
     "output_type": "display_data"
    },
    {
     "data": {
      "text/html": [
       "Syncing run <strong><a href='https://wandb.ai/lhan122-student/Machine_Learning_Analysis_of_Bank_Fraud/runs/cxoqj3p2' target=\"_blank\">amber-feather-2</a></strong> to <a href='https://wandb.ai/lhan122-student/Machine_Learning_Analysis_of_Bank_Fraud' target=\"_blank\">Weights & Biases</a> (<a href='https://wandb.me/developer-guide' target=\"_blank\">docs</a>)<br/>"
      ],
      "text/plain": [
       "<IPython.core.display.HTML object>"
      ]
     },
     "metadata": {},
     "output_type": "display_data"
    },
    {
     "data": {
      "text/html": [
       " View project at <a href='https://wandb.ai/lhan122-student/Machine_Learning_Analysis_of_Bank_Fraud' target=\"_blank\">https://wandb.ai/lhan122-student/Machine_Learning_Analysis_of_Bank_Fraud</a>"
      ],
      "text/plain": [
       "<IPython.core.display.HTML object>"
      ]
     },
     "metadata": {},
     "output_type": "display_data"
    },
    {
     "data": {
      "text/html": [
       " View run at <a href='https://wandb.ai/lhan122-student/Machine_Learning_Analysis_of_Bank_Fraud/runs/cxoqj3p2' target=\"_blank\">https://wandb.ai/lhan122-student/Machine_Learning_Analysis_of_Bank_Fraud/runs/cxoqj3p2</a>"
      ],
      "text/plain": [
       "<IPython.core.display.HTML object>"
      ]
     },
     "metadata": {},
     "output_type": "display_data"
    },
    {
     "name": "stderr",
     "output_type": "stream",
     "text": [
      "wandb: Downloading large artifact cleaned_credit_card_data:latest, 85.55MB. 1 files... \n",
      "wandb:   1 of 1 files downloaded.  \n",
      "Done. 0:0:9.4\n"
     ]
    }
   ],
   "source": [
    "run = wandb.init()\n",
    "artifact = run.use_artifact('lhan122-student/credit_card_fraud/cleaned_credit_card_data:latest', type='dataset')\n",
    "artifact_dir = artifact.download()"
   ]
  },
  {
   "cell_type": "code",
   "execution_count": 9,
   "id": "1adf9a44-18ee-471b-b223-6135b5995f78",
   "metadata": {},
   "outputs": [],
   "source": [
    "df = pd.read_parquet('cleaned_credit_card_fraud.parquet')"
   ]
  },
  {
   "cell_type": "code",
   "execution_count": 10,
   "id": "743f5b33-b4a1-48e9-8a46-7e19967519e8",
   "metadata": {},
   "outputs": [
    {
     "data": {
      "text/html": [
       "<div>\n",
       "<style scoped>\n",
       "    .dataframe tbody tr th:only-of-type {\n",
       "        vertical-align: middle;\n",
       "    }\n",
       "\n",
       "    .dataframe tbody tr th {\n",
       "        vertical-align: top;\n",
       "    }\n",
       "\n",
       "    .dataframe thead th {\n",
       "        text-align: right;\n",
       "    }\n",
       "</style>\n",
       "<table border=\"1\" class=\"dataframe\">\n",
       "  <thead>\n",
       "    <tr style=\"text-align: right;\">\n",
       "      <th></th>\n",
       "      <th>trans_dt</th>\n",
       "      <th>cc_num</th>\n",
       "      <th>merchant</th>\n",
       "      <th>category</th>\n",
       "      <th>amt</th>\n",
       "      <th>city</th>\n",
       "      <th>state</th>\n",
       "      <th>lat</th>\n",
       "      <th>long</th>\n",
       "      <th>job</th>\n",
       "      <th>dob</th>\n",
       "      <th>trans_num</th>\n",
       "      <th>merch_lat</th>\n",
       "      <th>merch_long</th>\n",
       "      <th>is_fraud</th>\n",
       "    </tr>\n",
       "  </thead>\n",
       "  <tbody>\n",
       "    <tr>\n",
       "      <th>0</th>\n",
       "      <td>2019-01-01 00:00:18</td>\n",
       "      <td>2703186189652095</td>\n",
       "      <td>fraud_Rippin, Kub and Mann</td>\n",
       "      <td>misc_net</td>\n",
       "      <td>4.97</td>\n",
       "      <td>Moravian Falls</td>\n",
       "      <td>NC</td>\n",
       "      <td>36.0788</td>\n",
       "      <td>-81.1781</td>\n",
       "      <td>Psychologist, counselling</td>\n",
       "      <td>1988-03-09</td>\n",
       "      <td>0b242abb623afc578575680df30655b9</td>\n",
       "      <td>36.011293</td>\n",
       "      <td>-82.048315</td>\n",
       "      <td>0</td>\n",
       "    </tr>\n",
       "    <tr>\n",
       "      <th>1</th>\n",
       "      <td>2019-01-01 00:00:44</td>\n",
       "      <td>630423337322</td>\n",
       "      <td>fraud_Heller, Gutmann and Zieme</td>\n",
       "      <td>grocery_pos</td>\n",
       "      <td>107.23</td>\n",
       "      <td>Orient</td>\n",
       "      <td>WA</td>\n",
       "      <td>48.8878</td>\n",
       "      <td>-118.2105</td>\n",
       "      <td>Special educational needs teacher</td>\n",
       "      <td>1978-06-21</td>\n",
       "      <td>1f76529f8574734946361c461b024d99</td>\n",
       "      <td>49.159047</td>\n",
       "      <td>-118.186462</td>\n",
       "      <td>0</td>\n",
       "    </tr>\n",
       "    <tr>\n",
       "      <th>2</th>\n",
       "      <td>2019-01-01 00:00:51</td>\n",
       "      <td>38859492057661</td>\n",
       "      <td>fraud_Lind-Buckridge</td>\n",
       "      <td>entertainment</td>\n",
       "      <td>220.11</td>\n",
       "      <td>Malad City</td>\n",
       "      <td>ID</td>\n",
       "      <td>42.1808</td>\n",
       "      <td>-112.2620</td>\n",
       "      <td>Nature conservation officer</td>\n",
       "      <td>1962-01-19</td>\n",
       "      <td>a1a22d70485983eac12b5b88dad1cf95</td>\n",
       "      <td>43.150704</td>\n",
       "      <td>-112.154481</td>\n",
       "      <td>0</td>\n",
       "    </tr>\n",
       "    <tr>\n",
       "      <th>3</th>\n",
       "      <td>2019-01-01 00:01:16</td>\n",
       "      <td>3534093764340240</td>\n",
       "      <td>fraud_Kutch, Hermiston and Farrell</td>\n",
       "      <td>gas_transport</td>\n",
       "      <td>45.00</td>\n",
       "      <td>Boulder</td>\n",
       "      <td>MT</td>\n",
       "      <td>46.2306</td>\n",
       "      <td>-112.1138</td>\n",
       "      <td>Patent attorney</td>\n",
       "      <td>1967-01-12</td>\n",
       "      <td>6b849c168bdad6f867558c3793159a81</td>\n",
       "      <td>47.034331</td>\n",
       "      <td>-112.561071</td>\n",
       "      <td>0</td>\n",
       "    </tr>\n",
       "    <tr>\n",
       "      <th>4</th>\n",
       "      <td>2019-01-01 00:03:06</td>\n",
       "      <td>375534208663984</td>\n",
       "      <td>fraud_Keeling-Crist</td>\n",
       "      <td>misc_pos</td>\n",
       "      <td>41.96</td>\n",
       "      <td>Doe Hill</td>\n",
       "      <td>VA</td>\n",
       "      <td>38.4207</td>\n",
       "      <td>-79.4629</td>\n",
       "      <td>Dance movement psychotherapist</td>\n",
       "      <td>1986-03-28</td>\n",
       "      <td>a41d7549acf90789359a9aa5346dcb46</td>\n",
       "      <td>38.674999</td>\n",
       "      <td>-78.632459</td>\n",
       "      <td>0</td>\n",
       "    </tr>\n",
       "  </tbody>\n",
       "</table>\n",
       "</div>"
      ],
      "text/plain": [
       "             trans_dt            cc_num                            merchant  \\\n",
       "0 2019-01-01 00:00:18  2703186189652095          fraud_Rippin, Kub and Mann   \n",
       "1 2019-01-01 00:00:44      630423337322     fraud_Heller, Gutmann and Zieme   \n",
       "2 2019-01-01 00:00:51    38859492057661                fraud_Lind-Buckridge   \n",
       "3 2019-01-01 00:01:16  3534093764340240  fraud_Kutch, Hermiston and Farrell   \n",
       "4 2019-01-01 00:03:06   375534208663984                 fraud_Keeling-Crist   \n",
       "\n",
       "        category     amt            city state      lat      long  \\\n",
       "0       misc_net    4.97  Moravian Falls    NC  36.0788  -81.1781   \n",
       "1    grocery_pos  107.23          Orient    WA  48.8878 -118.2105   \n",
       "2  entertainment  220.11      Malad City    ID  42.1808 -112.2620   \n",
       "3  gas_transport   45.00         Boulder    MT  46.2306 -112.1138   \n",
       "4       misc_pos   41.96        Doe Hill    VA  38.4207  -79.4629   \n",
       "\n",
       "                                 job        dob  \\\n",
       "0          Psychologist, counselling 1988-03-09   \n",
       "1  Special educational needs teacher 1978-06-21   \n",
       "2        Nature conservation officer 1962-01-19   \n",
       "3                    Patent attorney 1967-01-12   \n",
       "4     Dance movement psychotherapist 1986-03-28   \n",
       "\n",
       "                          trans_num  merch_lat  merch_long  is_fraud  \n",
       "0  0b242abb623afc578575680df30655b9  36.011293  -82.048315         0  \n",
       "1  1f76529f8574734946361c461b024d99  49.159047 -118.186462         0  \n",
       "2  a1a22d70485983eac12b5b88dad1cf95  43.150704 -112.154481         0  \n",
       "3  6b849c168bdad6f867558c3793159a81  47.034331 -112.561071         0  \n",
       "4  a41d7549acf90789359a9aa5346dcb46  38.674999  -78.632459         0  "
      ]
     },
     "execution_count": 10,
     "metadata": {},
     "output_type": "execute_result"
    }
   ],
   "source": [
    "df.head()"
   ]
  },
  {
   "cell_type": "code",
   "execution_count": 11,
   "id": "a86402be-05ca-4d3e-940d-b434d45794e6",
   "metadata": {},
   "outputs": [
    {
     "name": "stdout",
     "output_type": "stream",
     "text": [
      "<class 'pandas.core.frame.DataFrame'>\n",
      "RangeIndex: 1296675 entries, 0 to 1296674\n",
      "Data columns (total 15 columns):\n",
      " #   Column      Non-Null Count    Dtype         \n",
      "---  ------      --------------    -----         \n",
      " 0   trans_dt    1296675 non-null  datetime64[ns]\n",
      " 1   cc_num      1296675 non-null  int64         \n",
      " 2   merchant    1296675 non-null  category      \n",
      " 3   category    1296675 non-null  category      \n",
      " 4   amt         1296675 non-null  float64       \n",
      " 5   city        1296675 non-null  category      \n",
      " 6   state       1296675 non-null  category      \n",
      " 7   lat         1296675 non-null  float64       \n",
      " 8   long        1296675 non-null  float64       \n",
      " 9   job         1296675 non-null  category      \n",
      " 10  dob         1296675 non-null  datetime64[ns]\n",
      " 11  trans_num   1296675 non-null  object        \n",
      " 12  merch_lat   1296675 non-null  float64       \n",
      " 13  merch_long  1296675 non-null  float64       \n",
      " 14  is_fraud    1296675 non-null  int64         \n",
      "dtypes: category(5), datetime64[ns](2), float64(5), int64(2), object(1)\n",
      "memory usage: 108.9+ MB\n"
     ]
    }
   ],
   "source": [
    "df.info()"
   ]
  },
  {
   "cell_type": "code",
   "execution_count": 13,
   "id": "c0510a00-7085-400b-b6a9-12226615a2b1",
   "metadata": {},
   "outputs": [],
   "source": [
    "#creating new transaction type column \n",
    "transaction_map = {\n",
    "    'shopping_net': 1, 'misc_net': 1, 'grocery_net': 1,\n",
    "    'grocery_pos': 2,\n",
    "    'shopping_pos': 2,\n",
    "    'misc_pos': 2,\n",
    "    'gas_transport': 2,\n",
    "    'home': 0,\n",
    "    'kids_pets': 0,\n",
    "    'entertainment': 0,\n",
    "    'food_dining': 0,\n",
    "    'personal_care': 0,\n",
    "    'health_fitness': 0,\n",
    "    'travel': 0\n",
    "}"
   ]
  },
  {
   "cell_type": "code",
   "execution_count": 14,
   "id": "bfe4b24c-3be0-473d-993c-60cee1c91994",
   "metadata": {},
   "outputs": [],
   "source": [
    "df['trans_type'] = df['category'].map(transaction_map).astype('category')"
   ]
  },
  {
   "cell_type": "code",
   "execution_count": 15,
   "id": "e61d1bba-f285-406d-97d3-2461164329e2",
   "metadata": {},
   "outputs": [
    {
     "name": "stdout",
     "output_type": "stream",
     "text": [
      "<class 'pandas.core.frame.DataFrame'>\n",
      "RangeIndex: 1296675 entries, 0 to 1296674\n",
      "Data columns (total 16 columns):\n",
      " #   Column      Non-Null Count    Dtype         \n",
      "---  ------      --------------    -----         \n",
      " 0   trans_dt    1296675 non-null  datetime64[ns]\n",
      " 1   cc_num      1296675 non-null  int64         \n",
      " 2   merchant    1296675 non-null  category      \n",
      " 3   category    1296675 non-null  category      \n",
      " 4   amt         1296675 non-null  float64       \n",
      " 5   city        1296675 non-null  category      \n",
      " 6   state       1296675 non-null  category      \n",
      " 7   lat         1296675 non-null  float64       \n",
      " 8   long        1296675 non-null  float64       \n",
      " 9   job         1296675 non-null  category      \n",
      " 10  dob         1296675 non-null  datetime64[ns]\n",
      " 11  trans_num   1296675 non-null  object        \n",
      " 12  merch_lat   1296675 non-null  float64       \n",
      " 13  merch_long  1296675 non-null  float64       \n",
      " 14  is_fraud    1296675 non-null  int64         \n",
      " 15  trans_type  1296675 non-null  category      \n",
      "dtypes: category(6), datetime64[ns](2), float64(5), int64(2), object(1)\n",
      "memory usage: 110.1+ MB\n"
     ]
    }
   ],
   "source": [
    "df.info()"
   ]
  },
  {
   "cell_type": "code",
   "execution_count": 19,
   "id": "0ea43fe7-a37c-48ef-bbd8-f0895d31b116",
   "metadata": {},
   "outputs": [
    {
     "data": {
      "text/plain": [
       "[1, 2, 0]\n",
       "Categories (3, int64): [0, 1, 2]"
      ]
     },
     "execution_count": 19,
     "metadata": {},
     "output_type": "execute_result"
    }
   ],
   "source": [
    "df['trans_type'].unique()"
   ]
  },
  {
   "cell_type": "code",
   "execution_count": 31,
   "id": "d5020246-2d34-4f2d-bb3b-04baafac49cf",
   "metadata": {},
   "outputs": [],
   "source": [
    "## creating mapping for customer location \n",
    "cust_loc = df[['city', 'state']].drop_duplicates()"
   ]
  },
  {
   "cell_type": "code",
   "execution_count": 32,
   "id": "ecd00db6-f754-4440-9037-96c78cc4a73b",
   "metadata": {},
   "outputs": [
    {
     "data": {
      "text/html": [
       "<div>\n",
       "<style scoped>\n",
       "    .dataframe tbody tr th:only-of-type {\n",
       "        vertical-align: middle;\n",
       "    }\n",
       "\n",
       "    .dataframe tbody tr th {\n",
       "        vertical-align: top;\n",
       "    }\n",
       "\n",
       "    .dataframe thead th {\n",
       "        text-align: right;\n",
       "    }\n",
       "</style>\n",
       "<table border=\"1\" class=\"dataframe\">\n",
       "  <thead>\n",
       "    <tr style=\"text-align: right;\">\n",
       "      <th></th>\n",
       "      <th>city</th>\n",
       "      <th>state</th>\n",
       "    </tr>\n",
       "  </thead>\n",
       "  <tbody>\n",
       "    <tr>\n",
       "      <th>0</th>\n",
       "      <td>Moravian Falls</td>\n",
       "      <td>NC</td>\n",
       "    </tr>\n",
       "    <tr>\n",
       "      <th>1</th>\n",
       "      <td>Orient</td>\n",
       "      <td>WA</td>\n",
       "    </tr>\n",
       "    <tr>\n",
       "      <th>2</th>\n",
       "      <td>Malad City</td>\n",
       "      <td>ID</td>\n",
       "    </tr>\n",
       "    <tr>\n",
       "      <th>3</th>\n",
       "      <td>Boulder</td>\n",
       "      <td>MT</td>\n",
       "    </tr>\n",
       "    <tr>\n",
       "      <th>4</th>\n",
       "      <td>Doe Hill</td>\n",
       "      <td>VA</td>\n",
       "    </tr>\n",
       "    <tr>\n",
       "      <th>...</th>\n",
       "      <td>...</td>\n",
       "      <td>...</td>\n",
       "    </tr>\n",
       "    <tr>\n",
       "      <th>1186804</th>\n",
       "      <td>Nicholson</td>\n",
       "      <td>PA</td>\n",
       "    </tr>\n",
       "    <tr>\n",
       "      <th>1190005</th>\n",
       "      <td>Lockhart</td>\n",
       "      <td>TX</td>\n",
       "    </tr>\n",
       "    <tr>\n",
       "      <th>1230734</th>\n",
       "      <td>Moss Point</td>\n",
       "      <td>MS</td>\n",
       "    </tr>\n",
       "    <tr>\n",
       "      <th>1258483</th>\n",
       "      <td>Queen Anne</td>\n",
       "      <td>MD</td>\n",
       "    </tr>\n",
       "    <tr>\n",
       "      <th>1275589</th>\n",
       "      <td>Freeport</td>\n",
       "      <td>ME</td>\n",
       "    </tr>\n",
       "  </tbody>\n",
       "</table>\n",
       "<p>928 rows × 2 columns</p>\n",
       "</div>"
      ],
      "text/plain": [
       "                   city state\n",
       "0        Moravian Falls    NC\n",
       "1                Orient    WA\n",
       "2            Malad City    ID\n",
       "3               Boulder    MT\n",
       "4              Doe Hill    VA\n",
       "...                 ...   ...\n",
       "1186804       Nicholson    PA\n",
       "1190005        Lockhart    TX\n",
       "1230734      Moss Point    MS\n",
       "1258483      Queen Anne    MD\n",
       "1275589        Freeport    ME\n",
       "\n",
       "[928 rows x 2 columns]"
      ]
     },
     "execution_count": 32,
     "metadata": {},
     "output_type": "execute_result"
    }
   ],
   "source": [
    "cust_loc"
   ]
  },
  {
   "cell_type": "code",
   "execution_count": 34,
   "id": "64d0b684-1f9c-4655-b2f8-fca8cab5f48d",
   "metadata": {},
   "outputs": [],
   "source": [
    "from geopy.geocoders import Nominatim\n",
    "\n",
    "geolocator = Nominatim(user_agent=\"geoapi\")\n",
    "def get_lat_long(city, state):\n",
    "    try:\n",
    "        location = geolocator.geocode(f\"{city}, {state}\")\n",
    "        if location:\n",
    "            return location.latitude, location.longitude\n",
    "        else:\n",
    "            return None, None\n",
    "    except Exception as e:\n",
    "        logger.error(f\"Error fetching location for {city}, {state}: {e}\")\n",
    "        return None, None\n",
    "\n",
    "# apply geocoding \n",
    "cust_loc['lat_long'] = cust_loc.apply(lambda x: get_lat_long(x['city'], x['state']), axis=1)\n",
    "cust_loc[['cust_lat', 'cust_long']] = pd.DataFrame(cust_loc['lat_long'].tolist(), index=cust_loc.index)"
   ]
  },
  {
   "cell_type": "code",
   "execution_count": 35,
   "id": "c4a281e6-4c26-431e-8dad-e9a8463dfe3c",
   "metadata": {},
   "outputs": [
    {
     "data": {
      "text/html": [
       "<div>\n",
       "<style scoped>\n",
       "    .dataframe tbody tr th:only-of-type {\n",
       "        vertical-align: middle;\n",
       "    }\n",
       "\n",
       "    .dataframe tbody tr th {\n",
       "        vertical-align: top;\n",
       "    }\n",
       "\n",
       "    .dataframe thead th {\n",
       "        text-align: right;\n",
       "    }\n",
       "</style>\n",
       "<table border=\"1\" class=\"dataframe\">\n",
       "  <thead>\n",
       "    <tr style=\"text-align: right;\">\n",
       "      <th></th>\n",
       "      <th>city</th>\n",
       "      <th>state</th>\n",
       "      <th>lat_long</th>\n",
       "      <th>cust_lat</th>\n",
       "      <th>cust_long</th>\n",
       "    </tr>\n",
       "  </thead>\n",
       "  <tbody>\n",
       "    <tr>\n",
       "      <th>0</th>\n",
       "      <td>Moravian Falls</td>\n",
       "      <td>NC</td>\n",
       "      <td>(36.102686500000004, -81.18158238008564)</td>\n",
       "      <td>36.102687</td>\n",
       "      <td>-81.181582</td>\n",
       "    </tr>\n",
       "    <tr>\n",
       "      <th>1</th>\n",
       "      <td>Orient</td>\n",
       "      <td>WA</td>\n",
       "      <td>(48.8660142, -118.2027814)</td>\n",
       "      <td>48.866014</td>\n",
       "      <td>-118.202781</td>\n",
       "    </tr>\n",
       "    <tr>\n",
       "      <th>2</th>\n",
       "      <td>Malad City</td>\n",
       "      <td>ID</td>\n",
       "      <td>(42.1915872, -112.250798)</td>\n",
       "      <td>42.191587</td>\n",
       "      <td>-112.250798</td>\n",
       "    </tr>\n",
       "    <tr>\n",
       "      <th>3</th>\n",
       "      <td>Boulder</td>\n",
       "      <td>MT</td>\n",
       "      <td>(46.236595, -112.120834)</td>\n",
       "      <td>46.236595</td>\n",
       "      <td>-112.120834</td>\n",
       "    </tr>\n",
       "    <tr>\n",
       "      <th>4</th>\n",
       "      <td>Doe Hill</td>\n",
       "      <td>VA</td>\n",
       "      <td>(38.4320658, -79.4444882)</td>\n",
       "      <td>38.432066</td>\n",
       "      <td>-79.444488</td>\n",
       "    </tr>\n",
       "    <tr>\n",
       "      <th>...</th>\n",
       "      <td>...</td>\n",
       "      <td>...</td>\n",
       "      <td>...</td>\n",
       "      <td>...</td>\n",
       "      <td>...</td>\n",
       "    </tr>\n",
       "    <tr>\n",
       "      <th>1186804</th>\n",
       "      <td>Nicholson</td>\n",
       "      <td>PA</td>\n",
       "      <td>(41.6261882, -75.78047)</td>\n",
       "      <td>41.626188</td>\n",
       "      <td>-75.780470</td>\n",
       "    </tr>\n",
       "    <tr>\n",
       "      <th>1190005</th>\n",
       "      <td>Lockhart</td>\n",
       "      <td>TX</td>\n",
       "      <td>(29.8832105, -97.6736292)</td>\n",
       "      <td>29.883211</td>\n",
       "      <td>-97.673629</td>\n",
       "    </tr>\n",
       "    <tr>\n",
       "      <th>1230734</th>\n",
       "      <td>Moss Point</td>\n",
       "      <td>MS</td>\n",
       "      <td>(30.4115881, -88.5344601)</td>\n",
       "      <td>30.411588</td>\n",
       "      <td>-88.534460</td>\n",
       "    </tr>\n",
       "    <tr>\n",
       "      <th>1258483</th>\n",
       "      <td>Queen Anne</td>\n",
       "      <td>MD</td>\n",
       "      <td>(38.919559, -75.9528827)</td>\n",
       "      <td>38.919559</td>\n",
       "      <td>-75.952883</td>\n",
       "    </tr>\n",
       "    <tr>\n",
       "      <th>1275589</th>\n",
       "      <td>Freeport</td>\n",
       "      <td>ME</td>\n",
       "      <td>(43.857307, -70.10376)</td>\n",
       "      <td>43.857307</td>\n",
       "      <td>-70.103760</td>\n",
       "    </tr>\n",
       "  </tbody>\n",
       "</table>\n",
       "<p>928 rows × 5 columns</p>\n",
       "</div>"
      ],
      "text/plain": [
       "                   city state                                  lat_long  \\\n",
       "0        Moravian Falls    NC  (36.102686500000004, -81.18158238008564)   \n",
       "1                Orient    WA                (48.8660142, -118.2027814)   \n",
       "2            Malad City    ID                 (42.1915872, -112.250798)   \n",
       "3               Boulder    MT                  (46.236595, -112.120834)   \n",
       "4              Doe Hill    VA                 (38.4320658, -79.4444882)   \n",
       "...                 ...   ...                                       ...   \n",
       "1186804       Nicholson    PA                   (41.6261882, -75.78047)   \n",
       "1190005        Lockhart    TX                 (29.8832105, -97.6736292)   \n",
       "1230734      Moss Point    MS                 (30.4115881, -88.5344601)   \n",
       "1258483      Queen Anne    MD                  (38.919559, -75.9528827)   \n",
       "1275589        Freeport    ME                    (43.857307, -70.10376)   \n",
       "\n",
       "          cust_lat   cust_long  \n",
       "0        36.102687  -81.181582  \n",
       "1        48.866014 -118.202781  \n",
       "2        42.191587 -112.250798  \n",
       "3        46.236595 -112.120834  \n",
       "4        38.432066  -79.444488  \n",
       "...            ...         ...  \n",
       "1186804  41.626188  -75.780470  \n",
       "1190005  29.883211  -97.673629  \n",
       "1230734  30.411588  -88.534460  \n",
       "1258483  38.919559  -75.952883  \n",
       "1275589  43.857307  -70.103760  \n",
       "\n",
       "[928 rows x 5 columns]"
      ]
     },
     "execution_count": 35,
     "metadata": {},
     "output_type": "execute_result"
    }
   ],
   "source": [
    "cust_loc"
   ]
  },
  {
   "cell_type": "code",
   "execution_count": 36,
   "id": "41d26b50-4afa-41f2-aecf-3ac2a29c40d8",
   "metadata": {},
   "outputs": [],
   "source": [
    "#saving this for future use, since it take a while to run\n",
    "cust_loc.to_csv(\"customer_locations.csv\", index=False)\n"
   ]
  },
  {
   "cell_type": "code",
   "execution_count": null,
   "id": "2ba442b0-d0fd-49af-a6a9-f6555a7dee89",
   "metadata": {},
   "outputs": [],
   "source": []
  }
 ],
 "metadata": {
  "kernelspec": {
   "display_name": "Python 3 (ipykernel)",
   "language": "python",
   "name": "python3"
  },
  "language_info": {
   "codemirror_mode": {
    "name": "ipython",
    "version": 3
   },
   "file_extension": ".py",
   "mimetype": "text/x-python",
   "name": "python",
   "nbconvert_exporter": "python",
   "pygments_lexer": "ipython3",
   "version": "3.12.3"
  }
 },
 "nbformat": 4,
 "nbformat_minor": 5
}
