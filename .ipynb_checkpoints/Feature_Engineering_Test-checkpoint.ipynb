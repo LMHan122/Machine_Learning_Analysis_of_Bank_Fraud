{
 "cells": [
  {
   "cell_type": "code",
   "execution_count": 1,
   "id": "a814c91b-661e-4cae-9719-6cc7ca05d948",
   "metadata": {},
   "outputs": [],
   "source": [
    "import pandas as pd\n",
    "import logging\n",
    "import wandb\n",
    "import os\n",
    "import wandb"
   ]
  },
  {
   "cell_type": "code",
   "execution_count": 8,
   "id": "b34bfedb-9ccb-4608-bce8-3cb14f0608cb",
   "metadata": {},
   "outputs": [
    {
     "data": {
      "text/html": [
       "Finishing last run (ID:xujerm4s) before initializing another..."
      ],
      "text/plain": [
       "<IPython.core.display.HTML object>"
      ]
     },
     "metadata": {},
     "output_type": "display_data"
    },
    {
     "data": {
      "text/html": [
       " View run <strong style=\"color:#cdcd00\">valiant-paper-1</strong> at: <a href='https://wandb.ai/lhan122-student/Machine_Learning_Analysis_of_Bank_Fraud/runs/xujerm4s' target=\"_blank\">https://wandb.ai/lhan122-student/Machine_Learning_Analysis_of_Bank_Fraud/runs/xujerm4s</a><br/> View project at: <a href='https://wandb.ai/lhan122-student/Machine_Learning_Analysis_of_Bank_Fraud' target=\"_blank\">https://wandb.ai/lhan122-student/Machine_Learning_Analysis_of_Bank_Fraud</a><br/>Synced 4 W&B file(s), 0 media file(s), 3 artifact file(s) and 0 other file(s)"
      ],
      "text/plain": [
       "<IPython.core.display.HTML object>"
      ]
     },
     "metadata": {},
     "output_type": "display_data"
    },
    {
     "data": {
      "text/html": [
       "Find logs at: <code>.\\wandb\\run-20241209_111344-xujerm4s\\logs</code>"
      ],
      "text/plain": [
       "<IPython.core.display.HTML object>"
      ]
     },
     "metadata": {},
     "output_type": "display_data"
    },
    {
     "data": {
      "text/html": [
       "Successfully finished last run (ID:xujerm4s). Initializing new run:<br/>"
      ],
      "text/plain": [
       "<IPython.core.display.HTML object>"
      ]
     },
     "metadata": {},
     "output_type": "display_data"
    },
    {
     "data": {
      "text/html": [
       "Tracking run with wandb version 0.18.7"
      ],
      "text/plain": [
       "<IPython.core.display.HTML object>"
      ]
     },
     "metadata": {},
     "output_type": "display_data"
    },
    {
     "data": {
      "text/html": [
       "Run data is saved locally in <code>C:\\Users\\eelil\\OneDrive\\Desktop\\Capstone\\Machine_Learning_Analysis_of_Bank_Fraud\\wandb\\run-20241209_112734-cxoqj3p2</code>"
      ],
      "text/plain": [
       "<IPython.core.display.HTML object>"
      ]
     },
     "metadata": {},
     "output_type": "display_data"
    },
    {
     "data": {
      "text/html": [
       "Syncing run <strong><a href='https://wandb.ai/lhan122-student/Machine_Learning_Analysis_of_Bank_Fraud/runs/cxoqj3p2' target=\"_blank\">amber-feather-2</a></strong> to <a href='https://wandb.ai/lhan122-student/Machine_Learning_Analysis_of_Bank_Fraud' target=\"_blank\">Weights & Biases</a> (<a href='https://wandb.me/developer-guide' target=\"_blank\">docs</a>)<br/>"
      ],
      "text/plain": [
       "<IPython.core.display.HTML object>"
      ]
     },
     "metadata": {},
     "output_type": "display_data"
    },
    {
     "data": {
      "text/html": [
       " View project at <a href='https://wandb.ai/lhan122-student/Machine_Learning_Analysis_of_Bank_Fraud' target=\"_blank\">https://wandb.ai/lhan122-student/Machine_Learning_Analysis_of_Bank_Fraud</a>"
      ],
      "text/plain": [
       "<IPython.core.display.HTML object>"
      ]
     },
     "metadata": {},
     "output_type": "display_data"
    },
    {
     "data": {
      "text/html": [
       " View run at <a href='https://wandb.ai/lhan122-student/Machine_Learning_Analysis_of_Bank_Fraud/runs/cxoqj3p2' target=\"_blank\">https://wandb.ai/lhan122-student/Machine_Learning_Analysis_of_Bank_Fraud/runs/cxoqj3p2</a>"
      ],
      "text/plain": [
       "<IPython.core.display.HTML object>"
      ]
     },
     "metadata": {},
     "output_type": "display_data"
    },
    {
     "name": "stderr",
     "output_type": "stream",
     "text": [
      "wandb: Downloading large artifact cleaned_credit_card_data:latest, 85.55MB. 1 files... \n",
      "wandb:   1 of 1 files downloaded.  \n",
      "Done. 0:0:9.4\n"
     ]
    }
   ],
   "source": [
    "#loading cleaned dataset from WandB\n",
    "run = wandb.init()\n",
    "artifact = run.use_artifact('lhan122-student/credit_card_fraud/cleaned_credit_card_data:latest', type='dataset')\n",
    "artifact_dir = artifact.download()\n",
    "data/customer_locations.csv"
   ]
  },
  {
   "cell_type": "code",
   "execution_count": 31,
   "id": "d5020246-2d34-4f2d-bb3b-04baafac49cf",
   "metadata": {},
   "outputs": [],
   "source": [
    "## creating mapping for customer location \n",
    "cust_loc = df[['city', 'state']].drop_duplicates()"
   ]
  },
  {
   "cell_type": "code",
   "execution_count": 32,
   "id": "ecd00db6-f754-4440-9037-96c78cc4a73b",
   "metadata": {},
   "outputs": [
    {
     "data": {
      "text/html": [
       "<div>\n",
       "<style scoped>\n",
       "    .dataframe tbody tr th:only-of-type {\n",
       "        vertical-align: middle;\n",
       "    }\n",
       "\n",
       "    .dataframe tbody tr th {\n",
       "        vertical-align: top;\n",
       "    }\n",
       "\n",
       "    .dataframe thead th {\n",
       "        text-align: right;\n",
       "    }\n",
       "</style>\n",
       "<table border=\"1\" class=\"dataframe\">\n",
       "  <thead>\n",
       "    <tr style=\"text-align: right;\">\n",
       "      <th></th>\n",
       "      <th>city</th>\n",
       "      <th>state</th>\n",
       "    </tr>\n",
       "  </thead>\n",
       "  <tbody>\n",
       "    <tr>\n",
       "      <th>0</th>\n",
       "      <td>Moravian Falls</td>\n",
       "      <td>NC</td>\n",
       "    </tr>\n",
       "    <tr>\n",
       "      <th>1</th>\n",
       "      <td>Orient</td>\n",
       "      <td>WA</td>\n",
       "    </tr>\n",
       "    <tr>\n",
       "      <th>2</th>\n",
       "      <td>Malad City</td>\n",
       "      <td>ID</td>\n",
       "    </tr>\n",
       "    <tr>\n",
       "      <th>3</th>\n",
       "      <td>Boulder</td>\n",
       "      <td>MT</td>\n",
       "    </tr>\n",
       "    <tr>\n",
       "      <th>4</th>\n",
       "      <td>Doe Hill</td>\n",
       "      <td>VA</td>\n",
       "    </tr>\n",
       "    <tr>\n",
       "      <th>...</th>\n",
       "      <td>...</td>\n",
       "      <td>...</td>\n",
       "    </tr>\n",
       "    <tr>\n",
       "      <th>1186804</th>\n",
       "      <td>Nicholson</td>\n",
       "      <td>PA</td>\n",
       "    </tr>\n",
       "    <tr>\n",
       "      <th>1190005</th>\n",
       "      <td>Lockhart</td>\n",
       "      <td>TX</td>\n",
       "    </tr>\n",
       "    <tr>\n",
       "      <th>1230734</th>\n",
       "      <td>Moss Point</td>\n",
       "      <td>MS</td>\n",
       "    </tr>\n",
       "    <tr>\n",
       "      <th>1258483</th>\n",
       "      <td>Queen Anne</td>\n",
       "      <td>MD</td>\n",
       "    </tr>\n",
       "    <tr>\n",
       "      <th>1275589</th>\n",
       "      <td>Freeport</td>\n",
       "      <td>ME</td>\n",
       "    </tr>\n",
       "  </tbody>\n",
       "</table>\n",
       "<p>928 rows × 2 columns</p>\n",
       "</div>"
      ],
      "text/plain": [
       "                   city state\n",
       "0        Moravian Falls    NC\n",
       "1                Orient    WA\n",
       "2            Malad City    ID\n",
       "3               Boulder    MT\n",
       "4              Doe Hill    VA\n",
       "...                 ...   ...\n",
       "1186804       Nicholson    PA\n",
       "1190005        Lockhart    TX\n",
       "1230734      Moss Point    MS\n",
       "1258483      Queen Anne    MD\n",
       "1275589        Freeport    ME\n",
       "\n",
       "[928 rows x 2 columns]"
      ]
     },
     "execution_count": 32,
     "metadata": {},
     "output_type": "execute_result"
    }
   ],
   "source": [
    "cust_loc"
   ]
  },
  {
   "cell_type": "code",
   "execution_count": 34,
   "id": "64d0b684-1f9c-4655-b2f8-fca8cab5f48d",
   "metadata": {},
   "outputs": [],
   "source": [
    "#getting lat and long values for city and state\n",
    "from geopy.geocoders import Nominatim\n",
    "\n",
    "geolocator = Nominatim(user_agent=\"geoapi\")\n",
    "def get_lat_long(city, state):\n",
    "    try:\n",
    "        location = geolocator.geocode(f\"{city}, {state}\")\n",
    "        if location:\n",
    "            return location.latitude, location.longitude\n",
    "        else:\n",
    "            return None, None\n",
    "    except Exception as e:\n",
    "        logger.error(f\"Error fetching location for {city}, {state}: {e}\")\n",
    "        return None, None\n",
    "\n",
    "# apply geocoding \n",
    "cust_loc['lat_long'] = cust_loc.apply(lambda x: get_lat_long(x['city'], x['state']), axis=1)\n",
    "cust_loc[['cust_lat', 'cust_long']] = pd.DataFrame(cust_loc['lat_long'].tolist(), index=cust_loc.index)"
   ]
  },
  {
   "cell_type": "code",
   "execution_count": 35,
   "id": "c4a281e6-4c26-431e-8dad-e9a8463dfe3c",
   "metadata": {},
   "outputs": [
    {
     "data": {
      "text/html": [
       "<div>\n",
       "<style scoped>\n",
       "    .dataframe tbody tr th:only-of-type {\n",
       "        vertical-align: middle;\n",
       "    }\n",
       "\n",
       "    .dataframe tbody tr th {\n",
       "        vertical-align: top;\n",
       "    }\n",
       "\n",
       "    .dataframe thead th {\n",
       "        text-align: right;\n",
       "    }\n",
       "</style>\n",
       "<table border=\"1\" class=\"dataframe\">\n",
       "  <thead>\n",
       "    <tr style=\"text-align: right;\">\n",
       "      <th></th>\n",
       "      <th>city</th>\n",
       "      <th>state</th>\n",
       "      <th>lat_long</th>\n",
       "      <th>cust_lat</th>\n",
       "      <th>cust_long</th>\n",
       "    </tr>\n",
       "  </thead>\n",
       "  <tbody>\n",
       "    <tr>\n",
       "      <th>0</th>\n",
       "      <td>Moravian Falls</td>\n",
       "      <td>NC</td>\n",
       "      <td>(36.102686500000004, -81.18158238008564)</td>\n",
       "      <td>36.102687</td>\n",
       "      <td>-81.181582</td>\n",
       "    </tr>\n",
       "    <tr>\n",
       "      <th>1</th>\n",
       "      <td>Orient</td>\n",
       "      <td>WA</td>\n",
       "      <td>(48.8660142, -118.2027814)</td>\n",
       "      <td>48.866014</td>\n",
       "      <td>-118.202781</td>\n",
       "    </tr>\n",
       "    <tr>\n",
       "      <th>2</th>\n",
       "      <td>Malad City</td>\n",
       "      <td>ID</td>\n",
       "      <td>(42.1915872, -112.250798)</td>\n",
       "      <td>42.191587</td>\n",
       "      <td>-112.250798</td>\n",
       "    </tr>\n",
       "    <tr>\n",
       "      <th>3</th>\n",
       "      <td>Boulder</td>\n",
       "      <td>MT</td>\n",
       "      <td>(46.236595, -112.120834)</td>\n",
       "      <td>46.236595</td>\n",
       "      <td>-112.120834</td>\n",
       "    </tr>\n",
       "    <tr>\n",
       "      <th>4</th>\n",
       "      <td>Doe Hill</td>\n",
       "      <td>VA</td>\n",
       "      <td>(38.4320658, -79.4444882)</td>\n",
       "      <td>38.432066</td>\n",
       "      <td>-79.444488</td>\n",
       "    </tr>\n",
       "    <tr>\n",
       "      <th>...</th>\n",
       "      <td>...</td>\n",
       "      <td>...</td>\n",
       "      <td>...</td>\n",
       "      <td>...</td>\n",
       "      <td>...</td>\n",
       "    </tr>\n",
       "    <tr>\n",
       "      <th>1186804</th>\n",
       "      <td>Nicholson</td>\n",
       "      <td>PA</td>\n",
       "      <td>(41.6261882, -75.78047)</td>\n",
       "      <td>41.626188</td>\n",
       "      <td>-75.780470</td>\n",
       "    </tr>\n",
       "    <tr>\n",
       "      <th>1190005</th>\n",
       "      <td>Lockhart</td>\n",
       "      <td>TX</td>\n",
       "      <td>(29.8832105, -97.6736292)</td>\n",
       "      <td>29.883211</td>\n",
       "      <td>-97.673629</td>\n",
       "    </tr>\n",
       "    <tr>\n",
       "      <th>1230734</th>\n",
       "      <td>Moss Point</td>\n",
       "      <td>MS</td>\n",
       "      <td>(30.4115881, -88.5344601)</td>\n",
       "      <td>30.411588</td>\n",
       "      <td>-88.534460</td>\n",
       "    </tr>\n",
       "    <tr>\n",
       "      <th>1258483</th>\n",
       "      <td>Queen Anne</td>\n",
       "      <td>MD</td>\n",
       "      <td>(38.919559, -75.9528827)</td>\n",
       "      <td>38.919559</td>\n",
       "      <td>-75.952883</td>\n",
       "    </tr>\n",
       "    <tr>\n",
       "      <th>1275589</th>\n",
       "      <td>Freeport</td>\n",
       "      <td>ME</td>\n",
       "      <td>(43.857307, -70.10376)</td>\n",
       "      <td>43.857307</td>\n",
       "      <td>-70.103760</td>\n",
       "    </tr>\n",
       "  </tbody>\n",
       "</table>\n",
       "<p>928 rows × 5 columns</p>\n",
       "</div>"
      ],
      "text/plain": [
       "                   city state                                  lat_long  \\\n",
       "0        Moravian Falls    NC  (36.102686500000004, -81.18158238008564)   \n",
       "1                Orient    WA                (48.8660142, -118.2027814)   \n",
       "2            Malad City    ID                 (42.1915872, -112.250798)   \n",
       "3               Boulder    MT                  (46.236595, -112.120834)   \n",
       "4              Doe Hill    VA                 (38.4320658, -79.4444882)   \n",
       "...                 ...   ...                                       ...   \n",
       "1186804       Nicholson    PA                   (41.6261882, -75.78047)   \n",
       "1190005        Lockhart    TX                 (29.8832105, -97.6736292)   \n",
       "1230734      Moss Point    MS                 (30.4115881, -88.5344601)   \n",
       "1258483      Queen Anne    MD                  (38.919559, -75.9528827)   \n",
       "1275589        Freeport    ME                    (43.857307, -70.10376)   \n",
       "\n",
       "          cust_lat   cust_long  \n",
       "0        36.102687  -81.181582  \n",
       "1        48.866014 -118.202781  \n",
       "2        42.191587 -112.250798  \n",
       "3        46.236595 -112.120834  \n",
       "4        38.432066  -79.444488  \n",
       "...            ...         ...  \n",
       "1186804  41.626188  -75.780470  \n",
       "1190005  29.883211  -97.673629  \n",
       "1230734  30.411588  -88.534460  \n",
       "1258483  38.919559  -75.952883  \n",
       "1275589  43.857307  -70.103760  \n",
       "\n",
       "[928 rows x 5 columns]"
      ]
     },
     "execution_count": 35,
     "metadata": {},
     "output_type": "execute_result"
    }
   ],
   "source": [
    "cust_loc"
   ]
  },
  {
   "cell_type": "code",
   "execution_count": 36,
   "id": "41d26b50-4afa-41f2-aecf-3ac2a29c40d8",
   "metadata": {},
   "outputs": [],
   "source": [
    "#saving this for future use, since it takes a while to run\n",
    "cust_loc.to_csv(\"customer_locations.csv\", index=False)"
   ]
  },
  {
   "cell_type": "code",
   "execution_count": null,
   "id": "2ba442b0-d0fd-49af-a6a9-f6555a7dee89",
   "metadata": {},
   "outputs": [],
   "source": []
  }
 ],
 "metadata": {
  "kernelspec": {
   "display_name": "Python 3 (ipykernel)",
   "language": "python",
   "name": "python3"
  },
  "language_info": {
   "codemirror_mode": {
    "name": "ipython",
    "version": 3
   },
   "file_extension": ".py",
   "mimetype": "text/x-python",
   "name": "python",
   "nbconvert_exporter": "python",
   "pygments_lexer": "ipython3",
   "version": "3.12.3"
  }
 },
 "nbformat": 4,
 "nbformat_minor": 5
}
