{
 "cells": [
  {
   "cell_type": "markdown",
   "id": "3c9ce0eb-2fbc-4ea7-81d9-0f51c118c44f",
   "metadata": {},
   "source": [
    "## Feature Engineering Test Notebook\n",
    "\n",
    "This notebook is being used to prerun some feature engineering steps individually that I'm concerned might take too long to run. Not all feature engineering steps are in this notebook, and the cleaned_credit_card_fraud.parquet will not be directly editted in this notebook. Instead this notebook will run some specific features to see how long it takes to process. "
   ]
  },
  {
   "cell_type": "code",
   "execution_count": 47,
   "id": "a814c91b-661e-4cae-9719-6cc7ca05d948",
   "metadata": {},
   "outputs": [],
   "source": [
    "import pandas as pd\n",
    "import logging\n",
    "import wandb\n",
    "import os\n",
    "import wandb\n",
    "from geopy.geocoders import Nominatim\n",
    "from time import time, sleep \n",
    "from haversine import haversine, Unit\n",
    "import swifter"
   ]
  },
  {
   "cell_type": "code",
   "execution_count": 8,
   "id": "b34bfedb-9ccb-4608-bce8-3cb14f0608cb",
   "metadata": {},
   "outputs": [
    {
     "data": {
      "text/html": [
       "Finishing last run (ID:xujerm4s) before initializing another..."
      ],
      "text/plain": [
       "<IPython.core.display.HTML object>"
      ]
     },
     "metadata": {},
     "output_type": "display_data"
    },
    {
     "data": {
      "text/html": [
       " View run <strong style=\"color:#cdcd00\">valiant-paper-1</strong> at: <a href='https://wandb.ai/lhan122-student/Machine_Learning_Analysis_of_Bank_Fraud/runs/xujerm4s' target=\"_blank\">https://wandb.ai/lhan122-student/Machine_Learning_Analysis_of_Bank_Fraud/runs/xujerm4s</a><br/> View project at: <a href='https://wandb.ai/lhan122-student/Machine_Learning_Analysis_of_Bank_Fraud' target=\"_blank\">https://wandb.ai/lhan122-student/Machine_Learning_Analysis_of_Bank_Fraud</a><br/>Synced 4 W&B file(s), 0 media file(s), 3 artifact file(s) and 0 other file(s)"
      ],
      "text/plain": [
       "<IPython.core.display.HTML object>"
      ]
     },
     "metadata": {},
     "output_type": "display_data"
    },
    {
     "data": {
      "text/html": [
       "Find logs at: <code>.\\wandb\\run-20241209_111344-xujerm4s\\logs</code>"
      ],
      "text/plain": [
       "<IPython.core.display.HTML object>"
      ]
     },
     "metadata": {},
     "output_type": "display_data"
    },
    {
     "data": {
      "text/html": [
       "Successfully finished last run (ID:xujerm4s). Initializing new run:<br/>"
      ],
      "text/plain": [
       "<IPython.core.display.HTML object>"
      ]
     },
     "metadata": {},
     "output_type": "display_data"
    },
    {
     "data": {
      "text/html": [
       "Tracking run with wandb version 0.18.7"
      ],
      "text/plain": [
       "<IPython.core.display.HTML object>"
      ]
     },
     "metadata": {},
     "output_type": "display_data"
    },
    {
     "data": {
      "text/html": [
       "Run data is saved locally in <code>C:\\Users\\eelil\\OneDrive\\Desktop\\Capstone\\Machine_Learning_Analysis_of_Bank_Fraud\\wandb\\run-20241209_112734-cxoqj3p2</code>"
      ],
      "text/plain": [
       "<IPython.core.display.HTML object>"
      ]
     },
     "metadata": {},
     "output_type": "display_data"
    },
    {
     "data": {
      "text/html": [
       "Syncing run <strong><a href='https://wandb.ai/lhan122-student/Machine_Learning_Analysis_of_Bank_Fraud/runs/cxoqj3p2' target=\"_blank\">amber-feather-2</a></strong> to <a href='https://wandb.ai/lhan122-student/Machine_Learning_Analysis_of_Bank_Fraud' target=\"_blank\">Weights & Biases</a> (<a href='https://wandb.me/developer-guide' target=\"_blank\">docs</a>)<br/>"
      ],
      "text/plain": [
       "<IPython.core.display.HTML object>"
      ]
     },
     "metadata": {},
     "output_type": "display_data"
    },
    {
     "data": {
      "text/html": [
       " View project at <a href='https://wandb.ai/lhan122-student/Machine_Learning_Analysis_of_Bank_Fraud' target=\"_blank\">https://wandb.ai/lhan122-student/Machine_Learning_Analysis_of_Bank_Fraud</a>"
      ],
      "text/plain": [
       "<IPython.core.display.HTML object>"
      ]
     },
     "metadata": {},
     "output_type": "display_data"
    },
    {
     "data": {
      "text/html": [
       " View run at <a href='https://wandb.ai/lhan122-student/Machine_Learning_Analysis_of_Bank_Fraud/runs/cxoqj3p2' target=\"_blank\">https://wandb.ai/lhan122-student/Machine_Learning_Analysis_of_Bank_Fraud/runs/cxoqj3p2</a>"
      ],
      "text/plain": [
       "<IPython.core.display.HTML object>"
      ]
     },
     "metadata": {},
     "output_type": "display_data"
    },
    {
     "name": "stderr",
     "output_type": "stream",
     "text": [
      "wandb: Downloading large artifact cleaned_credit_card_data:latest, 85.55MB. 1 files... \n",
      "wandb:   1 of 1 files downloaded.  \n",
      "Done. 0:0:9.4\n"
     ]
    }
   ],
   "source": [
    "#loading cleaned dataset from WandB\n",
    "run = wandb.init()\n",
    "artifact = run.use_artifact('lhan122-student/credit_card_fraud/cleaned_credit_card_data:latest', type='dataset')\n",
    "artifact_dir = artifact.download()\n",
    "data/customer_locations.csv"
   ]
  },
  {
   "cell_type": "code",
   "execution_count": 31,
   "id": "d5020246-2d34-4f2d-bb3b-04baafac49cf",
   "metadata": {},
   "outputs": [],
   "source": [
    "## creating mapping for customer location \n",
    "cust_loc = df[['city', 'state']].drop_duplicates()"
   ]
  },
  {
   "cell_type": "code",
   "execution_count": 34,
   "id": "64d0b684-1f9c-4655-b2f8-fca8cab5f48d",
   "metadata": {},
   "outputs": [],
   "source": [
    "#getting lat and long values for city and state\n",
    "geolocator = Nominatim(user_agent=\"geoapi\")\n",
    "start_time = time()\n",
    "\n",
    "def get_lat_long(city, state):\n",
    "    try:\n",
    "        location = geolocator.geocode(f\"{city}, {state}\")\n",
    "        if location:\n",
    "            return location.latitude, location.longitude\n",
    "        else:\n",
    "            return None, None\n",
    "    except Exception as e:\n",
    "        logger.error(f\"Error fetching location for {city}, {state}: {e}\")\n",
    "        return None, None\n",
    "\n",
    "# apply geocoding \n",
    "cust_loc['lat_long'] = cust_loc.apply(lambda x: get_lat_long(x['city'], x['state']), axis=1)\n",
    "cust_loc[['cust_lat', 'cust_long']] = pd.DataFrame(cust_loc['lat_long'].tolist(), index=cust_loc.index)\n",
    "\n",
    "end_time = time()\n",
    "total_time = end_time - start_time\n",
    "print(total_time)"
   ]
  },
  {
   "cell_type": "code",
   "execution_count": 36,
   "id": "41d26b50-4afa-41f2-aecf-3ac2a29c40d8",
   "metadata": {},
   "outputs": [],
   "source": [
    "#saving this locally for future use, since it takes a while to run\n",
    "cust_loc.to_csv(\"customer_locations.csv\", index=False)"
   ]
  },
  {
   "cell_type": "code",
   "execution_count": 37,
   "id": "2ba442b0-d0fd-49af-a6a9-f6555a7dee89",
   "metadata": {},
   "outputs": [
    {
     "data": {
      "text/plain": [
       "<Artifact cust_loc_data>"
      ]
     },
     "execution_count": 37,
     "metadata": {},
     "output_type": "execute_result"
    }
   ],
   "source": [
    "#uploading it to WandB as well for record keeping\n",
    "cust_loc_file = 'cust_loc.parquet'\n",
    "df.to_parquet(cust_loc_file, index=False)\n",
    "\n",
    "artifact = wandb.Artifact(\n",
    "    name=\"cust_loc_data\",\n",
    "    type=\"dataset\",\n",
    "    description=\"Lat and Long values for customer's city and state.\",\n",
    ")\n",
    "artifact.add_file(cust_loc_file)\n",
    "run.log_artifact(artifact)"
   ]
  },
  {
   "cell_type": "code",
   "execution_count": 40,
   "id": "b0ac76c9-a63f-47f7-a258-566f8178d1bb",
   "metadata": {},
   "outputs": [
    {
     "name": "stdout",
     "output_type": "stream",
     "text": [
      "0.15567898750305176\n"
     ]
    }
   ],
   "source": [
    "#adding cust lat and long to df\n",
    "start_time = time()\n",
    "df = df.merge(cust_loc[['city', 'state', 'cust_lat', 'cust_long']], on=['city', 'state'], how='left')\n",
    "end_time = time()\n",
    "total_time = end_time - start_time\n",
    "print(total_time)"
   ]
  },
  {
   "cell_type": "code",
   "execution_count": 49,
   "id": "bc7b917f-68e0-42bb-9a8a-fb408880eda1",
   "metadata": {},
   "outputs": [
    {
     "data": {
      "application/vnd.jupyter.widget-view+json": {
       "model_id": "1e0a526f5aea41c29311bf24567a8ee3",
       "version_major": 2,
       "version_minor": 0
      },
      "text/plain": [
       "Pandas Apply:   0%|          | 0/1296675 [00:00<?, ?it/s]"
      ]
     },
     "metadata": {},
     "output_type": "display_data"
    },
    {
     "name": "stdout",
     "output_type": "stream",
     "text": [
      "9.180264472961426\n"
     ]
    }
   ],
   "source": [
    "#creating 'trans_distance' column\n",
    "start_time = time()\n",
    "\n",
    "df['trans_distance_km'] = df.swifter.apply(\n",
    "    lambda row: haversine(\n",
    "        (row['cust_lat'], row['cust_long']),\n",
    "        (row['lat'], row['long']),\n",
    "        unit=Unit.KILOMETERS\n",
    "    ),\n",
    "    axis=1\n",
    ")\n",
    "end_time = time()\n",
    "total_time = end_time - start_time\n",
    "print(total_time)\n"
   ]
  },
  {
   "cell_type": "code",
   "execution_count": 50,
   "id": "2d889bbc-4054-46c8-af47-aa05fa1583e1",
   "metadata": {},
   "outputs": [
    {
     "data": {
      "text/html": [
       "<div>\n",
       "<style scoped>\n",
       "    .dataframe tbody tr th:only-of-type {\n",
       "        vertical-align: middle;\n",
       "    }\n",
       "\n",
       "    .dataframe tbody tr th {\n",
       "        vertical-align: top;\n",
       "    }\n",
       "\n",
       "    .dataframe thead th {\n",
       "        text-align: right;\n",
       "    }\n",
       "</style>\n",
       "<table border=\"1\" class=\"dataframe\">\n",
       "  <thead>\n",
       "    <tr style=\"text-align: right;\">\n",
       "      <th></th>\n",
       "      <th>trans_dt</th>\n",
       "      <th>cc_num</th>\n",
       "      <th>merchant</th>\n",
       "      <th>category</th>\n",
       "      <th>amt</th>\n",
       "      <th>city</th>\n",
       "      <th>state</th>\n",
       "      <th>lat</th>\n",
       "      <th>long</th>\n",
       "      <th>job</th>\n",
       "      <th>dob</th>\n",
       "      <th>trans_num</th>\n",
       "      <th>merch_lat</th>\n",
       "      <th>merch_long</th>\n",
       "      <th>is_fraud</th>\n",
       "      <th>trans_type</th>\n",
       "      <th>cust_lat</th>\n",
       "      <th>cust_long</th>\n",
       "      <th>trans_distance_km</th>\n",
       "    </tr>\n",
       "  </thead>\n",
       "  <tbody>\n",
       "    <tr>\n",
       "      <th>0</th>\n",
       "      <td>2019-01-01 00:00:18</td>\n",
       "      <td>2703186189652095</td>\n",
       "      <td>fraud_Rippin, Kub and Mann</td>\n",
       "      <td>misc_net</td>\n",
       "      <td>4.97</td>\n",
       "      <td>Moravian Falls</td>\n",
       "      <td>NC</td>\n",
       "      <td>36.0788</td>\n",
       "      <td>-81.1781</td>\n",
       "      <td>Psychologist, counselling</td>\n",
       "      <td>1988-03-09</td>\n",
       "      <td>0b242abb623afc578575680df30655b9</td>\n",
       "      <td>36.011293</td>\n",
       "      <td>-82.048315</td>\n",
       "      <td>0</td>\n",
       "      <td>1</td>\n",
       "      <td>36.102687</td>\n",
       "      <td>-81.181582</td>\n",
       "      <td>2.674430</td>\n",
       "    </tr>\n",
       "    <tr>\n",
       "      <th>1</th>\n",
       "      <td>2019-01-01 00:00:44</td>\n",
       "      <td>630423337322</td>\n",
       "      <td>fraud_Heller, Gutmann and Zieme</td>\n",
       "      <td>grocery_pos</td>\n",
       "      <td>107.23</td>\n",
       "      <td>Orient</td>\n",
       "      <td>WA</td>\n",
       "      <td>48.8878</td>\n",
       "      <td>-118.2105</td>\n",
       "      <td>Special educational needs teacher</td>\n",
       "      <td>1978-06-21</td>\n",
       "      <td>1f76529f8574734946361c461b024d99</td>\n",
       "      <td>49.159047</td>\n",
       "      <td>-118.186462</td>\n",
       "      <td>0</td>\n",
       "      <td>2</td>\n",
       "      <td>48.866014</td>\n",
       "      <td>-118.202781</td>\n",
       "      <td>2.487368</td>\n",
       "    </tr>\n",
       "    <tr>\n",
       "      <th>2</th>\n",
       "      <td>2019-01-01 00:00:51</td>\n",
       "      <td>38859492057661</td>\n",
       "      <td>fraud_Lind-Buckridge</td>\n",
       "      <td>entertainment</td>\n",
       "      <td>220.11</td>\n",
       "      <td>Malad City</td>\n",
       "      <td>ID</td>\n",
       "      <td>42.1808</td>\n",
       "      <td>-112.2620</td>\n",
       "      <td>Nature conservation officer</td>\n",
       "      <td>1962-01-19</td>\n",
       "      <td>a1a22d70485983eac12b5b88dad1cf95</td>\n",
       "      <td>43.150704</td>\n",
       "      <td>-112.154481</td>\n",
       "      <td>0</td>\n",
       "      <td>0</td>\n",
       "      <td>42.191587</td>\n",
       "      <td>-112.250798</td>\n",
       "      <td>1.513474</td>\n",
       "    </tr>\n",
       "    <tr>\n",
       "      <th>3</th>\n",
       "      <td>2019-01-01 00:01:16</td>\n",
       "      <td>3534093764340240</td>\n",
       "      <td>fraud_Kutch, Hermiston and Farrell</td>\n",
       "      <td>gas_transport</td>\n",
       "      <td>45.00</td>\n",
       "      <td>Boulder</td>\n",
       "      <td>MT</td>\n",
       "      <td>46.2306</td>\n",
       "      <td>-112.1138</td>\n",
       "      <td>Patent attorney</td>\n",
       "      <td>1967-01-12</td>\n",
       "      <td>6b849c168bdad6f867558c3793159a81</td>\n",
       "      <td>47.034331</td>\n",
       "      <td>-112.561071</td>\n",
       "      <td>0</td>\n",
       "      <td>2</td>\n",
       "      <td>46.236595</td>\n",
       "      <td>-112.120834</td>\n",
       "      <td>0.858536</td>\n",
       "    </tr>\n",
       "    <tr>\n",
       "      <th>4</th>\n",
       "      <td>2019-01-01 00:03:06</td>\n",
       "      <td>375534208663984</td>\n",
       "      <td>fraud_Keeling-Crist</td>\n",
       "      <td>misc_pos</td>\n",
       "      <td>41.96</td>\n",
       "      <td>Doe Hill</td>\n",
       "      <td>VA</td>\n",
       "      <td>38.4207</td>\n",
       "      <td>-79.4629</td>\n",
       "      <td>Dance movement psychotherapist</td>\n",
       "      <td>1986-03-28</td>\n",
       "      <td>a41d7549acf90789359a9aa5346dcb46</td>\n",
       "      <td>38.674999</td>\n",
       "      <td>-78.632459</td>\n",
       "      <td>0</td>\n",
       "      <td>2</td>\n",
       "      <td>38.432066</td>\n",
       "      <td>-79.444488</td>\n",
       "      <td>2.041971</td>\n",
       "    </tr>\n",
       "  </tbody>\n",
       "</table>\n",
       "</div>"
      ],
      "text/plain": [
       "             trans_dt            cc_num                            merchant  \\\n",
       "0 2019-01-01 00:00:18  2703186189652095          fraud_Rippin, Kub and Mann   \n",
       "1 2019-01-01 00:00:44      630423337322     fraud_Heller, Gutmann and Zieme   \n",
       "2 2019-01-01 00:00:51    38859492057661                fraud_Lind-Buckridge   \n",
       "3 2019-01-01 00:01:16  3534093764340240  fraud_Kutch, Hermiston and Farrell   \n",
       "4 2019-01-01 00:03:06   375534208663984                 fraud_Keeling-Crist   \n",
       "\n",
       "        category     amt            city state      lat      long  \\\n",
       "0       misc_net    4.97  Moravian Falls    NC  36.0788  -81.1781   \n",
       "1    grocery_pos  107.23          Orient    WA  48.8878 -118.2105   \n",
       "2  entertainment  220.11      Malad City    ID  42.1808 -112.2620   \n",
       "3  gas_transport   45.00         Boulder    MT  46.2306 -112.1138   \n",
       "4       misc_pos   41.96        Doe Hill    VA  38.4207  -79.4629   \n",
       "\n",
       "                                 job        dob  \\\n",
       "0          Psychologist, counselling 1988-03-09   \n",
       "1  Special educational needs teacher 1978-06-21   \n",
       "2        Nature conservation officer 1962-01-19   \n",
       "3                    Patent attorney 1967-01-12   \n",
       "4     Dance movement psychotherapist 1986-03-28   \n",
       "\n",
       "                          trans_num  merch_lat  merch_long  is_fraud  \\\n",
       "0  0b242abb623afc578575680df30655b9  36.011293  -82.048315         0   \n",
       "1  1f76529f8574734946361c461b024d99  49.159047 -118.186462         0   \n",
       "2  a1a22d70485983eac12b5b88dad1cf95  43.150704 -112.154481         0   \n",
       "3  6b849c168bdad6f867558c3793159a81  47.034331 -112.561071         0   \n",
       "4  a41d7549acf90789359a9aa5346dcb46  38.674999  -78.632459         0   \n",
       "\n",
       "  trans_type   cust_lat   cust_long  trans_distance_km  \n",
       "0          1  36.102687  -81.181582           2.674430  \n",
       "1          2  48.866014 -118.202781           2.487368  \n",
       "2          0  42.191587 -112.250798           1.513474  \n",
       "3          2  46.236595 -112.120834           0.858536  \n",
       "4          2  38.432066  -79.444488           2.041971  "
      ]
     },
     "execution_count": 50,
     "metadata": {},
     "output_type": "execute_result"
    }
   ],
   "source": [
    "df.head()"
   ]
  },
  {
   "cell_type": "code",
   "execution_count": null,
   "id": "09b3721b-9a9e-418e-821d-8d08a2c4c997",
   "metadata": {},
   "outputs": [],
   "source": [
    "#calculating location match"
   ]
  },
  {
   "cell_type": "code",
   "execution_count": 51,
   "id": "55547b01-b65f-428a-9d77-447d5a8176a7",
   "metadata": {},
   "outputs": [
    {
     "data": {
      "text/html": [
       " View run <strong style=\"color:#cdcd00\">amber-feather-2</strong> at: <a href='https://wandb.ai/lhan122-student/Machine_Learning_Analysis_of_Bank_Fraud/runs/cxoqj3p2' target=\"_blank\">https://wandb.ai/lhan122-student/Machine_Learning_Analysis_of_Bank_Fraud/runs/cxoqj3p2</a><br/> View project at: <a href='https://wandb.ai/lhan122-student/Machine_Learning_Analysis_of_Bank_Fraud' target=\"_blank\">https://wandb.ai/lhan122-student/Machine_Learning_Analysis_of_Bank_Fraud</a><br/>Synced 5 W&B file(s), 0 media file(s), 2 artifact file(s) and 0 other file(s)"
      ],
      "text/plain": [
       "<IPython.core.display.HTML object>"
      ]
     },
     "metadata": {},
     "output_type": "display_data"
    },
    {
     "data": {
      "text/html": [
       "Find logs at: <code>.\\wandb\\run-20241209_112734-cxoqj3p2\\logs</code>"
      ],
      "text/plain": [
       "<IPython.core.display.HTML object>"
      ]
     },
     "metadata": {},
     "output_type": "display_data"
    }
   ],
   "source": [
    "run.finish()"
   ]
  },
  {
   "cell_type": "code",
   "execution_count": null,
   "id": "c6ea06d0-3775-4052-881e-bf3f3d26062f",
   "metadata": {},
   "outputs": [],
   "source": []
  }
 ],
 "metadata": {
  "kernelspec": {
   "display_name": "Python 3 (ipykernel)",
   "language": "python",
   "name": "python3"
  },
  "language_info": {
   "codemirror_mode": {
    "name": "ipython",
    "version": 3
   },
   "file_extension": ".py",
   "mimetype": "text/x-python",
   "name": "python",
   "nbconvert_exporter": "python",
   "pygments_lexer": "ipython3",
   "version": "3.12.3"
  }
 },
 "nbformat": 4,
 "nbformat_minor": 5
}
