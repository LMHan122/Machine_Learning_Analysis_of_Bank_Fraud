{
 "cells": [
  {
   "cell_type": "code",
   "execution_count": null,
   "id": "1487945f-da11-4759-8588-b1ef71be31de",
   "metadata": {},
   "outputs": [],
   "source": [
    "#adding libraries\n",
    "import numpy as np\n",
    "import pandas as pd"
   ]
  },
  {
   "cell_type": "code",
   "execution_count": null,
   "id": "97bcbbf6-14df-4b8f-9f40-8807a40436df",
   "metadata": {},
   "outputs": [],
   "source": [
    "###FIXME: COLUMNS TO DROP\n",
    "\n",
    "#unnamed column\n",
    "df.drop(df.columns[df.columns.str.contains(\n",
    "    'unnamed', case=False)], axis=1, inplace=True)\n",
    "\n",
    "drop_columns = ['first', 'last', 'gender', 'street', 'zip', 'merch_zipcode', 'unix_time']"
   ]
  },
  {
   "cell_type": "code",
   "execution_count": null,
   "id": "a5b27230-e7e8-42ba-a76a-ce6214531e08",
   "metadata": {},
   "outputs": [],
   "source": [
    "###FIXME: DROPING DUPLICATES\n",
    "df.drop_duplicates(inplace=True)"
   ]
  },
  {
   "cell_type": "code",
   "execution_count": null,
   "id": "48871ba2-a9ac-489b-9e99-837de6a07704",
   "metadata": {},
   "outputs": [],
   "source": [
    "###FIXME: CHANGING DATA TYPES\n",
    "datatime_col = ['trans_data_trans_time', 'dob']\n",
    "category col = ['merchant', 'category', 'city', 'state', 'job', 'is_fraud']"
   ]
  },
  {
   "cell_type": "code",
   "execution_count": null,
   "id": "68016119-10ba-433b-8ed8-00fba6f84b28",
   "metadata": {},
   "outputs": [],
   "source": [
    "###FIXME: COLUMNS I'M KEEPING (at least for now)\n",
    "col_labels =['trans_num', 'trans_data_trans_time',   #transaction tracking\n",
    "             'cc_num', 'dob', 'city', 'state', 'job', #customer details\n",
    "             'lat', 'long', 'category', 'is_fraud', 'amt', #transaction details\n",
    "             'city_pop', #geographic description of trans location \n",
    "             'merchant', 'merch_lat', 'merch_long'] #merchant details"
   ]
  },
  {
   "cell_type": "code",
   "execution_count": null,
   "id": "324fb245-c9e0-4dfd-9e0c-2788bfb90ac1",
   "metadata": {},
   "outputs": [],
   "source": [
    "###FIXME: CHANGING DATATYPES\n",
    "\n",
    "#DATETIME\n",
    "df['trans_date_trans_time'] = pd.to_datetime(df['trans_date_trans_time'])\n",
    "df['dob'] = pd.to_datetime(df['dob'])\n",
    "\n",
    "#CATEGORY\n",
    "df[['category', 'merchant', 'job', 'is_fraud', 'state', 'city']] = \n",
    "    df[['category', 'merchant', 'job', 'is_fraud', 'state', 'city']].astype('category')\n",
    "\n"
   ]
  },
  {
   "cell_type": "code",
   "execution_count": 1,
   "id": "a450a0b8-ac7e-41f9-b73a-aac3fb055f08",
   "metadata": {},
   "outputs": [
    {
     "ename": "IndentationError",
     "evalue": "unexpected indent (3902920879.py, line 2)",
     "output_type": "error",
     "traceback": [
      "\u001b[1;36m  Cell \u001b[1;32mIn[1], line 2\u001b[1;36m\u001b[0m\n\u001b[1;33m    'city', 'state', 'lat', 'long', 'city_pop', 'job', 'dob', 'trans_num',\u001b[0m\n\u001b[1;37m    ^\u001b[0m\n\u001b[1;31mIndentationError\u001b[0m\u001b[1;31m:\u001b[0m unexpected indent\n"
     ]
    }
   ],
   "source": [
    "###MY SHORTHAND \n",
    "'trans_date_trans_time', \n",
    "'cc_num', \n",
    "'merchant', \n",
    "'city_pop', \n",
    "'job', \n",
    "'dob', \n",
    "\n",
    "'city', \n",
    "'state', "
   ]
  },
  {
   "cell_type": "code",
   "execution_count": null,
   "id": "d165d90a-8879-4467-8b8d-8733223d9631",
   "metadata": {},
   "outputs": [],
   "source": [
    "### FIXME: NEW COLUMN STAGING\n",
    "\n",
    "\n",
    "online - 'shopping_net', 'misc_net', 'grocery_net'\n",
    "in person - 'gas_transport', 'grocery_pos', 'shopping_pos', 'misc_pos', 'misc_pos', \n",
    "unknown - 'home', 'kids_pets', 'entertainment', 'food_dining', 'personal_care', 'health_fitness', 'travel'"
   ]
  },
  {
   "cell_type": "code",
   "execution_count": null,
   "id": "30d3183c-806f-4056-bba5-04d0171bbc91",
   "metadata": {},
   "outputs": [],
   "source": [
    "#FIXME MORE COLUMN STAGING\n",
    "'transaction_type' : Online/In-Person/Mixed Indicator\n",
    "'transaction_distance': The distance between transaction long/lat and user's cords\n",
    "'merch_distance': The distance between the merchant's lat/lon and the user's city/state\n",
    "'location_match': A categorical column indicating whether the transactio location matches the user's city/state"
   ]
  },
  {
   "cell_type": "code",
   "execution_count": null,
   "id": "170a2e10-1190-4360-a29e-a8b69cb25ac6",
   "metadata": {},
   "outputs": [],
   "source": [
    "### New Column Ideas\n",
    "**Online/In-Person/Mixed Indicator**\n",
    "- Name: \"transaction_type\"\n",
    "- Type: Category\n",
    "- Values: 0: Unknown/Mixed, 1: Online, 2: In-Person\n",
    "###NOTES ABOUT LAT AND LONG - THEY HAVE LOW NUMBER OF UNIQUE VALUES###\n",
    "**Distance From Transaction to Card Holder**\n",
    "- Distance between the transaction's latitude/longitude and the user's city/state coordinates\n",
    "- Name: \"transactional_distance\"\n",
    "- Type: Float\n",
    "\n",
    "**Merchant Distance**\n",
    "- Distance between the merchant's latitude/longitude (merch_long, merch_lat) and the user's city/state.\n",
    "- Name: \"merch_distance\"\n",
    "- Type: Float\n",
    "\n",
    "**Location Match Indicator**\n",
    "- Indicates whether the transaction location matches the user's city/state.\n",
    "- Name: \"location_match\"\n",
    "- Type: Category\n",
    "- Values: 1: Matches, 0: Does not match\n",
    "\n",
    "Processing resources and time will determine if columns are added. This will be researched further during feature creation. "
   ]
  },
  {
   "cell_type": "code",
   "execution_count": null,
   "id": "4675310c-1354-4bfb-b64f-86840c0d6834",
   "metadata": {},
   "outputs": [],
   "source": []
  },
  {
   "cell_type": "code",
   "execution_count": null,
   "id": "ec38806c-7ab1-435f-9369-801609245a3f",
   "metadata": {},
   "outputs": [],
   "source": []
  },
  {
   "cell_type": "code",
   "execution_count": null,
   "id": "e3d2ce94-8512-4d65-ba1b-18a321ce853a",
   "metadata": {},
   "outputs": [],
   "source": []
  }
 ],
 "metadata": {
  "kernelspec": {
   "display_name": "Python 3 (ipykernel)",
   "language": "python",
   "name": "python3"
  },
  "language_info": {
   "codemirror_mode": {
    "name": "ipython",
    "version": 3
   },
   "file_extension": ".py",
   "mimetype": "text/x-python",
   "name": "python",
   "nbconvert_exporter": "python",
   "pygments_lexer": "ipython3",
   "version": "3.12.3"
  }
 },
 "nbformat": 4,
 "nbformat_minor": 5
}
