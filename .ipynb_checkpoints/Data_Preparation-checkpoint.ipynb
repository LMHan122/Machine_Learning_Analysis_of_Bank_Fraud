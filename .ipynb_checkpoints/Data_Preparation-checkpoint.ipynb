{
 "cells": [
  {
   "cell_type": "code",
   "execution_count": null,
   "id": "1487945f-da11-4759-8588-b1ef71be31de",
   "metadata": {},
   "outputs": [],
   "source": [
    "#adding libraries\n",
    "import numpy as np\n",
    "import pandas as pd"
   ]
  },
  {
   "cell_type": "code",
   "execution_count": null,
   "id": "b65f2741-4f75-4444-bc5e-6da9ccd0982c",
   "metadata": {},
   "outputs": [],
   "source": [
    "'''\n",
    "Need to rename 'trans_date_trans_time' - but MUST REMEMBER TO INPUT THE NEW COLUMN NAME -\n",
    "OLD NOTES HAVE THE OLD COLUMN NAME - new name is 'trans_dt'\n",
    "'''"
   ]
  },
  {
   "cell_type": "code",
   "execution_count": null,
   "id": "97bcbbf6-14df-4b8f-9f40-8807a40436df",
   "metadata": {},
   "outputs": [],
   "source": [
    "###FIXME: COLUMNS TO DROP\n",
    "\n",
    "#unnamed column\n",
    "df.drop(df.columns[df.columns.str.contains(\n",
    "    'unnamed', case=False)], axis=1, inplace=True)\n",
    "\n",
    "drop_columns = ['first', 'last', 'gender', 'street', 'zip', 'merch_zipcode', 'unix_time', 'city_pop']"
   ]
  },
  {
   "cell_type": "code",
   "execution_count": null,
   "id": "a5b27230-e7e8-42ba-a76a-ce6214531e08",
   "metadata": {},
   "outputs": [],
   "source": [
    "###FIXME: DROPING DUPLICATES\n",
    "df.drop_duplicates(inplace=True)"
   ]
  },
  {
   "cell_type": "code",
   "execution_count": null,
   "id": "48871ba2-a9ac-489b-9e99-837de6a07704",
   "metadata": {},
   "outputs": [],
   "source": [
    "###FIXME: CHANGING DATA TYPES\n",
    "datatime_col = ['trans_data_trans_time', 'dob']\n",
    "category col = ['merchant', 'category', 'city', 'state', 'job', 'is_fraud']"
   ]
  },
  {
   "cell_type": "code",
   "execution_count": null,
   "id": "68016119-10ba-433b-8ed8-00fba6f84b28",
   "metadata": {},
   "outputs": [],
   "source": [
    "###FIXME: COLUMNS I'M KEEPING (at least for now)\n",
    "col_labels =['trans_num', 'trans_data_trans_time',   #transaction tracking\n",
    "             'cc_num', 'dob', 'city', 'state', 'job', #customer details\n",
    "             'lat', 'long', 'category', 'is_fraud', 'amt', #transaction details\n",
    "             'city_pop', #geographic description of trans location \n",
    "             'merchant', 'merch_lat', 'merch_long'] #merchant details"
   ]
  },
  {
   "cell_type": "code",
   "execution_count": null,
   "id": "324fb245-c9e0-4dfd-9e0c-2788bfb90ac1",
   "metadata": {},
   "outputs": [],
   "source": [
    "###FIXME: CHANGING DATATYPES\n",
    "\n",
    "#DATETIME\n",
    "df['trans_date_trans_time'] = pd.to_datetime(df['trans_date_trans_time'])\n",
    "df['dob'] = pd.to_datetime(df['dob'])\n",
    "\n",
    "#CATEGORY\n",
    "df[['category', 'merchant', 'job', 'is_fraud', 'state', 'city']] = \n",
    "    df[['category', 'merchant', 'job', 'is_fraud', 'state', 'city']].astype('category')\n",
    "\n"
   ]
  },
  {
   "cell_type": "code",
   "execution_count": 1,
   "id": "a450a0b8-ac7e-41f9-b73a-aac3fb055f08",
   "metadata": {},
   "outputs": [
    {
     "ename": "IndentationError",
     "evalue": "unexpected indent (3902920879.py, line 2)",
     "output_type": "error",
     "traceback": [
      "\u001b[1;36m  Cell \u001b[1;32mIn[1], line 2\u001b[1;36m\u001b[0m\n\u001b[1;33m    'city', 'state', 'lat', 'long', 'city_pop', 'job', 'dob', 'trans_num',\u001b[0m\n\u001b[1;37m    ^\u001b[0m\n\u001b[1;31mIndentationError\u001b[0m\u001b[1;31m:\u001b[0m unexpected indent\n"
     ]
    }
   ],
   "source": [
    "cc_counts = df.groupby('cc_num', observed=True).size()\n",
    "sorted_cc = cc_counts.sort_values()\n",
    "#plotting the number of transactions for low to high to see\n",
    "#if there are typical transaction rates\n",
    "plt.figure(figsize=(12,10))\n",
    "plt.bar(range(len(sorted_cc)), sorted_cc)\n",
    "plt.xlabel('CC Account')\n",
    "plt.ylabel('Number of Transactions')\n",
    "plt.title('Number of Transactions for Each Account', fontsize=16)\n",
    "\n",
    "plt.show()\n",
    "\n"
   ]
  },
  {
   "cell_type": "code",
   "execution_count": null,
   "id": "d165d90a-8879-4467-8b8d-8733223d9631",
   "metadata": {},
   "outputs": [],
   "source": [
    "### FIXME: NEW COLUMN STAGING\n",
    "\n",
    "\n",
    "online - 'shopping_net', 'misc_net', 'grocery_net'\n",
    "in person - 'gas_transport', 'grocery_pos', 'shopping_pos', 'misc_pos', 'misc_pos', \n",
    "unknown - 'home', 'kids_pets', 'entertainment', 'food_dining', 'personal_care', 'health_fitness', 'travel'"
   ]
  },
  {
   "cell_type": "code",
   "execution_count": null,
   "id": "30d3183c-806f-4056-bba5-04d0171bbc91",
   "metadata": {},
   "outputs": [],
   "source": [
    "#FIXME MORE COLUMN STAGING\n",
    "'transaction_type' : Online/In-Person/Mixed Indicator\n",
    "'transaction_distance': The distance between transaction long/lat and user's cords\n",
    "'merch_distance': The distance between the merchant's lat/lon and the user's city/state\n",
    "'location_match': A categorical column indicating whether the transactio location matches the user's city/state"
   ]
  },
  {
   "cell_type": "markdown",
   "id": "718394e8-38c9-4e90-a4af-31287bc77f21",
   "metadata": {},
   "source": [
    "### New Column Ideas\n",
    "**Online/In-Person/Mixed Indicator**\n",
    "- Name: \"transaction_type\"\n",
    "- Type: Category\n",
    "- Values: 0: Unknown/Mixed, 1: Online, 2: In-Person\n",
    "- \n",
    "###NOTES ABOUT LAT AND LONG - THEY HAVE LOW NUMBER OF UNIQUE VALUES###\n",
    "\n",
    "**Distance From Transaction to Card Holder**\n",
    "- Distance between the transaction's latitude/longitude and the user's city/state coordinates\n",
    "- Name: \"transactional_distance\"\n",
    "- Type: Float\n",
    "\n",
    "**Merchant Distance**\n",
    "- Distance between the merchant's latitude/longitude (merch_long, merch_lat) and the user's city/state.\n",
    "- Name: \"merch_distance\"\n",
    "- Type: Float\n",
    "\n",
    "**Location Match Indicator**\n",
    "- Indicates whether the transaction location matches the user's city/state.\n",
    "- Name: \"location_match\"\n",
    "- Type: Category\n",
    "- Values: 1: Matches, 0: Does not match\n",
    "\n",
    "Processing resources and time will determine if columns are added. This will be researched further during feature creation. "
   ]
  },
  {
   "cell_type": "code",
   "execution_count": null,
   "id": "4675310c-1354-4bfb-b64f-86840c0d6834",
   "metadata": {},
   "outputs": [],
   "source": [
    "### New Column Ideas\n",
    "**Latitude and Longitude for Customer's City**\n",
    "- Name: 'cust_lat' & 'cust_long'\n",
    "- Type: Float\n",
    "\n",
    "Create two new columns, which will be populated based on the 'city' and 'state' pair vaules. Once created, the 'city' column can be dropped to prevent false patterns. "
   ]
  },
  {
   "cell_type": "code",
   "execution_count": null,
   "id": "ec38806c-7ab1-435f-9369-801609245a3f",
   "metadata": {},
   "outputs": [],
   "source": [
    "New Column Ideas¶\n",
    "Separate fields for Date, Year, Month, Day\n",
    "\n",
    "Name: 'date', 'year', 'month', 'day'\n",
    "Type: Various\n",
    "To analyze specific transaction patterns by specific date and time components.\n",
    "Week & Quarter\n",
    "\n",
    "Name: 'week' & 'quarter'\n",
    "Type: Category\n",
    "To analyze seasonal patterns and time-related outliers.\n",
    "Running Transaction Averages and Counts\n",
    "\n",
    "Name: 'trans_by_last_hr', 'hourly_trans_avg','trans_by_last_day', 'daily_trans_avg', 'amt_last_hour', 'amt_last_day', 'avg_hr_amt', 'avg_daily_amt'\n",
    "Type: Float\n",
    "To track spending patterns for individual customers, enabling the detection of unusual spikes in transaction frequency or amount."
   ]
  },
  {
   "cell_type": "code",
   "execution_count": null,
   "id": "e3d2ce94-8512-4d65-ba1b-18a321ce853a",
   "metadata": {},
   "outputs": [],
   "source": []
  },
  {
   "cell_type": "code",
   "execution_count": null,
   "id": "679cc049-45ee-4229-8076-13b585f263dc",
   "metadata": {},
   "outputs": [],
   "source": []
  },
  {
   "cell_type": "markdown",
   "id": "d0f04744-2bb0-4f3e-b28f-a8696a301841",
   "metadata": {},
   "source": [
    "Columns to be renamed - 'trans_date_trans_time' to 'trans_dt'\n",
    "\n",
    "Columns that will be dropped before feature creation- 'unnamed', 'first', 'last', 'gender', 'street', 'zip', 'merch_zipcode', 'unix_time'\n",
    "\n",
    "- no duplicates found\n",
    "\n",
    "###Data Type Changes\n",
    "- datetime - 'trans_dt', 'dob'\n",
    "- category 'merchant', 'category', 'city', 'state', 'job', 'is_fraud'\n",
    "\n",
    "###Potential New Features:\n",
    "'transaction_type', 'merch_distance', 'location_match',  'cust_lat', 'cust_long', 'date', 'year', 'month', 'day', 'week' & 'quarter', 'trans_by_last_hr', 'hourly_trans_avg','trans_by_last_day', 'daily_trans_avg', 'amt_last_hour', 'amt_last_day', 'avg_hr_amt', 'avg_daily_amt'\n",
    "\n",
    "Columns that will not be changed - 'is_fraud', 'amt', 'cc_num', 'lat', 'long', 'merch_lat', 'merch_long', 'state'\n",
    "\n",
    "Columns to be dropped after being used to make new features: 'city', "
   ]
  },
  {
   "cell_type": "markdown",
   "id": "01b24867-8f0b-4405-8207-c540f2641a40",
   "metadata": {},
   "source": [
    "Summaries from the column analysis:\n",
    "\n",
    "\n",
    "- **Less than 1% of the transactions are fraudulent.** **While it makes up over 4% of the transaction amount.** The 'is_fraud' column does not be adjusted.\n",
    "- For the amt column - Min Transactional Amount $1.00 and Max Transactional Amount $28,948.90, This plot highlights a relatively large number of outliers at the higher end of the transaction amounts. No issues requiring changes to the 'amt' column were identified at this stage.\n",
    "- The 'category' column contains 14 unique values representing transaction types. Based on the names:\n",
    "\n",
    "1. **Online Transactions:** Categories such as 'shopping_net', 'misc_net', and 'grocery_net' include 'net', likely indicating online transactions.\n",
    "2. **In-Person Transactions:** Categories such as 'grocery_pos', 'shopping_pos', 'misc_pos', and 'gas_transport' include 'pos' or are typical in-person transactions (e.g., gas purchases).\n",
    "3. **Unknown or Mixed:** Categories like 'home', 'kids_pets', 'entertainment', 'food_dining', 'personal_care', 'health_fitness', and 'travel' lack clear indicators and could represent either online or in-person transactions.\n",
    "\n",
    "Additional research on Kaggle yielded no further details about the column's interpretation. This column will not be adjusted further, but ideas have been generated for potential new columns to be added during preprocessing.\n",
    "\n",
    "### New Column Ideas\n",
    "**Online/In-Person/Mixed Indicator**\n",
    "- Name: 'transaction_type'\n",
    "- Type: Category\n",
    "- Values: 0: Unknown/Mixed, 1: Online, 2: In-Person\n",
    "\n",
    "**Distance From Transaction to Card Holder**\n",
    "- Distance between the transaction's latitude/longitude and the user's city/state coordinates\n",
    "- Name: 'transactional_distance'\n",
    "- Type: Float\n",
    "\n",
    "**Merchant Distance**\n",
    "- Distance between the merchant's latitude/longitude (merch_long, merch_lat) and the user's city/state.\n",
    "- Name: 'merch_distance'\n",
    "- Type: Float\n",
    "\n",
    "**Location Match Indicator**\n",
    "- Indicates whether the transaction location matches the user's city/state.\n",
    "- Name: 'location_match'\n",
    "- Type: Category\n",
    "- Values: 0: Does not match, 1: Matches \n",
    "\n",
    "Processing resources and time will determine if columns are added. This will be researched further during feature creation. \n",
    "\n"
   ]
  },
  {
   "cell_type": "markdown",
   "id": "5c46d499-663c-415b-9347-b7cc29304feb",
   "metadata": {},
   "source": [
    "Location Columns - 'lat', 'long', 'merch_lat', 'merch_long', 'city', 'state'\n",
    "Smallest value lat = 20.0271\n",
    "Largest value lat = 66.6933\n",
    "Smallest value long = -165.6723\n",
    "Largest value long = -67.9503\n",
    "Smallest value merch_lat = 19.027785\n",
    "Largest value merch_lat = 67.510267\n",
    "Smallest value merch_long = -166.671242\n",
    "Largest value merch_long = -66.950902\n",
    "\n",
    "unique values:\n",
    "lat               968\n",
    "long              969\n",
    "merch_lat     1247805\n",
    "merch_long    1275745\n",
    "dtype: int64\n",
    "\n",
    "The data appears to have been anonymized or artificially generated, as indicated by the square clustering observed on the Merchant Locations map and the relatively low number of unique values in the 'lat' and 'long' columns. No adjustments will be made to these columns\n",
    "\n",
    "- The 'state' column has 50 US states and DC for Washington DC.\n",
    "- The 'city' column has 894 unique values.\n",
    "- There are 928 unique value pairs representing customer locations, so some cities share names, which might look like a false pattern. \n",
    "- There are 983 unique customer credit card numbers, so some cities have multiple customers.\n",
    "\n",
    "#### New Column Ideas\n",
    "**Latitude and Longitude for Customer's City**\n",
    "- Name: 'cust_lat' & 'cust_long'\n",
    "- Type: Float\n",
    "\n",
    "Create two new columns, which will be populated based on the 'city' and 'state' pair vaules. Once created, the 'city' column can be dropped to prevent false patterns. No further changes will be made to the 'state' column. \n",
    "\n",
    "ranges of transactions \n",
    "(Timestamp('2019-01-01 00:00:18'), Timestamp('2020-06-21 12:13:37'))\n",
    "\n"
   ]
  },
  {
   "cell_type": "markdown",
   "id": "92079004-d91b-454c-8e12-5ca25e0bca8a",
   "metadata": {},
   "source": [
    "This dataset has records for 983 customer, and number of transactions a single customer makes ranges from 7 to 3,123.\n",
    "\n",
    "The 'cc_num' column reveals that transaction frequencies tend to cluster together. No changes will be made to the 'cc_num' column, as it is needed for identifying individual customers. Plans to use this column for creating new features, such as transaction patterns and spending behaviors, have already been outlined.\n",
    "\n",
    "\n"
   ]
  },
  {
   "cell_type": "markdown",
   "id": "ef5534ae-6706-4627-ad7e-58ae7f6827d6",
   "metadata": {},
   "source": [
    "- 693 merchants, The range of transaction frequency by merchant range from 727 to 4403.\n",
    "- This plot shows that merchant transaction amounts can vary significantly from one merchant to the next, as does the number of transactions per merchant. This column will not be adjusted at this time.\n",
    "\n",
    "\n",
    "city_pop\n",
    "- There are 879 unique city population values but 928 unique customer locations, so some cities have the same population value.\n",
    "- The city_pop column displays a wide variation, with values ranging from 23 to 2,906,700. Concerned about potential inaccuracies, I conducted further investigation. A cursory search for Notrees, Texas, found its population to be approximately 20 in 2009, aligning closely with the dataset. However, another search for West Bethel, ME, revealed a significant discrepancy, as its population was 2,504 according to [Wikipedia](https://en.wikipedia.org/wiki/Bethel,_Maine). Similar inconsistencies were found for other cities. Given the unreliable nature of the city_pop data, I have decided to drop this column from the analysis."
   ]
  },
  {
   "cell_type": "markdown",
   "id": "88a0f4c8-3b5b-49c0-9ae1-ace577723843",
   "metadata": {},
   "source": [
    "- job column will need to be stripped and lowered\n",
    "- The dataset has 494 unique job titles, with each title appearing one to six times. After sorting the column values, I noticed similar but slightly different job titles. I ran RapidFuzz with a similarity threshold of 80 to identify potential matches, but this resulted in overly broad groupings. To improve accuracy, I changed the similarity threshold to 95, which reduced the matches to 81 from 144. During the preprocessing phase, I plan to replace the less common variations of job titles with the most frequently used version for consistency and standardization.\n",
    "- This plot highlights that the majority of account holders were born between the 1960s and 1990s. Birthdays at either extreme could indicate potential fraud, especially for account holders under 18 at the time of the transaction.\n",
    "\n",
    "**New Column Idea**\n",
    "- Name: 'age_at_trans'\n",
    "- Type: Float\n",
    "- This column will have the customer's age (in years) at the time of the transaction to see if it is an indicator of fraud."
   ]
  }
 ],
 "metadata": {
  "kernelspec": {
   "display_name": "Python 3 (ipykernel)",
   "language": "python",
   "name": "python3"
  },
  "language_info": {
   "codemirror_mode": {
    "name": "ipython",
    "version": 3
   },
   "file_extension": ".py",
   "mimetype": "text/x-python",
   "name": "python",
   "nbconvert_exporter": "python",
   "pygments_lexer": "ipython3",
   "version": "3.12.3"
  }
 },
 "nbformat": 4,
 "nbformat_minor": 5
}
