{
 "cells": [
  {
   "cell_type": "code",
   "execution_count": null,
   "id": "1487945f-da11-4759-8588-b1ef71be31de",
   "metadata": {},
   "outputs": [],
   "source": [
    "#adding libraries\n",
    "import numpy as np\n",
    "import pandas as pd"
   ]
  },
  {
   "cell_type": "code",
   "execution_count": null,
   "id": "b65f2741-4f75-4444-bc5e-6da9ccd0982c",
   "metadata": {},
   "outputs": [],
   "source": [
    "'''\n",
    "Need to rename 'trans_date_trans_time' - but MUST REMEMBER TO INPUT THE NEW COLUMN NAME -\n",
    "OLD NOTES HAVE THE OLD COLUMN NAME - new name is 'trans_dt'\n",
    "'''"
   ]
  },
  {
   "cell_type": "code",
   "execution_count": null,
   "id": "97bcbbf6-14df-4b8f-9f40-8807a40436df",
   "metadata": {},
   "outputs": [],
   "source": [
    "###FIXME: COLUMNS TO DROP\n",
    "\n",
    "#unnamed column\n",
    "df.drop(df.columns[df.columns.str.contains(\n",
    "    'unnamed', case=False)], axis=1, inplace=True)\n",
    "\n",
    "drop_columns = ['first', 'last', 'gender', 'street', 'zip', 'merch_zipcode', 'unix_time']"
   ]
  },
  {
   "cell_type": "code",
   "execution_count": null,
   "id": "a5b27230-e7e8-42ba-a76a-ce6214531e08",
   "metadata": {},
   "outputs": [],
   "source": [
    "###FIXME: DROPING DUPLICATES\n",
    "df.drop_duplicates(inplace=True)"
   ]
  },
  {
   "cell_type": "code",
   "execution_count": null,
   "id": "48871ba2-a9ac-489b-9e99-837de6a07704",
   "metadata": {},
   "outputs": [],
   "source": [
    "###FIXME: CHANGING DATA TYPES\n",
    "datatime_col = ['trans_data_trans_time', 'dob']\n",
    "category col = ['merchant', 'category', 'city', 'state', 'job', 'is_fraud']"
   ]
  },
  {
   "cell_type": "code",
   "execution_count": null,
   "id": "68016119-10ba-433b-8ed8-00fba6f84b28",
   "metadata": {},
   "outputs": [],
   "source": [
    "###FIXME: COLUMNS I'M KEEPING (at least for now)\n",
    "col_labels =['trans_num', 'trans_data_trans_time',   #transaction tracking\n",
    "             'cc_num', 'dob', 'city', 'state', 'job', #customer details\n",
    "             'lat', 'long', 'category', 'is_fraud', 'amt', #transaction details\n",
    "             'city_pop', #geographic description of trans location \n",
    "             'merchant', 'merch_lat', 'merch_long'] #merchant details"
   ]
  },
  {
   "cell_type": "code",
   "execution_count": null,
   "id": "324fb245-c9e0-4dfd-9e0c-2788bfb90ac1",
   "metadata": {},
   "outputs": [],
   "source": [
    "###FIXME: CHANGING DATATYPES\n",
    "\n",
    "#DATETIME\n",
    "df['trans_date_trans_time'] = pd.to_datetime(df['trans_date_trans_time'])\n",
    "df['dob'] = pd.to_datetime(df['dob'])\n",
    "\n",
    "#CATEGORY\n",
    "df[['category', 'merchant', 'job', 'is_fraud', 'state', 'city']] = \n",
    "    df[['category', 'merchant', 'job', 'is_fraud', 'state', 'city']].astype('category')\n",
    "\n"
   ]
  },
  {
   "cell_type": "code",
   "execution_count": 1,
   "id": "a450a0b8-ac7e-41f9-b73a-aac3fb055f08",
   "metadata": {},
   "outputs": [
    {
     "ename": "IndentationError",
     "evalue": "unexpected indent (3902920879.py, line 2)",
     "output_type": "error",
     "traceback": [
      "\u001b[1;36m  Cell \u001b[1;32mIn[1], line 2\u001b[1;36m\u001b[0m\n\u001b[1;33m    'city', 'state', 'lat', 'long', 'city_pop', 'job', 'dob', 'trans_num',\u001b[0m\n\u001b[1;37m    ^\u001b[0m\n\u001b[1;31mIndentationError\u001b[0m\u001b[1;31m:\u001b[0m unexpected indent\n"
     ]
    }
   ],
   "source": [
    "###MY SHORTHAND \n",
    "'city_pop', \n",
    "'job', \n",
    "'dob', \n",
    "\n"
   ]
  },
  {
   "cell_type": "code",
   "execution_count": null,
   "id": "d165d90a-8879-4467-8b8d-8733223d9631",
   "metadata": {},
   "outputs": [],
   "source": [
    "### FIXME: NEW COLUMN STAGING\n",
    "\n",
    "\n",
    "online - 'shopping_net', 'misc_net', 'grocery_net'\n",
    "in person - 'gas_transport', 'grocery_pos', 'shopping_pos', 'misc_pos', 'misc_pos', \n",
    "unknown - 'home', 'kids_pets', 'entertainment', 'food_dining', 'personal_care', 'health_fitness', 'travel'"
   ]
  },
  {
   "cell_type": "code",
   "execution_count": null,
   "id": "30d3183c-806f-4056-bba5-04d0171bbc91",
   "metadata": {},
   "outputs": [],
   "source": [
    "#FIXME MORE COLUMN STAGING\n",
    "'transaction_type' : Online/In-Person/Mixed Indicator\n",
    "'transaction_distance': The distance between transaction long/lat and user's cords\n",
    "'merch_distance': The distance between the merchant's lat/lon and the user's city/state\n",
    "'location_match': A categorical column indicating whether the transactio location matches the user's city/state"
   ]
  },
  {
   "cell_type": "markdown",
   "id": "718394e8-38c9-4e90-a4af-31287bc77f21",
   "metadata": {},
   "source": [
    "### New Column Ideas\n",
    "**Online/In-Person/Mixed Indicator**\n",
    "- Name: \"transaction_type\"\n",
    "- Type: Category\n",
    "- Values: 0: Unknown/Mixed, 1: Online, 2: In-Person\n",
    "- \n",
    "###NOTES ABOUT LAT AND LONG - THEY HAVE LOW NUMBER OF UNIQUE VALUES###\n",
    "\n",
    "**Distance From Transaction to Card Holder**\n",
    "- Distance between the transaction's latitude/longitude and the user's city/state coordinates\n",
    "- Name: \"transactional_distance\"\n",
    "- Type: Float\n",
    "\n",
    "**Merchant Distance**\n",
    "- Distance between the merchant's latitude/longitude (merch_long, merch_lat) and the user's city/state.\n",
    "- Name: \"merch_distance\"\n",
    "- Type: Float\n",
    "\n",
    "**Location Match Indicator**\n",
    "- Indicates whether the transaction location matches the user's city/state.\n",
    "- Name: \"location_match\"\n",
    "- Type: Category\n",
    "- Values: 1: Matches, 0: Does not match\n",
    "\n",
    "Processing resources and time will determine if columns are added. This will be researched further during feature creation. "
   ]
  },
  {
   "cell_type": "code",
   "execution_count": null,
   "id": "4675310c-1354-4bfb-b64f-86840c0d6834",
   "metadata": {},
   "outputs": [],
   "source": [
    "### New Column Ideas\n",
    "**Latitude and Longitude for Customer's City**\n",
    "- Name: 'cust_lat' & 'cust_long'\n",
    "- Type: Float\n",
    "\n",
    "Create two new columns, which will be populated based on the 'city' and 'state' pair vaules. Once created, the 'city' column can be dropped to prevent false patterns. "
   ]
  },
  {
   "cell_type": "code",
   "execution_count": null,
   "id": "ec38806c-7ab1-435f-9369-801609245a3f",
   "metadata": {},
   "outputs": [],
   "source": [
    "New Column Ideas¶\n",
    "Separate fields for Date, Year, Month, Day\n",
    "\n",
    "Name: 'date', 'year', 'month', 'day'\n",
    "Type: Various\n",
    "To analyze specific transaction patterns by specific date and time components.\n",
    "Week & Quarter\n",
    "\n",
    "Name: 'week' & 'quarter'\n",
    "Type: Category\n",
    "To analyze seasonal patterns and time-related outliers.\n",
    "Running Transaction Averages and Counts\n",
    "\n",
    "Name: 'trans_by_last_hr', 'hourly_trans_avg','trans_by_last_day', 'daily_trans_avg', 'amt_last_hour', 'amt_last_day', 'avg_hr_amt', 'avg_daily_amt'\n",
    "Type: Float\n",
    "To track spending patterns for individual customers, enabling the detection of unusual spikes in transaction frequency or amount."
   ]
  },
  {
   "cell_type": "code",
   "execution_count": null,
   "id": "e3d2ce94-8512-4d65-ba1b-18a321ce853a",
   "metadata": {},
   "outputs": [],
   "source": []
  },
  {
   "cell_type": "code",
   "execution_count": null,
   "id": "679cc049-45ee-4229-8076-13b585f263dc",
   "metadata": {},
   "outputs": [],
   "source": []
  },
  {
   "cell_type": "markdown",
   "id": "d0f04744-2bb0-4f3e-b28f-a8696a301841",
   "metadata": {},
   "source": [
    "Columns to be renamed - 'trans_date_trans_time' to 'trans_dt'\n",
    "\n",
    "Columns that will be dropped before feature creation- 'unnamed', 'first', 'last', 'gender', 'street', 'zip', 'merch_zipcode', 'unix_time'\n",
    "\n",
    "- no duplicates found\n",
    "\n",
    "###Data Type Changes\n",
    "- datetime - 'trans_dt', 'dob'\n",
    "- category 'merchant', 'category', 'city', 'state', 'job', 'is_fraud'\n",
    "\n",
    "###Potential New Features:\n",
    "'transaction_type', 'merch_distance', 'location_match',  'cust_lat', 'cust_long', 'date', 'year', 'month', 'day', 'week' & 'quarter', 'trans_by_last_hr', 'hourly_trans_avg','trans_by_last_day', 'daily_trans_avg', 'amt_last_hour', 'amt_last_day', 'avg_hr_amt', 'avg_daily_amt'\n",
    "\n",
    "Columns that will not be changed - 'is_fraud', 'amt', 'cc_num', 'lat', 'long', 'merch_lat', 'merch_long', 'state'\n",
    "\n",
    "Columns to be dropped after being used to make new features: 'city', "
   ]
  }
 ],
 "metadata": {
  "kernelspec": {
   "display_name": "Python 3 (ipykernel)",
   "language": "python",
   "name": "python3"
  },
  "language_info": {
   "codemirror_mode": {
    "name": "ipython",
    "version": 3
   },
   "file_extension": ".py",
   "mimetype": "text/x-python",
   "name": "python",
   "nbconvert_exporter": "python",
   "pygments_lexer": "ipython3",
   "version": "3.12.3"
  }
 },
 "nbformat": 4,
 "nbformat_minor": 5
}
